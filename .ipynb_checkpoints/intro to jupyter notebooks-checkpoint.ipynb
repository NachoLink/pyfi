{
 "cells": [
  {
   "cell_type": "markdown",
   "metadata": {},
   "source": [
    "Welcome! You have just launched a live example of an Jupyter Notebook. The notebook is an open-source, interactive computing environment that lets you combine live code, narrative text, mathematics, plots and rich media in one document. Notebook documents provide a complete reproducible record of a computation and its results and can be shared with colleagues (through, for example, email, web-hosting services such as GitHub, Dropbox, and nbviewer).\n",
    "\n",
    "Adapted from the [Nature IPython Interactive Notebook demo](https://www.nature.com/news/ipython-interactive-demo-7.21492)."
   ]
  },
  {
   "cell_type": "markdown",
   "metadata": {},
   "source": [
    "You can edit anything in this temporary demonstration notebook, including the text you are reading."
   ]
  },
  {
   "cell_type": "markdown",
   "metadata": {},
   "source": [
    "This notebook showcases some of IPython's capabilities for analysts."
   ]
  },
  {
   "cell_type": "markdown",
   "metadata": {},
   "source": [
    "# Basic Python code and plotting\n",
    "The box below (known as a code cell) contains the Python code to plot $y=x^2$ over the range [0,5]. The blue comments preceded by # explain what the code does.\n",
    "\n",
    "To run the code:\n",
    "\n",
    "1. Click on the cell to select it.\n",
    "2. Press SHIFT+ENTER on your keyboard or press the play button in the toolbar above.\n",
    "\n",
    "A full tutorial for using the notebook interface is available [here](https://nbviewer.jupyter.org/github/ipython/ipython/blob/2.x/examples/Notebook/Index.ipynb)."
   ]
  },
  {
   "cell_type": "code",
   "execution_count": 1,
   "metadata": {},
   "outputs": [
    {
     "data": {
      "image/png": "[encoded data removed]",
      "text/plain": [
       "<Figure size 432x288 with 1 Axes>"
      ]
     },
     "metadata": {
      "needs_background": "light"
     },
     "output_type": "display_data"
    }
   ],
   "source": [
    "# Import matplotlib (plotting) and numpy (numerical arrays).\n",
    "# This enables their use in the Notebook.\n",
    "%matplotlib inline\n",
    "import matplotlib.pyplot as plt \n",
    "import numpy as np\n",
    "\n",
    "# Create an array of 30 values for x equally spaced from 0 to 5. \n",
    "x = np.linspace(0, 5, 30)\n",
    "y = x**2\n",
    "\n",
    "# Plot y versus x\n",
    "fig, ax = plt.subplots(nrows=1, ncols=1)\n",
    "ax.plot(x, y, color='red')\n",
    "ax.set_xlabel('x')\n",
    "ax.set_ylabel('y')\n",
    "ax.set_title('A simple graph of $y=x^2$');"
   ]
  },
  {
   "cell_type": "markdown",
   "metadata": {},
   "source": [
    "Above, you should see a plot of $y=x^2$.\n",
    "\n",
    "You can edit this code and re-run it. For example, try replacing y = x**2 with y=np.sin(x). For a list of valid functions, see the NumPy Reference Manual. You can also update the plot title and axis labels.\n",
    "\n",
    "Text in the plot as well as narrative text in the notebook can contain equations that are formatted using LATEX. To edit text written in LATEX, double click on the text or press ENTER when the text is selected.\n",
    "\n",
    "\n"
   ]
  },
  {
   "cell_type": "markdown",
   "metadata": {},
   "source": [
    "# More advanced plotting \n",
    "\n",
    "This example uses the the standard ARPS equation to estimate the decline in oil or gas production from an oil well in North Dakota. \n",
    "\n",
    "This example uses several Python libraries that are central to data analysis in Python: Pandas and SciPy. These libraries have functions we can use that save us time and ensure the code is consistent and replicable. "
   ]
  },
  {
   "cell_type": "code",
   "execution_count": 3,
   "metadata": {},
   "outputs": [
    {
     "data": {
      "application/vnd.jupyter.widget-view+json": {
       "model_id": "e2a200cd4d6a422a8c13844d6208e886",
       "version_major": 2,
       "version_minor": 0
      },
      "text/plain": [
       "interactive(children=(FloatSlider(value=4.0, description='frequency', max=22.0, min=1.0, step=0.5), IntSlider(…"
      ]
     },
     "metadata": {},
     "output_type": "display_data"
    }
   ],
   "source": [
    "# Import pandas (DataFrames), SciPy (optimization functions), and matplotlib (plotting).\n",
    "import pandas as pd\n",
    "from scipy.optimize import curve_fit\n",
    "import matplotlib.pyplot as plt\n",
    "%matplotlib inline\n",
    "\n",
    "# Creating some functions we can use to calcuate the hyperbolic curve and initial max production level\n",
    "def hyperbolic_equation(t, qi, b, di):\n",
    "    return qi/((1.0+b*di*t)**(1.0/b)) \n",
    "\n",
    "def get_max_initial_production(df, number_first_months, variable_column, date_column):\n",
    "    df=df.sort_values(by=date_column)\n",
    "    df_beginning_production=df.head(number_first_months)\n",
    "    return df_beginning_production[variable_column].max()\n",
    "\n",
    "# Reading the data into Python and saving it as a Pandas DataFrame\n",
    "file_path='short.csv'\n",
    "desired_product_type='Oil' # or 'Gas'\n",
    "    \n",
    "df=pd.read_csv(file_path)\n",
    "df['ReportDate']=pd.to_datetime(df['ReportDate'])\n",
    "\n",
    "# Evaluating the decline curve and saving it as a column in the DataFrame called \"Hyperbolic Predicted\"\n",
    "qi=get_max_initial_production(df, 5, desired_product_type, 'ReportDate')\n",
    "popt_hyp, pcov_hyp=curve_fit(hyperbolic_equation, df['Days_Online'], \n",
    "                                    df[desired_product_type],bounds=(0, [qi,2,20]))\n",
    "df.loc[:,'Hyperbolic_Predicted']=hyperbolic_equation(df['Days_Online'], *popt_hyp)\n",
    "\n",
    "# Plotting the actual and predicted production values\n",
    "df.plot(x='Days_Online', y=[desired_product_type, \"Hyperbolic_Predicted\"], \n",
    "                                    title=f\"Decline curve for {desired_product_type} Production\")"
   ]
  },
  {
   "cell_type": "markdown",
   "metadata": {},
   "source": [
    "Change the desired product type to 'Gas' and rerun the example. Note how the values and even the title change. "
   ]
  },
  {
   "cell_type": "markdown",
   "metadata": {},
   "source": [
    "# Next steps\n",
    "The IPython Project maintains a curated list of notebooks that provide examples of its use across a wide range of fields and topics. You can find these examples at this gallery.\n",
    "\n",
    "Directions on how to install software to run the IPython notebook on your own computer can be found here.\n",
    "\n",
    "It is also possible to run a notebook in the cloud, without installing the software, using AWS SageMaker, among other tools.\n",
    "\n",
    "The notebook is being moved into a project called Jupyter, which aims to make the IPython software package more compatible with other languages, including Julia and R. Further information can be found on the IPython and Jupyter websites."
   ]
  },
  {
   "cell_type": "code",
   "execution_count": null,
   "metadata": {},
   "outputs": [],
   "source": []
  }
 ],
 "metadata": {
  "kernelspec": {
   "display_name": "Python 3",
   "language": "python",
   "name": "python3"
  },
  "language_info": {
   "codemirror_mode": {
    "name": "ipython",
    "version": 3
   },
   "file_extension": ".py",
   "mimetype": "text/x-python",
   "name": "python",
   "nbconvert_exporter": "python",
   "pygments_lexer": "ipython3",
   "version": "3.7.4"
  },
  "toc": {
   "base_numbering": 1,
   "nav_menu": {},
   "number_sections": true,
   "sideBar": true,
   "skip_h1_title": false,
   "title_cell": "Table of Contents",
   "title_sidebar": "Contents",
   "toc_cell": false,
   "toc_position": {},
   "toc_section_display": true,
   "toc_window_display": false
  }
 },
 "nbformat": 4,
 "nbformat_minor": 2
}
