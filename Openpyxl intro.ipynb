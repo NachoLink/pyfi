{
 "cells": [
  {
   "cell_type": "markdown",
   "metadata": {},
   "source": [
    "# Summary\n",
    "\n",
    "The hardest part about doing financial workloads in Python is that their Excel spreadsheets are not formatted for data science. Here are some of the specific issues that make it hard for Fin groups to use Python:\n",
    "\n",
    "* *Data is not Tidy:* Excel spreadsheets are formatted for presentation not data science. People include blank lines and cells to make the sheets look pretty. But data science (Python and all the BI tools) expects data to be in Tidy Format. Tidy data conforms to three rules: \n",
    "    * Each variable must have its own column.\n",
    "    * Each observation must have its own row.\n",
    "    * Each value must have its own cell.\n",
    "* *No transparency:* Excel spreadsheets don’t have comments making it hard to trace back why certain transformations occurred. In Python all transformations can be commented to allow for greater transparency.\n",
    "* *No single source of truth:* Excel spreadsheets rarely connect to a source of record. Instead, they pull values from other spreadsheets using Power Query or other tools. Tracing back all the occasions for a cell is very difficult.\n",
    "* *Different date standards:* Some Python work loads use work weeks instead of dates. This is an issue because there are multiple standards one could use to align work weeks to dates. Data science algortithms usually expect dates to be in a standard DateTime format. \n",
    "\n",
    "\n",
    "Openpyxl is a library that allows users to create, open, edit, and save Excel files. After completing this tutorial, you will know:\n",
    "* How to use Openpyxl to open and manipuate an Excel workbook in Python.\n",
    "\n",
    "Let’s get started."
   ]
  },
  {
   "cell_type": "markdown",
   "metadata": {},
   "source": [
    "# Tutorial Overview\n",
    "This tutorial is divided into 2 parts:\n",
    "1. How to use Openpyxl\n",
    "2. When to use Openpyxl"
   ]
  },
  {
   "cell_type": "markdown",
   "metadata": {},
   "source": [
    "# How to use Openpyxl"
   ]
  },
  {
   "cell_type": "code",
   "execution_count": 7,
   "metadata": {},
   "outputs": [
    {
     "data": {
      "text/plain": [
       "['Orders', 'Sales-Reps', 'Companies', 'Regions', 'Summary', 'Pivots']"
      ]
     },
     "execution_count": 7,
     "metadata": {},
     "output_type": "execute_result"
    }
   ],
   "source": [
    "import openpyxl\n",
    "\n",
    "file = \"data/XL-02-PC-05-Cleaning-Up-Data-Before.xlsx\"\n",
    "wb = openpyxl.load_workbook(file)\n",
    "wb.sheetnames"
   ]
  },
  {
   "cell_type": "code",
   "execution_count": 8,
   "metadata": {},
   "outputs": [
    {
     "data": {
      "text/plain": [
       "<Worksheet \"Sheet\">"
      ]
     },
     "execution_count": 8,
     "metadata": {},
     "output_type": "execute_result"
    }
   ],
   "source": [
    "# create a new worksheet\n",
    "\n",
    "wb.create_sheet() "
   ]
  },
  {
   "cell_type": "code",
   "execution_count": 9,
   "metadata": {
    "code_folding": []
   },
   "outputs": [
    {
     "data": {
      "text/plain": [
       "<Worksheet \"First Sheet\">"
      ]
     },
     "execution_count": 9,
     "metadata": {},
     "output_type": "execute_result"
    }
   ],
   "source": [
    "# create a new worksheet, make it the first sheet in the workbook and name it\n",
    "\n",
    "wb.create_sheet(index=0, title='First Sheet')"
   ]
  },
  {
   "cell_type": "code",
   "execution_count": 10,
   "metadata": {},
   "outputs": [],
   "source": [
    "# save the worbook with the same name as the origional\n",
    "\n",
    "wb.save(file) "
   ]
  },
  {
   "cell_type": "markdown",
   "metadata": {},
   "source": [
    "# When to use\n",
    "\n",
    "Openpyxl make it easy to work with Excel workbooks in Python. If the goal is just do do data analysis, then using Pandas is likely the better option (`df = pd.read_excel(file)`). \n",
    "\n",
    "An advantage of Openpyxl is the ability to move between worksheets within a workbook. "
   ]
  },
  {
   "cell_type": "markdown",
   "metadata": {},
   "source": [
    "# Extensions\n",
    "\n",
    "This section lists some ideas for extending the tutorial that you may wish to explore.\n",
    "* Describe three examples when Openpyxl would be better than using Excel directly.\n",
    "* Complete the next example that uses Openpyxl to clean a dataset. "
   ]
  },
  {
   "cell_type": "markdown",
   "metadata": {},
   "source": [
    "# Further Reading\n",
    "This section provides more resources on the topic if you are looking to go deeper.\n",
    "\n",
    "## Books\n",
    "* Automate the boring stuff, by Al Sweigart. Chapter 13. https://automatetheboringstuff.com/2e/chapter13/\n",
    "\n",
    "## APIs\n",
    "* Openpyxl. https://openpyxl.readthedocs.io/en/stable/"
   ]
  },
  {
   "cell_type": "markdown",
   "metadata": {},
   "source": [
    "# Summary\n",
    "\n",
    "In this tutorial, you were introduced to the Openpyxl library. Specifically, you learned:\n",
    "* How to use Openpyxl to open and manipuate an Excel workbook in Python."
   ]
  },
  {
   "cell_type": "markdown",
   "metadata": {},
   "source": [
    "# Next\n",
    "\n",
    "In the next section, you will use Openpyxl to clean up a workbook. "
   ]
  }
 ],
 "metadata": {
  "kernelspec": {
   "display_name": "Python 3",
   "language": "python",
   "name": "python3"
  },
  "language_info": {
   "codemirror_mode": {
    "name": "ipython",
    "version": 3
   },
   "file_extension": ".py",
   "mimetype": "text/x-python",
   "name": "python",
   "nbconvert_exporter": "python",
   "pygments_lexer": "ipython3",
   "version": "3.7.4"
  },
  "toc": {
   "base_numbering": 1,
   "nav_menu": {},
   "number_sections": true,
   "sideBar": true,
   "skip_h1_title": false,
   "title_cell": "Table of Contents",
   "title_sidebar": "Contents",
   "toc_cell": false,
   "toc_position": {},
   "toc_section_display": true,
   "toc_window_display": false
  }
 },
 "nbformat": 4,
 "nbformat_minor": 2
}
