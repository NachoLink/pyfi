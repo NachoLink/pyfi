{
 "cells": [
  {
   "cell_type": "markdown",
   "metadata": {},
   "source": [
    "# Interacting with Excel"
   ]
  },
  {
   "cell_type": "markdown",
   "metadata": {},
   "source": [
    "The documentation: https://openpyxl.readthedocs.io/en/stable/\n",
    "\n",
    "For many use cases, you'll only need Pandas, since it contains some of the functionality of the openpyxl package right out of the box.  Other times, you'll want to import openpyxl directly.  In this case, we'll explicitly import openpyxl, as this allows us to write data to an existing Excel file."
   ]
  },
  {
   "cell_type": "code",
   "execution_count": null,
   "metadata": {
    "collapsed": true
   },
   "outputs": [],
   "source": [
    "import pandas as pd\n",
    "import openpyxl"
   ]
  },
  {
   "cell_type": "markdown",
   "metadata": {},
   "source": [
    "### Specify paths to input and output files"
   ]
  },
  {
   "cell_type": "code",
   "execution_count": null,
   "metadata": {},
   "outputs": [],
   "source": [
    "path_to_data = 'Support_Files/excel_input.xlsx'\n",
    "path_to_output = 'Support_Files/excel_output_new_file.xlsx'\n",
    "\n",
    "print('The path to the Excel file we are going to read is:')\n",
    "print(path_to_data)\n",
    "\n",
    "print('\\nThe path to the new Excel file we are going to create is:')\n",
    "print(path_to_output)"
   ]
  },
  {
   "cell_type": "markdown",
   "metadata": {},
   "source": [
    "### Read data from Excel"
   ]
  },
  {
   "cell_type": "code",
   "execution_count": null,
   "metadata": {},
   "outputs": [],
   "source": [
    "retail = pd.read_excel(path_to_data, sheet_name='retail')\n",
    "mfn = pd.read_excel(path_to_data, sheet_name='mfn')\n",
    "\n",
    "print('retail data:\\n')\n",
    "print(retail)\n",
    "\n",
    "print('\\nmfn data:\\n')\n",
    "print(mfn)"
   ]
  },
  {
   "cell_type": "markdown",
   "metadata": {},
   "source": [
    "### Generate the desired output\n",
    "In this case, we'll create another data frame that will become a tab in Excel"
   ]
  },
  {
   "cell_type": "code",
   "execution_count": null,
   "metadata": {},
   "outputs": [],
   "source": [
    "combined = pd.concat([retail, mfn])\n",
    "\n",
    "print('combined data:\\n')\n",
    "print(combined)"
   ]
  },
  {
   "cell_type": "markdown",
   "metadata": {},
   "source": [
    "### Option 1: Create a new Excel file"
   ]
  },
  {
   "cell_type": "code",
   "execution_count": null,
   "metadata": {
    "collapsed": true
   },
   "outputs": [],
   "source": [
    "combined.to_excel(path_to_output, sheet_name='combined', index=False)"
   ]
  },
  {
   "cell_type": "markdown",
   "metadata": {},
   "source": [
    "### Option 2: Write new data to the same Excel file\n",
    "\n",
    "WARNING: If used incorrectly, this can cause data loss in your original file.  If you aren't sure, create a backup of your input file first."
   ]
  },
  {
   "cell_type": "code",
   "execution_count": null,
   "metadata": {},
   "outputs": [],
   "source": [
    "# create a workbook object using openpyxl\n",
    "workbook = openpyxl.load_workbook(path_to_data)\n",
    "\n",
    "# create a pandas ExcelWriter object from the same source file\n",
    "writer = pd.ExcelWriter(path_to_data, engine='openpyxl') \n",
    "\n",
    "# link the two objects together\n",
    "writer.book = workbook\n",
    "\n",
    "# save\n",
    "combined.to_excel(writer, sheet_name='combined', index=False)\n",
    "writer.save()"
   ]
  },
  {
   "cell_type": "code",
   "execution_count": null,
   "metadata": {
    "collapsed": true
   },
   "outputs": [],
   "source": []
  }
 ],
 "metadata": {
  "kernelspec": {
   "display_name": "Python 3",
   "language": "python",
   "name": "python3"
  },
  "language_info": {
   "codemirror_mode": {
    "name": "ipython",
    "version": 3
   },
   "file_extension": ".py",
   "mimetype": "text/x-python",
   "name": "python",
   "nbconvert_exporter": "python",
   "pygments_lexer": "ipython3",
   "version": "3.7.4"
  },
  "toc": {
   "base_numbering": 1,
   "nav_menu": {},
   "number_sections": true,
   "sideBar": true,
   "skip_h1_title": false,
   "title_cell": "Table of Contents",
   "title_sidebar": "Contents",
   "toc_cell": false,
   "toc_position": {},
   "toc_section_display": true,
   "toc_window_display": false
  }
 },
 "nbformat": 4,
 "nbformat_minor": 2
}
