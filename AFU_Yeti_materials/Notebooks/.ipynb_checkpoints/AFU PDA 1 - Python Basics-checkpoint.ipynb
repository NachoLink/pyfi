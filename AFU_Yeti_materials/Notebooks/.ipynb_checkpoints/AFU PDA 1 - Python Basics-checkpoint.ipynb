{
 "cells": [
  {
   "cell_type": "markdown",
   "metadata": {},
   "source": [
    "# Summary\n",
    "\n",
    "Getting started is the hardest part of learning Python. This is the first lesson in a series of tutorials designed to introduce Python as a programming language and how it can be used for business analysis. \n",
    "\n",
    "After completing this tutorial, you will know:\n",
    "* The overall structure of Python as a programming language\n",
    "* How to do basic operations like addition and subtraction\n",
    "* The various data types available in Python\n",
    "* How to use loops and conditional statements\n",
    "\n",
    "Let’s get started."
   ]
  },
  {
   "cell_type": "markdown",
   "metadata": {},
   "source": [
    "# Tutorial Overview\n",
    "This tutorial is divided into 5 parts:\n",
    "1. Introduction to Python\n",
    "2. Basic Operations\n",
    "3. Data Types\n",
    "4. Flow Control\n",
    "5. Your turn!"
   ]
  },
  {
   "cell_type": "markdown",
   "metadata": {},
   "source": [
    "# Introduction to Python\n",
    "\n",
    "Python is a free open source scripting language. It is used for a wide range of tasks including website development and data analysis.\n",
    "\n",
    "Python is an \"object oriented\" language which means that the basic unit of everything in Python is an object. We manipulate objects with methods or functions. An object could be a sentence, a list of numbers, an image, a spreadsheet, or something else. "
   ]
  },
  {
   "cell_type": "markdown",
   "metadata": {},
   "source": [
    "## How to use Python\n",
    "\n",
    "Python is free and open source, but most people work with Python through an Integrated Development Environment (IDE). This project is built in a Jupyter Notebook. This is just an interface for writing Python code. Some people prefer other interfaces such as PyCharm, Visual Basic Studio, or Spyder. \n",
    "\n",
    "Amazon SageMaker uses Jupyter Notebooks. "
   ]
  },
  {
   "cell_type": "markdown",
   "metadata": {},
   "source": [
    "## Comments in code\n",
    "\n",
    "The hash sign is used for comments in Python. Anything following a hash sign will not be executed. \n",
    "\n",
    "You can also create a block of comments using triple quotation marks. In Python, you can use one quote mark or the double quote mark - so long as you are consistent."
   ]
  },
  {
   "cell_type": "code",
   "execution_count": null,
   "metadata": {},
   "outputs": [],
   "source": [
    "# https://github.com/rajathkmp/Python-Lectures"
   ]
  },
  {
   "cell_type": "code",
   "execution_count": null,
   "metadata": {},
   "outputs": [],
   "source": [
    "# jupyter notebooks are an interface for writing python code\n",
    "# it is NOT a website\n",
    "'''\n",
    "here is comment \n",
    "another comment \n",
    "'''"
   ]
  },
  {
   "cell_type": "markdown",
   "metadata": {},
   "source": [
    "# Basic Operations "
   ]
  },
  {
   "cell_type": "code",
   "execution_count": null,
   "metadata": {},
   "outputs": [],
   "source": [
    "print('Hello World')"
   ]
  },
  {
   "cell_type": "markdown",
   "metadata": {},
   "source": [
    "### Assign values to variables"
   ]
  },
  {
   "cell_type": "markdown",
   "metadata": {},
   "source": [
    "A single equal sign is used to assign a value to an object.\n",
    "\n",
    "Two equal signs in a row is used to test equality. "
   ]
  },
  {
   "cell_type": "code",
   "execution_count": null,
   "metadata": {},
   "outputs": [],
   "source": [
    "x = 2\n",
    "y = 5\n",
    "\n",
    "x+y"
   ]
  },
  {
   "cell_type": "markdown",
   "metadata": {},
   "source": [
    "### Test if two variables are equal"
   ]
  },
  {
   "cell_type": "code",
   "execution_count": null,
   "metadata": {},
   "outputs": [],
   "source": [
    "x==y"
   ]
  },
  {
   "cell_type": "markdown",
   "metadata": {},
   "source": [
    "# Data Types"
   ]
  },
  {
   "cell_type": "markdown",
   "metadata": {},
   "source": [
    "## Numbers\n",
    "Integers and floating point numbers can be used interchangeably (in general)"
   ]
  },
  {
   "cell_type": "code",
   "execution_count": 1,
   "metadata": {},
   "outputs": [
    {
     "name": "stdout",
     "output_type": "stream",
     "text": [
      "The type of 5 is <class 'int'>\n",
      "The type of 5.0 is <class 'float'>\n"
     ]
    }
   ],
   "source": [
    "val_int = 5\n",
    "val_float = 5.0\n",
    "\n",
    "print('The type of {0} is {1}'.format(val_int, type(val_int)))\n",
    "print('The type of {0} is {1}'.format(val_float, type(val_float)))"
   ]
  },
  {
   "cell_type": "markdown",
   "metadata": {},
   "source": [
    "## Strings\n",
    "A sting is a list of characters. It can be a random list of characters or words and sentences. There are special methods we can apply to strings such as manipulating the case or finding a letter. "
   ]
  },
  {
   "cell_type": "code",
   "execution_count": 2,
   "metadata": {},
   "outputs": [],
   "source": [
    "a = 'Hello World'"
   ]
  },
  {
   "cell_type": "code",
   "execution_count": 3,
   "metadata": {},
   "outputs": [
    {
     "data": {
      "text/plain": [
       "'HELLO WORLD'"
      ]
     },
     "execution_count": 3,
     "metadata": {},
     "output_type": "execute_result"
    }
   ],
   "source": [
    "a.upper()"
   ]
  },
  {
   "cell_type": "code",
   "execution_count": 5,
   "metadata": {},
   "outputs": [
    {
     "data": {
      "text/plain": [
       "6"
      ]
     },
     "execution_count": 5,
     "metadata": {},
     "output_type": "execute_result"
    }
   ],
   "source": [
    "# This will return the position of the letter 'W'. In Python (and most computer languages) counting begins with 0\n",
    "\n",
    "a.find('W')"
   ]
  },
  {
   "cell_type": "markdown",
   "metadata": {},
   "source": [
    "## Lists\n",
    "An object that stores any type of object in order. This is the storage structure to use most often. The list doesn't have to be the same kind of object. You can mix intergers, floats, and strings. However, lists are often used for computation in which case you want all the objects in a list to be the same. "
   ]
  },
  {
   "cell_type": "code",
   "execution_count": null,
   "metadata": {},
   "outputs": [],
   "source": [
    "mylist = [3,6,1,6,3,7,3,7,3,99,3,'alpha']\n",
    "mylist"
   ]
  },
  {
   "cell_type": "code",
   "execution_count": null,
   "metadata": {},
   "outputs": [],
   "source": [
    "# select 10th item (note 0-indexed)\n",
    "mylist[9]"
   ]
  },
  {
   "cell_type": "code",
   "execution_count": null,
   "metadata": {},
   "outputs": [],
   "source": [
    "# slicing list \n",
    "mylist[3:8]"
   ]
  },
  {
   "cell_type": "code",
   "execution_count": null,
   "metadata": {},
   "outputs": [],
   "source": [
    "list(range(10))"
   ]
  },
  {
   "cell_type": "code",
   "execution_count": null,
   "metadata": {},
   "outputs": [],
   "source": [
    "sum(list(range(10)))"
   ]
  },
  {
   "cell_type": "code",
   "execution_count": null,
   "metadata": {},
   "outputs": [],
   "source": [
    "# this will throw an error.  Why doesn't it work?\n",
    "sum(mylist)"
   ]
  },
  {
   "cell_type": "markdown",
   "metadata": {},
   "source": [
    "### Exercise: \n",
    "- Create a list of names of a few people on your team\n",
    "\n",
    "- Print the value of the first and third names in the list\n",
    "\n",
    "- Test if those two values are equal to each other (they are probably not)"
   ]
  },
  {
   "cell_type": "code",
   "execution_count": null,
   "metadata": {},
   "outputs": [],
   "source": [
    "### CODE FOR ABOVE EXERCISE ###\n",
    "\n",
    "\n",
    "\n"
   ]
  },
  {
   "cell_type": "markdown",
   "metadata": {},
   "source": [
    "## Dictionaries\n",
    "Dictionaries are key-value storage. Each item has a key (before the colon) and a value (after the colon). It can be used to store alias names, related objects, or even functions. Python uses dictionaries extensively but at the beginning these can be tough to use. "
   ]
  },
  {
   "cell_type": "code",
   "execution_count": null,
   "metadata": {},
   "outputs": [],
   "source": [
    "currency_map = {\n",
    "    'Canada': 'CAD', \n",
    "    'US': 'USD', \n",
    "    'United Kingdom': 'GBP', \n",
    "}\n",
    "\n",
    "currency_map"
   ]
  },
  {
   "cell_type": "code",
   "execution_count": null,
   "metadata": {},
   "outputs": [],
   "source": [
    "currency_map['Canada']"
   ]
  },
  {
   "cell_type": "code",
   "execution_count": null,
   "metadata": {},
   "outputs": [],
   "source": [
    "currency_map['China'] = 'CN'"
   ]
  },
  {
   "cell_type": "code",
   "execution_count": null,
   "metadata": {},
   "outputs": [],
   "source": [
    "currency_map['China']"
   ]
  },
  {
   "cell_type": "code",
   "execution_count": 31,
   "metadata": {},
   "outputs": [],
   "source": [
    "restaurant_rating = {\n",
    "    \"fast\": 0,\n",
    "    \"Italian\": 3,\n",
    "    \"Tex-Mex\": 5\n",
    "}"
   ]
  },
  {
   "cell_type": "code",
   "execution_count": 32,
   "metadata": {},
   "outputs": [
    {
     "name": "stdout",
     "output_type": "stream",
     "text": [
      "I give fast food a rating of 0\n",
      "I give Italian food a rating of 3\n",
      "I give Tex-Mex food a rating of 5\n"
     ]
    }
   ],
   "source": [
    "# By convention, we use k for the dictionary key and v for the dictionary value\n",
    "\n",
    "for k, v in restaurant_rating.items():\n",
    "    print(\"I give {k} food a rating of {v}\".format(k=k, v=v))"
   ]
  },
  {
   "cell_type": "markdown",
   "metadata": {},
   "source": [
    "### Exercise:\n",
    "- What is the currency code for the United Kingdom? Print it.\n",
    "\n",
    "- Add a key-value pair to the dictionary that maps Japan to its currency (JPY)\n",
    "\n",
    "- Print the currency code for Japan."
   ]
  },
  {
   "cell_type": "code",
   "execution_count": null,
   "metadata": {},
   "outputs": [],
   "source": [
    "### CODE FOR ABOVE EXERCISE ###\n",
    "\n",
    "\n",
    "\n"
   ]
  },
  {
   "cell_type": "markdown",
   "metadata": {},
   "source": [
    "# Control Flow"
   ]
  },
  {
   "cell_type": "markdown",
   "metadata": {},
   "source": [
    " ## IF Statement\n",
    "Notice the indentations (tabs) after the \"if\" and \"else\" lines.  Tabs are important in Python as their placement often affects how code is executed.  In an if statement, the tabs determine when the if/else sections end."
   ]
  },
  {
   "cell_type": "code",
   "execution_count": null,
   "metadata": {},
   "outputs": [],
   "source": [
    "x = 12\n",
    "if x > 10:\n",
    "    # this code is executed only if the condition is True\n",
    "    print(\"hello\")\n",
    "else:\n",
    "    # otherwise, this code is executed\n",
    "    print(\"world\")"
   ]
  },
  {
   "cell_type": "markdown",
   "metadata": {},
   "source": [
    "## For Loop"
   ]
  },
  {
   "cell_type": "code",
   "execution_count": null,
   "metadata": {},
   "outputs": [],
   "source": [
    "mylist = [3,6,1,6,3,7,3,7,3,99,3,'alpha']\n",
    "\n",
    "for e in mylist:\n",
    "    # this code executes multiple times, once for each element in the list\n",
    "    # on each iteration, the variable e changes to the next value\n",
    "    print(e)"
   ]
  },
  {
   "cell_type": "markdown",
   "metadata": {},
   "source": [
    "## List Comprehensions\n",
    "\n",
    "List comprehensions are a convention in Python that allows us to avoid writing loops or conditions. "
   ]
  },
  {
   "cell_type": "code",
   "execution_count": 18,
   "metadata": {},
   "outputs": [
    {
     "name": "stdout",
     "output_type": "stream",
     "text": [
      "['hello']\n",
      "[3, 6, 1, 6, 3, 7, 3, 7, 3, 99, 3, 'alpha']\n"
     ]
    }
   ],
   "source": [
    "# The above condition could be written as a list comprehension this way\n",
    "x = [12]\n",
    "print(\"{word}\".format(word = [\"hello\" if x > 10 else \"world\" for x in x]))\n",
    "\n",
    "# The For Loop would be written this way\n",
    "mylist = [3,6,1,6,3,7,3,7,3,99,3,'alpha']\n",
    "print(\"{item}\".format(item = [item for item in mylist]))"
   ]
  },
  {
   "cell_type": "markdown",
   "metadata": {},
   "source": [
    "## Functions\n",
    "Tabs are important again here.  Functions are defined based on the lines of code that are indented below the \"def\" line."
   ]
  },
  {
   "cell_type": "code",
   "execution_count": null,
   "metadata": {},
   "outputs": [],
   "source": [
    "def firstfunc():\n",
    "    print(\"Hello World!\")\n",
    "    print(\"This is my first function.\")"
   ]
  },
  {
   "cell_type": "code",
   "execution_count": null,
   "metadata": {},
   "outputs": [],
   "source": [
    "firstfunc()"
   ]
  },
  {
   "cell_type": "code",
   "execution_count": null,
   "metadata": {},
   "outputs": [],
   "source": [
    "def times(x,y):  # variables inside parenthesis are the \"parameters\"\n",
    "    z = x*y\n",
    "    return z\n",
    "\n",
    "# note that x and y are defined local to function (in its \"scope\")"
   ]
  },
  {
   "cell_type": "code",
   "execution_count": null,
   "metadata": {},
   "outputs": [],
   "source": [
    "# Why does this line error?\n",
    "a = times()"
   ]
  },
  {
   "cell_type": "code",
   "execution_count": null,
   "metadata": {},
   "outputs": [],
   "source": [
    "# run the function and capture the value it returns by assigning it to the variable c\n",
    "c = times(4,5)\n",
    "print(c)"
   ]
  },
  {
   "cell_type": "markdown",
   "metadata": {},
   "source": [
    "# Your Turn!\n",
    "\n",
    "1) Create a string variable of your name and call it \"name\""
   ]
  },
  {
   "cell_type": "code",
   "execution_count": null,
   "metadata": {},
   "outputs": [],
   "source": []
  },
  {
   "cell_type": "markdown",
   "metadata": {},
   "source": [
    "2) Use a slice (square bracket notation [a:b]) on the string \"name\" to print only your first name"
   ]
  },
  {
   "cell_type": "code",
   "execution_count": null,
   "metadata": {},
   "outputs": [],
   "source": []
  },
  {
   "cell_type": "markdown",
   "metadata": {},
   "source": [
    "3) Create a list, named \"num\", of numbers between 1 and 10, inclusive"
   ]
  },
  {
   "cell_type": "code",
   "execution_count": null,
   "metadata": {},
   "outputs": [],
   "source": []
  },
  {
   "cell_type": "markdown",
   "metadata": {},
   "source": [
    "4) Calculate the sum of all numbers in \"num\" "
   ]
  },
  {
   "cell_type": "code",
   "execution_count": null,
   "metadata": {},
   "outputs": [],
   "source": []
  },
  {
   "cell_type": "markdown",
   "metadata": {},
   "source": [
    "5) Create a function called \"sum_numbers\" that returns the sum of the numbers in a list \n",
    "    (hint 1: parameter should be the list)\n",
    "    (hint 2: make sure you are returning the value, not just printing it)"
   ]
  },
  {
   "cell_type": "code",
   "execution_count": null,
   "metadata": {},
   "outputs": [],
   "source": []
  },
  {
   "cell_type": "markdown",
   "metadata": {},
   "source": [
    "6) Print only the even numbers in num \n",
    "    (hint: calculate remainder with '%')"
   ]
  },
  {
   "cell_type": "code",
   "execution_count": null,
   "metadata": {},
   "outputs": [],
   "source": []
  },
  {
   "cell_type": "markdown",
   "metadata": {},
   "source": [
    "7) Create a function \"product\" that finds the product of all numbers in a list"
   ]
  },
  {
   "cell_type": "code",
   "execution_count": null,
   "metadata": {},
   "outputs": [],
   "source": []
  },
  {
   "cell_type": "markdown",
   "metadata": {},
   "source": [
    "# Extensions\n",
    "\n",
    "This section lists some ideas for extending the tutorial that you may wish to explore.\n",
    "* Describe three examples when Openpyxl would be better than using Excel directly.\n",
    "* Complete the next example that uses Openpyxl to clean a dataset. "
   ]
  },
  {
   "cell_type": "markdown",
   "metadata": {},
   "source": [
    "# Further Reading\n",
    "This section provides more resources on the topic if you are looking to go deeper.\n",
    "\n",
    "## Books\n",
    "* Automate the boring stuff, by Al Sweigart. https://automatetheboringstuff.com/\n",
    "\n",
    "## APIs\n",
    "* Openpyxl. https://openpyxl.readthedocs.io/en/stable/"
   ]
  },
  {
   "cell_type": "markdown",
   "metadata": {},
   "source": [
    "# Summary\n",
    "\n",
    "In this tutorial, you were introduced to the Python programming language. Specifically, you learned:\n",
    "* The structure of Python as a programming language\n",
    "* How to do basic operations like addition and subtraction\n",
    "* The various data types available in Python\n",
    "* How to use loops and conditional statements"
   ]
  },
  {
   "cell_type": "markdown",
   "metadata": {},
   "source": [
    "# Next\n",
    "\n",
    "In the next section, you will Python to do data analysis. "
   ]
  },
  {
   "cell_type": "code",
   "execution_count": null,
   "metadata": {},
   "outputs": [],
   "source": []
  }
 ],
 "metadata": {
  "kernelspec": {
   "display_name": "Python 3",
   "language": "python",
   "name": "python3"
  },
  "language_info": {
   "codemirror_mode": {
    "name": "ipython",
    "version": 3
   },
   "file_extension": ".py",
   "mimetype": "text/x-python",
   "name": "python",
   "nbconvert_exporter": "python",
   "pygments_lexer": "ipython3",
   "version": "3.7.4"
  },
  "toc": {
   "base_numbering": 1,
   "nav_menu": {},
   "number_sections": true,
   "sideBar": true,
   "skip_h1_title": false,
   "title_cell": "Table of Contents",
   "title_sidebar": "Contents",
   "toc_cell": false,
   "toc_position": {},
   "toc_section_display": true,
   "toc_window_display": false
  }
 },
 "nbformat": 4,
 "nbformat_minor": 4
}
