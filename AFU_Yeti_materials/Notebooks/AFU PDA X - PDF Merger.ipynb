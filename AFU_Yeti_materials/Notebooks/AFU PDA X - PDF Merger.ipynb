{
 "cells": [
  {
   "cell_type": "code",
   "execution_count": null,
   "metadata": {},
   "outputs": [],
   "source": [
    "import PyPDF2\n",
    "from pathlib import Path\n",
    "\n",
    "def PDFmerge(pdfs, output):\n",
    "        \n",
    "    pdf_write_object = PyPDF2.PdfFileWriter()\n",
    "    \n",
    "    for pdf in pdfs:\n",
    "        pdf_read_object = PyPDF2.PdfFileReader(pdf)\n",
    "        for page in range(pdf_read_object.numPages):\n",
    "            pdf_write_object.addPage(pdf_read_object.getPage(page))\n",
    "\n",
    "    final_file_object = open(output, 'wb')\n",
    "    pdf_write_object.write(final_file_object)\n",
    "    final_file_object.close() \n",
    "        \n",
    "def main(input_folder, output_name):\n",
    "\n",
    "    pathlist = Path(input_folder).glob('*.pdf')\n",
    "\n",
    "    pdfs = [str(i) for i in pathlist]\n",
    "    print(pdfs)\n",
    "    PDFmerge(pdfs, output_name)\n",
    "    \n",
    "    \n",
    "if __name__ == '__main__':\n",
    "    main(input_folder='/path/to/folder/containing/pdfs', output_name='pdf_filename.pdf')\n"
   ]
  },
  {
   "cell_type": "code",
   "execution_count": null,
   "metadata": {},
   "outputs": [],
   "source": []
  }
 ],
 "metadata": {
  "kernelspec": {
   "display_name": "Python 3",
   "language": "python",
   "name": "python3"
  },
  "language_info": {
   "codemirror_mode": {
    "name": "ipython",
    "version": 3
   },
   "file_extension": ".py",
   "mimetype": "text/x-python",
   "name": "python",
   "nbconvert_exporter": "python",
   "pygments_lexer": "ipython3",
   "version": "3.6.1"
  }
 },
 "nbformat": 4,
 "nbformat_minor": 2
}
