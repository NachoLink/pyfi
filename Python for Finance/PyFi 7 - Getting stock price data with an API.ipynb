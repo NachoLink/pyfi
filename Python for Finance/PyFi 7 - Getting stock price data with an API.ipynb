{
 "cells": [
  {
   "cell_type": "markdown",
   "metadata": {},
   "source": [
    "# Summary - Web Scraping and APIs\n",
    "\n",
    "How do we get data to analyze? One way is to use webscrapping (that is how the AirBNB dataset was created). Another way is to use APIs (application programming interfaces). These allow us to get real time data without having to store our own copy. \n",
    "\n",
    "# Tutorial Overview\n",
    "This tutorial is divided into 4 parts:\n",
    "1. Example of getting financial and non-financial stock data\n",
    "2. Example of time series with RDS-A ticker\n",
    "3. Using Bollinger Bands as an algorithmic trading strategy\n",
    "4. Exercises: You're turn!"
   ]
  },
  {
   "cell_type": "markdown",
   "metadata": {},
   "source": [
    "# Example: Get financial and non-financial stock data\n",
    "\n",
    "In this example we use the website `https://financialmodelingprep.com` to get data about stocks. The site can give us real time pricing data as well as financial metrics and other information about the company. \n",
    "\n",
    "We will start out by getting some basic data and saving it as an excel workbook for later use."
   ]
  },
  {
   "cell_type": "code",
   "execution_count": 29,
   "metadata": {},
   "outputs": [],
   "source": [
    "import requests # this lets us call the API to the external website\n",
    "import pandas as pd\n",
    "\n",
    "def getdata(stock: str):\n",
    "    \"\"\"This function gets data from the API and returns specific values\n",
    "    :param stock: Official stock ticker symbol\n",
    "    \n",
    "    :returns share_price: Array of current share price\n",
    "    :returns cash: Array of cash on hand \n",
    "    :returns debt: Array of debt\n",
    "    :returns qRev: Array of quarterly revenue\n",
    "    :returns ceo: Name of the CEO \n",
    "    \"\"\"\n",
    "    # Company Quote Group of Items\n",
    "    company_quote = requests.get(f\"{base}quote/{stock}?apikey={key}\")\n",
    "    company_quote = company_quote.json()\n",
    "    share_price = float(company_quote[0]['price'])\n",
    "\n",
    "    # Balance Sheet Group of Items\n",
    "    BS = requests.get(f\"{base}financials/balance-sheet-statement/{stock}?period=quarter&apikey={key}\")\n",
    "    BS = BS.json()\n",
    "\n",
    "    # Total Cash\n",
    "    cash = float(BS['financials'][0]['Cash and short-term investments'])\n",
    "    # Total Debt\n",
    "    debt = float(BS['financials'][0]['Total debt'])\n",
    "\n",
    "    # Income Statement Group of Items\n",
    "    IS = requests.get(f\"{base}financials/income-statement/{stock}?period=quarter&apikey={key}\")\n",
    "    IS = IS.json()\n",
    "\n",
    "    # Most Recent Quarterly Revenue\n",
    "    qRev = float(IS['financials'][0]['Revenue'])\n",
    "\n",
    "    # Company Profile Group of Items\n",
    "    company_info = requests.get(f\"{base}company/profile/{stock}?apikey={key}\")\n",
    "    company_info = company_info.json()\n",
    "\n",
    "    # Chief Executive Officer\n",
    "    ceo = company_info['profile']['ceo']\n",
    "\n",
    "    return (share_price, cash, debt, qRev, ceo)\n",
    "\n",
    "base = 'https://financialmodelingprep.com/api/v3/'\n",
    "key = '0b9ecbdc251f332ac3369952d0feb2aa'\n",
    "tickers = ('AAPL', 'MSFT', 'GOOG', 'T', 'CSCO', 'INTC', 'ORCL', 'AMZN', 'FB', 'TSLA', 'NVDA')\n",
    "    \n",
    "data = map(getdata, tickers)   \n",
    "\n",
    "quarter = '{}'.format(IS['financials'][0]['date'])\n",
    "df = pd.DataFrame(data,\n",
    "                    columns=['Share Price ($)', 'Total Cash', 'Total Debt', f'{quarter} Revenue', 'CEO'],\n",
    "                    index=tickers)\n",
    "\n",
    "writer = pd.ExcelWriter('example.xlsx')\n",
    "df.to_excel(writer, 'Statistics')\n",
    "writer.save()"
   ]
  },
  {
   "cell_type": "code",
   "execution_count": 30,
   "metadata": {},
   "outputs": [
    {
     "name": "stdout",
     "output_type": "stream",
     "text": [
      "      Share Price ($)    Total Cash    Total Debt  2020-03-31 Revenue  \\\n",
      "AAPL           319.23  9.405100e+10  9.947800e+10        5.831300e+10   \n",
      "MSFT           185.66  1.376260e+11  6.661000e+10        3.502100e+10   \n",
      "GOOG          1406.72  1.172290e+11  5.366000e+09        4.115900e+10   \n",
      "T               29.59  9.955000e+09  1.642690e+11        4.277900e+10   \n",
      "CSCO            45.44  2.857400e+10  1.608400e+10        1.198300e+10   \n",
      "INTC            63.10  1.267600e+10  3.991900e+10        1.982800e+10   \n",
      "ORCL            52.90  2.585800e+10  5.167500e+10        9.797000e+09   \n",
      "AMZN          2497.94  4.929200e+10  2.343700e+10        7.545200e+10   \n",
      "FB             229.97  6.028900e+10  1.034400e+10        1.773700e+10   \n",
      "TSLA           815.56  8.080000e+09  1.199000e+09        5.985000e+09   \n",
      "NVDA           358.80  9.769000e+09  5.580000e+08        3.014000e+09   \n",
      "\n",
      "                                CEO  \n",
      "AAPL                Timothy D. Cook  \n",
      "MSFT                  Satya Nadella  \n",
      "GOOG                     Larry Page  \n",
      "T             Randall L. Stephenson  \n",
      "CSCO                Charles Robbins  \n",
      "INTC              Brian M. Krzanich  \n",
      "ORCL  Mark V. Hurd / Safra Ada Catz  \n",
      "AMZN               Jeffrey P. Bezos  \n",
      "FB                  Mark Zuckerberg  \n",
      "TSLA                      Elon Musk  \n",
      "NVDA                 Jen-Hsun Huang  \n"
     ]
    }
   ],
   "source": [
    "print(df)"
   ]
  },
  {
   "cell_type": "code",
   "execution_count": 31,
   "metadata": {},
   "outputs": [],
   "source": [
    "# convert to billions for easier reading\n",
    "\n",
    "cols_to_convert = ['Total Cash','Total Debt','2020-03-31 Revenue']\n",
    "\n",
    "df[cols_to_convert] = df[cols_to_convert] / 10**9"
   ]
  },
  {
   "cell_type": "code",
   "execution_count": 32,
   "metadata": {},
   "outputs": [
    {
     "data": {
      "text/html": [
       "<div>\n",
       "<style scoped>\n",
       "    .dataframe tbody tr th:only-of-type {\n",
       "        vertical-align: middle;\n",
       "    }\n",
       "\n",
       "    .dataframe tbody tr th {\n",
       "        vertical-align: top;\n",
       "    }\n",
       "\n",
       "    .dataframe thead th {\n",
       "        text-align: right;\n",
       "    }\n",
       "</style>\n",
       "<table border=\"1\" class=\"dataframe\">\n",
       "  <thead>\n",
       "    <tr style=\"text-align: right;\">\n",
       "      <th></th>\n",
       "      <th>Share Price ($)</th>\n",
       "      <th>Total Cash</th>\n",
       "      <th>Total Debt</th>\n",
       "      <th>2020-03-31 Revenue</th>\n",
       "      <th>CEO</th>\n",
       "    </tr>\n",
       "  </thead>\n",
       "  <tbody>\n",
       "    <tr>\n",
       "      <td>AAPL</td>\n",
       "      <td>319.23</td>\n",
       "      <td>94.051</td>\n",
       "      <td>99.478</td>\n",
       "      <td>58.313</td>\n",
       "      <td>Timothy D. Cook</td>\n",
       "    </tr>\n",
       "    <tr>\n",
       "      <td>MSFT</td>\n",
       "      <td>185.66</td>\n",
       "      <td>137.626</td>\n",
       "      <td>66.610</td>\n",
       "      <td>35.021</td>\n",
       "      <td>Satya Nadella</td>\n",
       "    </tr>\n",
       "    <tr>\n",
       "      <td>GOOG</td>\n",
       "      <td>1406.72</td>\n",
       "      <td>117.229</td>\n",
       "      <td>5.366</td>\n",
       "      <td>41.159</td>\n",
       "      <td>Larry Page</td>\n",
       "    </tr>\n",
       "    <tr>\n",
       "      <td>T</td>\n",
       "      <td>29.59</td>\n",
       "      <td>9.955</td>\n",
       "      <td>164.269</td>\n",
       "      <td>42.779</td>\n",
       "      <td>Randall L. Stephenson</td>\n",
       "    </tr>\n",
       "    <tr>\n",
       "      <td>CSCO</td>\n",
       "      <td>45.44</td>\n",
       "      <td>28.574</td>\n",
       "      <td>16.084</td>\n",
       "      <td>11.983</td>\n",
       "      <td>Charles Robbins</td>\n",
       "    </tr>\n",
       "    <tr>\n",
       "      <td>INTC</td>\n",
       "      <td>63.10</td>\n",
       "      <td>12.676</td>\n",
       "      <td>39.919</td>\n",
       "      <td>19.828</td>\n",
       "      <td>Brian M. Krzanich</td>\n",
       "    </tr>\n",
       "    <tr>\n",
       "      <td>ORCL</td>\n",
       "      <td>52.90</td>\n",
       "      <td>25.858</td>\n",
       "      <td>51.675</td>\n",
       "      <td>9.797</td>\n",
       "      <td>Mark V. Hurd / Safra Ada Catz</td>\n",
       "    </tr>\n",
       "    <tr>\n",
       "      <td>AMZN</td>\n",
       "      <td>2497.94</td>\n",
       "      <td>49.292</td>\n",
       "      <td>23.437</td>\n",
       "      <td>75.452</td>\n",
       "      <td>Jeffrey P. Bezos</td>\n",
       "    </tr>\n",
       "    <tr>\n",
       "      <td>FB</td>\n",
       "      <td>229.97</td>\n",
       "      <td>60.289</td>\n",
       "      <td>10.344</td>\n",
       "      <td>17.737</td>\n",
       "      <td>Mark Zuckerberg</td>\n",
       "    </tr>\n",
       "    <tr>\n",
       "      <td>TSLA</td>\n",
       "      <td>815.56</td>\n",
       "      <td>8.080</td>\n",
       "      <td>1.199</td>\n",
       "      <td>5.985</td>\n",
       "      <td>Elon Musk</td>\n",
       "    </tr>\n",
       "  </tbody>\n",
       "</table>\n",
       "</div>"
      ],
      "text/plain": [
       "      Share Price ($)  Total Cash  Total Debt  2020-03-31 Revenue  \\\n",
       "AAPL           319.23      94.051      99.478              58.313   \n",
       "MSFT           185.66     137.626      66.610              35.021   \n",
       "GOOG          1406.72     117.229       5.366              41.159   \n",
       "T               29.59       9.955     164.269              42.779   \n",
       "CSCO            45.44      28.574      16.084              11.983   \n",
       "INTC            63.10      12.676      39.919              19.828   \n",
       "ORCL            52.90      25.858      51.675               9.797   \n",
       "AMZN          2497.94      49.292      23.437              75.452   \n",
       "FB             229.97      60.289      10.344              17.737   \n",
       "TSLA           815.56       8.080       1.199               5.985   \n",
       "\n",
       "                                CEO  \n",
       "AAPL                Timothy D. Cook  \n",
       "MSFT                  Satya Nadella  \n",
       "GOOG                     Larry Page  \n",
       "T             Randall L. Stephenson  \n",
       "CSCO                Charles Robbins  \n",
       "INTC              Brian M. Krzanich  \n",
       "ORCL  Mark V. Hurd / Safra Ada Catz  \n",
       "AMZN               Jeffrey P. Bezos  \n",
       "FB                  Mark Zuckerberg  \n",
       "TSLA                      Elon Musk  "
      ]
     },
     "execution_count": 32,
     "metadata": {},
     "output_type": "execute_result"
    }
   ],
   "source": [
    "df.head(10)"
   ]
  },
  {
   "cell_type": "markdown",
   "metadata": {},
   "source": [
    "# Example of time series with RDS-A\n",
    "\n",
    "Let's explore the RDS-A stock ticker. "
   ]
  },
  {
   "cell_type": "code",
   "execution_count": 86,
   "metadata": {},
   "outputs": [],
   "source": [
    "# getting historical data for RDS-A. This code calls the API and transforms the result into a DataFrame.\n",
    "import pandas as pd\n",
    "from pandas.io.json import json_normalize \n",
    "\n",
    "ticker = \"RDS-A\"\n",
    "target = \"https://financialmodelingprep.com/api/v3/historical-price-full/{}?apikey={}\".format(ticker, key)\n",
    "df = pd.read_json(target)\n",
    "df = json_normalize(df['historical'])\n",
    "df['date'] = pd.to_datetime(df['date'])\n",
    "df.set_index('date', inplace=True)"
   ]
  },
  {
   "cell_type": "code",
   "execution_count": 87,
   "metadata": {},
   "outputs": [
    {
     "data": {
      "text/html": [
       "<div>\n",
       "<style scoped>\n",
       "    .dataframe tbody tr th:only-of-type {\n",
       "        vertical-align: middle;\n",
       "    }\n",
       "\n",
       "    .dataframe tbody tr th {\n",
       "        vertical-align: top;\n",
       "    }\n",
       "\n",
       "    .dataframe thead th {\n",
       "        text-align: right;\n",
       "    }\n",
       "</style>\n",
       "<table border=\"1\" class=\"dataframe\">\n",
       "  <thead>\n",
       "    <tr style=\"text-align: right;\">\n",
       "      <th></th>\n",
       "      <th>open</th>\n",
       "      <th>high</th>\n",
       "      <th>low</th>\n",
       "      <th>close</th>\n",
       "      <th>adjClose</th>\n",
       "      <th>volume</th>\n",
       "      <th>unadjustedVolume</th>\n",
       "      <th>change</th>\n",
       "      <th>changePercent</th>\n",
       "      <th>vwap</th>\n",
       "      <th>label</th>\n",
       "      <th>changeOverTime</th>\n",
       "    </tr>\n",
       "    <tr>\n",
       "      <th>date</th>\n",
       "      <th></th>\n",
       "      <th></th>\n",
       "      <th></th>\n",
       "      <th></th>\n",
       "      <th></th>\n",
       "      <th></th>\n",
       "      <th></th>\n",
       "      <th></th>\n",
       "      <th></th>\n",
       "      <th></th>\n",
       "      <th></th>\n",
       "      <th></th>\n",
       "    </tr>\n",
       "  </thead>\n",
       "  <tbody>\n",
       "    <tr>\n",
       "      <td>2020-05-20</td>\n",
       "      <td>33.04</td>\n",
       "      <td>33.48</td>\n",
       "      <td>32.99</td>\n",
       "      <td>33.45</td>\n",
       "      <td>33.45</td>\n",
       "      <td>5272800.0</td>\n",
       "      <td>5272800.0</td>\n",
       "      <td>0.41</td>\n",
       "      <td>1.241</td>\n",
       "      <td>33.30667</td>\n",
       "      <td>May 20, 20</td>\n",
       "      <td>0.01241</td>\n",
       "    </tr>\n",
       "    <tr>\n",
       "      <td>2020-05-19</td>\n",
       "      <td>32.91</td>\n",
       "      <td>32.92</td>\n",
       "      <td>32.16</td>\n",
       "      <td>32.16</td>\n",
       "      <td>32.16</td>\n",
       "      <td>6209600.0</td>\n",
       "      <td>6209600.0</td>\n",
       "      <td>-0.75</td>\n",
       "      <td>-2.279</td>\n",
       "      <td>32.41333</td>\n",
       "      <td>May 19, 20</td>\n",
       "      <td>-0.02279</td>\n",
       "    </tr>\n",
       "    <tr>\n",
       "      <td>2020-05-18</td>\n",
       "      <td>32.05</td>\n",
       "      <td>32.94</td>\n",
       "      <td>32.00</td>\n",
       "      <td>32.82</td>\n",
       "      <td>32.82</td>\n",
       "      <td>7926100.0</td>\n",
       "      <td>7926100.0</td>\n",
       "      <td>0.77</td>\n",
       "      <td>2.402</td>\n",
       "      <td>32.58667</td>\n",
       "      <td>May 18, 20</td>\n",
       "      <td>0.02402</td>\n",
       "    </tr>\n",
       "    <tr>\n",
       "      <td>2020-05-15</td>\n",
       "      <td>30.29</td>\n",
       "      <td>30.74</td>\n",
       "      <td>29.91</td>\n",
       "      <td>30.13</td>\n",
       "      <td>30.13</td>\n",
       "      <td>7620000.0</td>\n",
       "      <td>7620000.0</td>\n",
       "      <td>-0.16</td>\n",
       "      <td>-0.528</td>\n",
       "      <td>30.26000</td>\n",
       "      <td>May 15, 20</td>\n",
       "      <td>-0.00528</td>\n",
       "    </tr>\n",
       "    <tr>\n",
       "      <td>2020-05-14</td>\n",
       "      <td>29.62</td>\n",
       "      <td>30.39</td>\n",
       "      <td>28.98</td>\n",
       "      <td>30.17</td>\n",
       "      <td>30.17</td>\n",
       "      <td>9756700.0</td>\n",
       "      <td>9756700.0</td>\n",
       "      <td>0.55</td>\n",
       "      <td>1.857</td>\n",
       "      <td>29.84667</td>\n",
       "      <td>May 14, 20</td>\n",
       "      <td>0.01857</td>\n",
       "    </tr>\n",
       "  </tbody>\n",
       "</table>\n",
       "</div>"
      ],
      "text/plain": [
       "             open   high    low  close  adjClose     volume  unadjustedVolume  \\\n",
       "date                                                                            \n",
       "2020-05-20  33.04  33.48  32.99  33.45     33.45  5272800.0         5272800.0   \n",
       "2020-05-19  32.91  32.92  32.16  32.16     32.16  6209600.0         6209600.0   \n",
       "2020-05-18  32.05  32.94  32.00  32.82     32.82  7926100.0         7926100.0   \n",
       "2020-05-15  30.29  30.74  29.91  30.13     30.13  7620000.0         7620000.0   \n",
       "2020-05-14  29.62  30.39  28.98  30.17     30.17  9756700.0         9756700.0   \n",
       "\n",
       "            change  changePercent      vwap       label  changeOverTime  \n",
       "date                                                                     \n",
       "2020-05-20    0.41          1.241  33.30667  May 20, 20         0.01241  \n",
       "2020-05-19   -0.75         -2.279  32.41333  May 19, 20        -0.02279  \n",
       "2020-05-18    0.77          2.402  32.58667  May 18, 20         0.02402  \n",
       "2020-05-15   -0.16         -0.528  30.26000  May 15, 20        -0.00528  \n",
       "2020-05-14    0.55          1.857  29.84667  May 14, 20         0.01857  "
      ]
     },
     "execution_count": 87,
     "metadata": {},
     "output_type": "execute_result"
    }
   ],
   "source": [
    "df.head()"
   ]
  },
  {
   "cell_type": "markdown",
   "metadata": {},
   "source": [
    "# Bollinger Bands\n",
    "\n",
    "A basic method of analysis for stocks is the Bollinger band. This uses the moving average and the moving standard deviation to identify points where the trader should buy/sell. We start by defining how the Bollinger Bands are calculated and defining how we want the data to be plotted. These defined functions can be used again for analizing another stock. "
   ]
  },
  {
   "cell_type": "code",
   "execution_count": 88,
   "metadata": {},
   "outputs": [],
   "source": [
    "import matplotlib.pyplot as plt\n",
    "%matplotlib inline\n",
    "\n",
    "def bollinger_bands(df, target_col: str = 'adjClose')->pd.DataFrame:\n",
    "    \"\"\"Calculates Bollinger Bands and returns an updated DataFrame. \n",
    "\n",
    "    :param df: DataFrame\n",
    "    :param target_col: column that will be used for the calcuations\n",
    "    :type target_col: str\n",
    "\n",
    "    :return df: df with additional columns\n",
    "    :rtype df: pd.DataFrame\n",
    "    \"\"\"\n",
    "    \n",
    "    df['20 Day MA'] = df[target_col].rolling(20).mean()\n",
    "    df['20 Day MA_lower bound'] = df['20 Day MA'] - df[target_col].rolling(20).std()*2\n",
    "    df['20 Day MA_upper bound'] = df['20 Day MA'] + df[target_col].rolling(20).std()*2\n",
    "    \n",
    "    return df\n",
    "\n",
    "def bb_plot(df: pd.DataFrame = df, target_col: str = 'adjClose'):\n",
    "    \"\"\"Calculates time series plot with Bollinger Bands \n",
    "\n",
    "    :param df: DataFrame\n",
    "    :param target_col: column that will be used for the calcuations\n",
    "    :type target_col: str\n",
    "\n",
    "    :return: plot\n",
    "    :rtype: matplotlib.pyplot\n",
    "    \"\"\"\n",
    "    \n",
    "    x = df.index\n",
    "    y= df[['adjClose', '20 Day MA', '20 Day MA_lower bound','20 Day MA_upper bound']]\n",
    "\n",
    "    plt.fill_between(x, rds['20 Day MA_lower bound'],rds['20 Day MA_upper bound'], alpha = .5)\n",
    "    plt.plot(x,y)\n",
    "    plt.title(\"Bollinger Bands for {}\".format(ticker))\n",
    "    plt.xlabel('Date (Year/Month)')\n",
    "    plt.ylabel('Price(USD)')\n",
    "    plt.legend(y)\n",
    "    plt.show()\n",
    "    \n",
    "    return plt"
   ]
  },
  {
   "cell_type": "code",
   "execution_count": 89,
   "metadata": {},
   "outputs": [
    {
     "data": {
      "image/png": "[encoded data removed]",
      "text/plain": [
       "<Figure size 432x288 with 1 Axes>"
      ]
     },
     "metadata": {
      "needs_background": "light"
     },
     "output_type": "display_data"
    },
    {
     "data": {
      "text/plain": [
       "<module 'matplotlib.pyplot' from '/opt/anaconda3/lib/python3.7/site-packages/matplotlib/pyplot.py'>"
      ]
     },
     "execution_count": 89,
     "metadata": {},
     "output_type": "execute_result"
    }
   ],
   "source": [
    "rds = bollinger_bands(df.sort_values(by='date'), 'adjClose')\n",
    "bb_plot(rds)"
   ]
  },
  {
   "cell_type": "markdown",
   "metadata": {},
   "source": [
    "## Bollinger Band Strategy\n",
    "\n",
    "The basic strategy is to buy/sell short if the actual value moves beyond the bands. The assumption is that the stock will return toward the mean. \n",
    "\n",
    "Let's test our returns if we follow this strategy. "
   ]
  },
  {
   "cell_type": "code",
   "execution_count": 90,
   "metadata": {},
   "outputs": [
    {
     "name": "stderr",
     "output_type": "stream",
     "text": [
      "/opt/anaconda3/lib/python3.7/site-packages/pandas/core/indexing.py:205: SettingWithCopyWarning: \n",
      "A value is trying to be set on a copy of a slice from a DataFrame\n",
      "\n",
      "See the caveats in the documentation: http://pandas.pydata.org/pandas-docs/stable/user_guide/indexing.html#returning-a-view-versus-a-copy\n",
      "  self._setitem_with_indexer(indexer, value)\n"
     ]
    },
    {
     "data": {
      "text/plain": [
       "<matplotlib.axes._subplots.AxesSubplot at 0x10faef650>"
      ]
     },
     "execution_count": 90,
     "metadata": {},
     "output_type": "execute_result"
    },
    {
     "data": {
      "image/png": "[encoded data removed]",
      "text/plain": [
       "<Figure size 432x288 with 1 Axes>"
      ]
     },
     "metadata": {
      "needs_background": "light"
     },
     "output_type": "display_data"
    }
   ],
   "source": [
    "import numpy as np\n",
    "\n",
    "def bb_strategy(df: pd.DataFrame)->pd.DataFrame:\n",
    "    \"\"\"Calculates the returns of implementing the Bollinger Bands \n",
    "\n",
    "    :param df: DataFrame\n",
    "\n",
    "    :return df: df with additional columns for Positing, Market Return, and Strategy Return\n",
    "    :rtype df: pd.DataFrame\n",
    "    \"\"\"\n",
    "    df['Position'] = None\n",
    "    #Fill our newly created position column - set to sell (-1) when the price hits the upper band, and set to buy (1) when it hits the lower band\n",
    "    for row in range(len(df)):\n",
    "    \n",
    "        if (df['adjClose'].iloc[row] > df['20 Day MA_upper bound'].iloc[row]) and (df['adjClose'].iloc[row-1] < df['20 Day MA_upper bound'].iloc[row-1]):\n",
    "            df['Position'].iloc[row] = -1\n",
    "        \n",
    "        if (df['adjClose'].iloc[row] < df['20 Day MA_lower bound'].iloc[row]) and (df['adjClose'].iloc[row-1] > df['20 Day MA_lower bound'].iloc[row-1]):\n",
    "            df['Position'].iloc[row] = 1  \n",
    "\n",
    "    #Forward fill our position column to replace the \"None\" values with the correct long/short positions to represent the \"holding\" of our position\n",
    "    #forward through time\n",
    "    df['Position'].fillna(method='ffill',inplace=True)\n",
    "\n",
    "    #Calculate the daily market return and multiply that by the position to determine strategy returns\n",
    "    df['Market Return'] = np.log(df['adjClose'] / df['adjClose'].shift(1))\n",
    "    df['Strategy Return'] = df['Market Return'] * df['Position']\n",
    "    \n",
    "    return df\n",
    "\n",
    "rds = bb_strategy(rds)\n",
    "rds['Strategy Return'].cumsum().plot() "
   ]
  },
  {
   "cell_type": "markdown",
   "metadata": {},
   "source": [
    "## Conclusion\n",
    "Yikes! Our returns are pretty bad just following the Bollinger Band strategy. We should do more analysis and try another strategy. "
   ]
  },
  {
   "cell_type": "markdown",
   "metadata": {},
   "source": [
    "# Exercises: Your Turn!"
   ]
  },
  {
   "cell_type": "markdown",
   "metadata": {},
   "source": [
    "1. What was the \"Open\" price of Royal Dutch Shell-A stock (RDS-A) on February 18, 2020?"
   ]
  },
  {
   "cell_type": "code",
   "execution_count": null,
   "metadata": {},
   "outputs": [],
   "source": []
  },
  {
   "cell_type": "markdown",
   "metadata": {},
   "source": [
    "2. What was the highest volume of RDS-A stock traded in one day?"
   ]
  },
  {
   "cell_type": "code",
   "execution_count": null,
   "metadata": {},
   "outputs": [],
   "source": []
  },
  {
   "cell_type": "markdown",
   "metadata": {},
   "source": [
    "3. On what day day did this occur?"
   ]
  },
  {
   "cell_type": "code",
   "execution_count": null,
   "metadata": {},
   "outputs": [],
   "source": []
  },
  {
   "cell_type": "markdown",
   "metadata": {},
   "source": [
    "4. What was RDS-A's biggest one day stock growth in dollar terms? in percentage terms?"
   ]
  },
  {
   "cell_type": "code",
   "execution_count": null,
   "metadata": {},
   "outputs": [],
   "source": []
  },
  {
   "cell_type": "markdown",
   "metadata": {},
   "source": [
    "5. Create line plot showing RDS-A stock price over time"
   ]
  },
  {
   "cell_type": "code",
   "execution_count": null,
   "metadata": {},
   "outputs": [],
   "source": []
  },
  {
   "cell_type": "markdown",
   "metadata": {},
   "source": [
    "6. Create line chart showing average monthly stock price of Royal Dutch Shell-A (RDS-A) since January 2019 using 'adjClose.'\n",
    "\n",
    "hint: df['column'].dt.to_period(\"M\") can convert a date to a month"
   ]
  },
  {
   "cell_type": "code",
   "execution_count": null,
   "metadata": {},
   "outputs": [],
   "source": []
  },
  {
   "cell_type": "markdown",
   "metadata": {},
   "source": [
    "7. Create same chart but normalize it so that the stock starts at 1 on January 2019"
   ]
  },
  {
   "cell_type": "code",
   "execution_count": null,
   "metadata": {},
   "outputs": [],
   "source": []
  },
  {
   "cell_type": "markdown",
   "metadata": {},
   "source": [
    "# Extensions\n",
    "\n",
    "This section lists some ideas for extending the tutorial that you may wish to explore.\n",
    "* Describe three examples when using APIs for data would be better than downloading data as spreadsheets.\n",
    "\n",
    "# Further Reading\n",
    "This section provides more resources on the topic if you are looking to go deeper.\n",
    "\n",
    "## Books\n",
    "* Python for Finance, by Yves Hilpisch. http://shop.oreilly.com/product/0636920032441.do\n",
    " * [Git Repo](https://github.com/yhilpisch/py4fi2nd)\n",
    "* Mastering Python for Finance,  James Ma Weiming. https://www.amazon.com/dp/1789346460/\n",
    " * [Git Repo](https://github.com/PacktPublishing/Mastering-Python-for-Finance-Second-Edition)\n",
    "* Python Finance Cookbook, Eryk Lewinson. https://www.packtpub.com/data/python-for-finance-cookbook\n",
    " * [Git Repo](https://github.com/erykml/Python-for-Finance-Cookbook)\n",
    "\n",
    "## APIs\n",
    "* [Requests library](https://requests.readthedocs.io/en/master/)\n",
    "    \n",
    "# Summary\n",
    "\n",
    "In this tutorial, you were introduced to accessing data using APIs. Specifically, you learned:\n",
    "* How to access stock data and store it as a Pandas DataFrame\n",
    "* You did basic analysis using Bollinger Bands and even applied a basic algorithmic trading strategy\n",
    "\n",
    "# Next\n",
    "\n",
    "Use the easiest option to get data and then take the data and do amazing analysis."
   ]
  }
 ],
 "metadata": {
  "kernelspec": {
   "display_name": "conda_python3",
   "language": "python",
   "name": "conda_python3"
  },
  "language_info": {
   "codemirror_mode": {
    "name": "ipython",
    "version": 3
   },
   "file_extension": ".py",
   "mimetype": "text/x-python",
   "name": "python",
   "nbconvert_exporter": "python",
   "pygments_lexer": "ipython3",
   "version": "3.6.5"
  },
  "toc": {
   "base_numbering": 1,
   "nav_menu": {},
   "number_sections": true,
   "sideBar": true,
   "skip_h1_title": false,
   "title_cell": "Table of Contents",
   "title_sidebar": "Contents",
   "toc_cell": false,
   "toc_position": {},
   "toc_section_display": true,
   "toc_window_display": false
  }
 },
 "nbformat": 4,
 "nbformat_minor": 4
}
