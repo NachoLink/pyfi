{
 "cells": [
  {
   "cell_type": "code",
   "execution_count": 1,
   "metadata": {},
   "outputs": [],
   "source": [
    "import pandas as pd\n",
    "import matplotlib.pyplot as plt\n",
    "\n",
    "%matplotlib inline"
   ]
  },
  {
   "cell_type": "markdown",
   "metadata": {},
   "source": [
    "# Pandas basics"
   ]
  },
  {
   "cell_type": "markdown",
   "metadata": {},
   "source": [
    "**Pandas** is all about **DataFrames** (df), which are analogous to tables in Excel or SQL, or to R's data.frame.  Dataframes are made up of **Series** (i.e. columns) and can be manipulated with simple or complex transformations like filtering, aggregating, joining, and pivoting/unpivoting."
   ]
  },
  {
   "cell_type": "markdown",
   "metadata": {},
   "source": [
    "## Read a text file into Pandas as a DataFrame and explore the data"
   ]
  },
  {
   "cell_type": "markdown",
   "metadata": {},
   "source": [
    "We'll import a sample data set with daily sales in the US marketplace for 2017, grouped by GL and including a column for product family (big4).  To read the text file into memory, we provide the path to the file.  You only need to provide the path relative to the folder that contains your code.  For example, this Jupyter notebook is in a folder called Workbooks.  So when we specify the path as 'Support_Files/sales_fake.txt', Pandas will look for the file called sales_fake.txt inside Workbooks/Support_Files/.  Alternatively, you can always hard code the entire path (e.g. 'C:/some_folder/some_subfolder/sales_fake.txt') if you are unsure how to use relative paths."
   ]
  },
  {
   "cell_type": "code",
   "execution_count": 2,
   "metadata": {},
   "outputs": [],
   "source": [
    "# Read data into Python from .txt\n",
    "sales = pd.read_csv('../data/sales_fake.csv')"
   ]
  },
  {
   "cell_type": "code",
   "execution_count": 3,
   "metadata": {},
   "outputs": [
    {
     "data": {
      "text/html": [
       "<div>\n",
       "<style scoped>\n",
       "    .dataframe tbody tr th:only-of-type {\n",
       "        vertical-align: middle;\n",
       "    }\n",
       "\n",
       "    .dataframe tbody tr th {\n",
       "        vertical-align: top;\n",
       "    }\n",
       "\n",
       "    .dataframe thead th {\n",
       "        text-align: right;\n",
       "    }\n",
       "</style>\n",
       "<table border=\"1\" class=\"dataframe\">\n",
       "  <thead>\n",
       "    <tr style=\"text-align: right;\">\n",
       "      <th></th>\n",
       "      <th>marketplace_id</th>\n",
       "      <th>order_day</th>\n",
       "      <th>order_week</th>\n",
       "      <th>gl</th>\n",
       "      <th>product_family</th>\n",
       "      <th>units</th>\n",
       "      <th>ops</th>\n",
       "    </tr>\n",
       "  </thead>\n",
       "  <tbody>\n",
       "    <tr>\n",
       "      <th>0</th>\n",
       "      <td>1</td>\n",
       "      <td>2017-01-01</td>\n",
       "      <td>2017-01-07</td>\n",
       "      <td>Amazon_Pantry</td>\n",
       "      <td>Consumables</td>\n",
       "      <td>9460.696331</td>\n",
       "      <td>46576.224274</td>\n",
       "    </tr>\n",
       "    <tr>\n",
       "      <th>1</th>\n",
       "      <td>1</td>\n",
       "      <td>2017-01-02</td>\n",
       "      <td>2017-01-07</td>\n",
       "      <td>Amazon_Pantry</td>\n",
       "      <td>Consumables</td>\n",
       "      <td>13828.318507</td>\n",
       "      <td>61148.434296</td>\n",
       "    </tr>\n",
       "    <tr>\n",
       "      <th>2</th>\n",
       "      <td>1</td>\n",
       "      <td>2017-01-03</td>\n",
       "      <td>2017-01-07</td>\n",
       "      <td>Amazon_Pantry</td>\n",
       "      <td>Consumables</td>\n",
       "      <td>12308.348366</td>\n",
       "      <td>59960.632711</td>\n",
       "    </tr>\n",
       "    <tr>\n",
       "      <th>3</th>\n",
       "      <td>1</td>\n",
       "      <td>2017-01-04</td>\n",
       "      <td>2017-01-07</td>\n",
       "      <td>Amazon_Pantry</td>\n",
       "      <td>Consumables</td>\n",
       "      <td>11912.807101</td>\n",
       "      <td>58991.544654</td>\n",
       "    </tr>\n",
       "    <tr>\n",
       "      <th>4</th>\n",
       "      <td>1</td>\n",
       "      <td>2017-01-05</td>\n",
       "      <td>2017-01-07</td>\n",
       "      <td>Amazon_Pantry</td>\n",
       "      <td>Consumables</td>\n",
       "      <td>10817.883315</td>\n",
       "      <td>54032.017658</td>\n",
       "    </tr>\n",
       "    <tr>\n",
       "      <th>5</th>\n",
       "      <td>1</td>\n",
       "      <td>2017-01-06</td>\n",
       "      <td>2017-01-07</td>\n",
       "      <td>Amazon_Pantry</td>\n",
       "      <td>Consumables</td>\n",
       "      <td>10585.850959</td>\n",
       "      <td>51928.496274</td>\n",
       "    </tr>\n",
       "    <tr>\n",
       "      <th>6</th>\n",
       "      <td>1</td>\n",
       "      <td>2017-01-07</td>\n",
       "      <td>2017-01-07</td>\n",
       "      <td>Amazon_Pantry</td>\n",
       "      <td>Consumables</td>\n",
       "      <td>12170.592881</td>\n",
       "      <td>61172.924939</td>\n",
       "    </tr>\n",
       "    <tr>\n",
       "      <th>7</th>\n",
       "      <td>1</td>\n",
       "      <td>2017-01-08</td>\n",
       "      <td>2017-01-14</td>\n",
       "      <td>Amazon_Pantry</td>\n",
       "      <td>Consumables</td>\n",
       "      <td>14468.694255</td>\n",
       "      <td>63383.543121</td>\n",
       "    </tr>\n",
       "    <tr>\n",
       "      <th>8</th>\n",
       "      <td>1</td>\n",
       "      <td>2017-01-09</td>\n",
       "      <td>2017-01-14</td>\n",
       "      <td>Amazon_Pantry</td>\n",
       "      <td>Consumables</td>\n",
       "      <td>12385.589620</td>\n",
       "      <td>58211.500811</td>\n",
       "    </tr>\n",
       "    <tr>\n",
       "      <th>9</th>\n",
       "      <td>1</td>\n",
       "      <td>2017-01-10</td>\n",
       "      <td>2017-01-14</td>\n",
       "      <td>Amazon_Pantry</td>\n",
       "      <td>Consumables</td>\n",
       "      <td>10700.052752</td>\n",
       "      <td>52852.624223</td>\n",
       "    </tr>\n",
       "  </tbody>\n",
       "</table>\n",
       "</div>"
      ],
      "text/plain": [
       "   marketplace_id   order_day  order_week             gl product_family  \\\n",
       "0               1  2017-01-01  2017-01-07  Amazon_Pantry    Consumables   \n",
       "1               1  2017-01-02  2017-01-07  Amazon_Pantry    Consumables   \n",
       "2               1  2017-01-03  2017-01-07  Amazon_Pantry    Consumables   \n",
       "3               1  2017-01-04  2017-01-07  Amazon_Pantry    Consumables   \n",
       "4               1  2017-01-05  2017-01-07  Amazon_Pantry    Consumables   \n",
       "5               1  2017-01-06  2017-01-07  Amazon_Pantry    Consumables   \n",
       "6               1  2017-01-07  2017-01-07  Amazon_Pantry    Consumables   \n",
       "7               1  2017-01-08  2017-01-14  Amazon_Pantry    Consumables   \n",
       "8               1  2017-01-09  2017-01-14  Amazon_Pantry    Consumables   \n",
       "9               1  2017-01-10  2017-01-14  Amazon_Pantry    Consumables   \n",
       "\n",
       "          units           ops  \n",
       "0   9460.696331  46576.224274  \n",
       "1  13828.318507  61148.434296  \n",
       "2  12308.348366  59960.632711  \n",
       "3  11912.807101  58991.544654  \n",
       "4  10817.883315  54032.017658  \n",
       "5  10585.850959  51928.496274  \n",
       "6  12170.592881  61172.924939  \n",
       "7  14468.694255  63383.543121  \n",
       "8  12385.589620  58211.500811  \n",
       "9  10700.052752  52852.624223  "
      ]
     },
     "execution_count": 3,
     "metadata": {},
     "output_type": "execute_result"
    }
   ],
   "source": [
    "# View the first 10 rows of the dataframe (see also: tail)\n",
    "sales.head(10)"
   ]
  },
  {
   "cell_type": "markdown",
   "metadata": {},
   "source": [
    "### Exercise: What do these DataFrame methods do? Try them out.\n",
    "The .head() **method** above is just one of the many methods that can be applied to Pandas dataframes. In general, these methods return some transformation of the dataframe to which they are applied. Take a few minutes and play around with some of the methods below, using the sales dataframe. \n",
    "\n",
    "See https://pandas.pydata.org/pandas-docs/stable/generated/pandas.DataFrame.html under \"Methods\" for a complete list.\n",
    "\n",
    "Some useful methods: \n",
    "\n",
    "    .count()  .describe()  .info()  .mean()  .median()  .nunique()  .plot()  .shift()  .transpose()\n",
    "\n",
    "Dataframes also have certain **attributes** which are accessed similarly, but without the ().  What do these attributes represent?\n",
    "\n",
    "    .columns  .dtypes  .empty  .shape  .size  .values"
   ]
  },
  {
   "cell_type": "code",
   "execution_count": 8,
   "metadata": {},
   "outputs": [],
   "source": [
    "### CODE FOR ABOVE EXERCISE ###\n",
    "\n",
    "\n"
   ]
  },
  {
   "cell_type": "code",
   "execution_count": 9,
   "metadata": {},
   "outputs": [
    {
     "data": {
      "text/plain": [
       "0         9460.696331\n",
       "1        13828.318507\n",
       "2        12308.348366\n",
       "3        11912.807101\n",
       "4        10817.883315\n",
       "5        10585.850959\n",
       "6        12170.592881\n",
       "7        14468.694255\n",
       "8        12385.589620\n",
       "9        10700.052752\n",
       "10       10542.714350\n",
       "11       10575.444627\n",
       "12       10330.361800\n",
       "13       11325.737968\n",
       "14       12174.306544\n",
       "15       12938.495819\n",
       "16       10913.130875\n",
       "17       10047.671371\n",
       "18       10212.786804\n",
       "19        9149.706454\n",
       "20       10358.973084\n",
       "21       14121.465259\n",
       "22       13433.458355\n",
       "23       11293.543110\n",
       "24       10786.452945\n",
       "25       10211.599794\n",
       "26        9475.549697\n",
       "27       10011.796955\n",
       "28       13563.807508\n",
       "29       11506.099326\n",
       "             ...     \n",
       "20575     3616.158776\n",
       "20576     3788.876045\n",
       "20577     2962.529449\n",
       "20578     2325.628043\n",
       "20579     2119.701366\n",
       "20580     2515.164708\n",
       "20581     2829.501344\n",
       "20582     3343.018840\n",
       "20583     3902.008897\n",
       "20584     2901.785481\n",
       "20585     2358.904702\n",
       "20586     1989.216343\n",
       "20587     2451.569624\n",
       "20588     2688.790878\n",
       "20589     2747.559516\n",
       "20590     3275.279298\n",
       "20591     2520.140154\n",
       "20592     2122.148340\n",
       "20593     2192.955147\n",
       "20594     2539.808429\n",
       "20595     2870.487250\n",
       "20596     1873.593788\n",
       "20597      289.990791\n",
       "20598      744.072476\n",
       "20599     2428.375921\n",
       "20600     2662.391432\n",
       "20601     2764.977243\n",
       "20602     3170.902842\n",
       "20603     3108.060954\n",
       "20604     1354.866306\n",
       "Name: units, Length: 20605, dtype: float64"
      ]
     },
     "execution_count": 9,
     "metadata": {},
     "output_type": "execute_result"
    }
   ],
   "source": [
    "# Select just a single column (i.e. Series object) from a dataframe:\n",
    "sales['units']"
   ]
  },
  {
   "cell_type": "code",
   "execution_count": 10,
   "metadata": {},
   "outputs": [
    {
     "data": {
      "text/html": [
       "<div>\n",
       "<style scoped>\n",
       "    .dataframe tbody tr th:only-of-type {\n",
       "        vertical-align: middle;\n",
       "    }\n",
       "\n",
       "    .dataframe tbody tr th {\n",
       "        vertical-align: top;\n",
       "    }\n",
       "\n",
       "    .dataframe thead th {\n",
       "        text-align: right;\n",
       "    }\n",
       "</style>\n",
       "<table border=\"1\" class=\"dataframe\">\n",
       "  <thead>\n",
       "    <tr style=\"text-align: right;\">\n",
       "      <th></th>\n",
       "      <th>order_day</th>\n",
       "      <th>gl</th>\n",
       "      <th>ops</th>\n",
       "    </tr>\n",
       "  </thead>\n",
       "  <tbody>\n",
       "    <tr>\n",
       "      <th>0</th>\n",
       "      <td>2017-01-01</td>\n",
       "      <td>Amazon_Pantry</td>\n",
       "      <td>46576.224274</td>\n",
       "    </tr>\n",
       "    <tr>\n",
       "      <th>1</th>\n",
       "      <td>2017-01-02</td>\n",
       "      <td>Amazon_Pantry</td>\n",
       "      <td>61148.434296</td>\n",
       "    </tr>\n",
       "    <tr>\n",
       "      <th>2</th>\n",
       "      <td>2017-01-03</td>\n",
       "      <td>Amazon_Pantry</td>\n",
       "      <td>59960.632711</td>\n",
       "    </tr>\n",
       "    <tr>\n",
       "      <th>3</th>\n",
       "      <td>2017-01-04</td>\n",
       "      <td>Amazon_Pantry</td>\n",
       "      <td>58991.544654</td>\n",
       "    </tr>\n",
       "    <tr>\n",
       "      <th>4</th>\n",
       "      <td>2017-01-05</td>\n",
       "      <td>Amazon_Pantry</td>\n",
       "      <td>54032.017658</td>\n",
       "    </tr>\n",
       "  </tbody>\n",
       "</table>\n",
       "</div>"
      ],
      "text/plain": [
       "    order_day             gl           ops\n",
       "0  2017-01-01  Amazon_Pantry  46576.224274\n",
       "1  2017-01-02  Amazon_Pantry  61148.434296\n",
       "2  2017-01-03  Amazon_Pantry  59960.632711\n",
       "3  2017-01-04  Amazon_Pantry  58991.544654\n",
       "4  2017-01-05  Amazon_Pantry  54032.017658"
      ]
     },
     "execution_count": 10,
     "metadata": {},
     "output_type": "execute_result"
    }
   ],
   "source": [
    "# The above series isn't very useful by itself, since we lose the date information.  To select a subset of columns, pass in a list of columns:\n",
    "col_list = ['order_day', 'gl', 'ops']\n",
    "sales[col_list].head()\n",
    "\n",
    "# Or equivalently:\n",
    "sales[['order_day', 'gl', 'ops']].head()"
   ]
  },
  {
   "cell_type": "code",
   "execution_count": 11,
   "metadata": {},
   "outputs": [
    {
     "data": {
      "text/plain": [
       "array(['Consumables', 'Softlines', 'Hardlines', 'Media'], dtype=object)"
      ]
     },
     "execution_count": 11,
     "metadata": {},
     "output_type": "execute_result"
    }
   ],
   "source": [
    "# What are all the unique product families? use unique() on a single series:\n",
    "sales['product_family'].unique()"
   ]
  },
  {
   "cell_type": "code",
   "execution_count": 12,
   "metadata": {},
   "outputs": [
    {
     "data": {
      "text/plain": [
       "Hardlines      10608\n",
       "Consumables     5455\n",
       "Media           2582\n",
       "Softlines       1960\n",
       "Name: product_family, dtype: int64"
      ]
     },
     "execution_count": 12,
     "metadata": {},
     "output_type": "execute_result"
    }
   ],
   "source": [
    "# Or get the count of observations from each product family.  Note that the .value_counts() method only works if applied to a Series - not a DataFrame.  \n",
    "# What happens if you try to call .value_counts() on a DataFrame?\n",
    "sales['product_family'].value_counts()"
   ]
  },
  {
   "cell_type": "code",
   "execution_count": 13,
   "metadata": {},
   "outputs": [
    {
     "data": {
      "text/plain": [
       "5441037303.093659"
      ]
     },
     "execution_count": 13,
     "metadata": {},
     "output_type": "execute_result"
    }
   ],
   "source": [
    "# Print the total sales for the year.  The .sum() method works on both Series and DataFrames.\n",
    "sales['ops'].sum()"
   ]
  },
  {
   "cell_type": "code",
   "execution_count": 14,
   "metadata": {},
   "outputs": [
    {
     "data": {
      "text/html": [
       "<div>\n",
       "<style scoped>\n",
       "    .dataframe tbody tr th:only-of-type {\n",
       "        vertical-align: middle;\n",
       "    }\n",
       "\n",
       "    .dataframe tbody tr th {\n",
       "        vertical-align: top;\n",
       "    }\n",
       "\n",
       "    .dataframe thead th {\n",
       "        text-align: right;\n",
       "    }\n",
       "</style>\n",
       "<table border=\"1\" class=\"dataframe\">\n",
       "  <thead>\n",
       "    <tr style=\"text-align: right;\">\n",
       "      <th></th>\n",
       "      <th>marketplace_id</th>\n",
       "      <th>order_day</th>\n",
       "      <th>order_week</th>\n",
       "      <th>gl</th>\n",
       "      <th>product_family</th>\n",
       "      <th>units</th>\n",
       "      <th>ops</th>\n",
       "      <th>country</th>\n",
       "    </tr>\n",
       "  </thead>\n",
       "  <tbody>\n",
       "    <tr>\n",
       "      <th>0</th>\n",
       "      <td>1</td>\n",
       "      <td>2017-01-01</td>\n",
       "      <td>2017-01-07</td>\n",
       "      <td>Amazon_Pantry</td>\n",
       "      <td>Consumables</td>\n",
       "      <td>9460.696331</td>\n",
       "      <td>46576.224274</td>\n",
       "      <td>US</td>\n",
       "    </tr>\n",
       "    <tr>\n",
       "      <th>1</th>\n",
       "      <td>1</td>\n",
       "      <td>2017-01-02</td>\n",
       "      <td>2017-01-07</td>\n",
       "      <td>Amazon_Pantry</td>\n",
       "      <td>Consumables</td>\n",
       "      <td>13828.318507</td>\n",
       "      <td>61148.434296</td>\n",
       "      <td>US</td>\n",
       "    </tr>\n",
       "    <tr>\n",
       "      <th>2</th>\n",
       "      <td>1</td>\n",
       "      <td>2017-01-03</td>\n",
       "      <td>2017-01-07</td>\n",
       "      <td>Amazon_Pantry</td>\n",
       "      <td>Consumables</td>\n",
       "      <td>12308.348366</td>\n",
       "      <td>59960.632711</td>\n",
       "      <td>US</td>\n",
       "    </tr>\n",
       "    <tr>\n",
       "      <th>3</th>\n",
       "      <td>1</td>\n",
       "      <td>2017-01-04</td>\n",
       "      <td>2017-01-07</td>\n",
       "      <td>Amazon_Pantry</td>\n",
       "      <td>Consumables</td>\n",
       "      <td>11912.807101</td>\n",
       "      <td>58991.544654</td>\n",
       "      <td>US</td>\n",
       "    </tr>\n",
       "    <tr>\n",
       "      <th>4</th>\n",
       "      <td>1</td>\n",
       "      <td>2017-01-05</td>\n",
       "      <td>2017-01-07</td>\n",
       "      <td>Amazon_Pantry</td>\n",
       "      <td>Consumables</td>\n",
       "      <td>10817.883315</td>\n",
       "      <td>54032.017658</td>\n",
       "      <td>US</td>\n",
       "    </tr>\n",
       "  </tbody>\n",
       "</table>\n",
       "</div>"
      ],
      "text/plain": [
       "   marketplace_id   order_day  order_week             gl product_family  \\\n",
       "0               1  2017-01-01  2017-01-07  Amazon_Pantry    Consumables   \n",
       "1               1  2017-01-02  2017-01-07  Amazon_Pantry    Consumables   \n",
       "2               1  2017-01-03  2017-01-07  Amazon_Pantry    Consumables   \n",
       "3               1  2017-01-04  2017-01-07  Amazon_Pantry    Consumables   \n",
       "4               1  2017-01-05  2017-01-07  Amazon_Pantry    Consumables   \n",
       "\n",
       "          units           ops country  \n",
       "0   9460.696331  46576.224274      US  \n",
       "1  13828.318507  61148.434296      US  \n",
       "2  12308.348366  59960.632711      US  \n",
       "3  11912.807101  58991.544654      US  \n",
       "4  10817.883315  54032.017658      US  "
      ]
     },
     "execution_count": 14,
     "metadata": {},
     "output_type": "execute_result"
    }
   ],
   "source": [
    "# Operations on the series that make up a dataframe generally work as you'd expect.\n",
    "\n",
    "# E.g. add a column for country\n",
    "sales['country'] = 'US'\n",
    "\n",
    "sales.head()"
   ]
  },
  {
   "cell_type": "code",
   "execution_count": 15,
   "metadata": {},
   "outputs": [
    {
     "data": {
      "text/plain": [
       "0        4.923129\n",
       "1        4.421972\n",
       "2        4.871542\n",
       "3        4.951943\n",
       "4        4.994694\n",
       "5        4.905463\n",
       "6        5.026290\n",
       "7        4.380737\n",
       "8        4.699938\n",
       "9        4.939473\n",
       "10       4.633226\n",
       "11       4.400169\n",
       "12       4.695259\n",
       "13       4.773394\n",
       "14       4.750765\n",
       "15       4.359576\n",
       "16       4.702420\n",
       "17       4.732635\n",
       "18       4.275112\n",
       "19       4.663151\n",
       "20       4.804174\n",
       "21       4.442635\n",
       "22       4.659441\n",
       "23       4.872013\n",
       "24       4.798032\n",
       "25       5.007327\n",
       "26       4.678842\n",
       "27       5.054352\n",
       "28       4.629057\n",
       "29       5.189492\n",
       "           ...   \n",
       "20575    3.153242\n",
       "20576    2.520096\n",
       "20577    2.358075\n",
       "20578    2.384093\n",
       "20579    2.496666\n",
       "20580    2.482103\n",
       "20581    2.409951\n",
       "20582    2.234447\n",
       "20583    2.316728\n",
       "20584    2.372005\n",
       "20585    2.389149\n",
       "20586    2.583042\n",
       "20587    2.319468\n",
       "20588    2.214470\n",
       "20589    2.442537\n",
       "20590    2.305501\n",
       "20591    2.397886\n",
       "20592    2.366732\n",
       "20593    2.279431\n",
       "20594    2.437098\n",
       "20595    2.340033\n",
       "20596    2.536015\n",
       "20597    2.372897\n",
       "20598    2.178695\n",
       "20599    2.200634\n",
       "20600    2.381879\n",
       "20601    2.230902\n",
       "20602    2.216904\n",
       "20603    2.073844\n",
       "20604    2.313887\n",
       "Length: 20605, dtype: float64"
      ]
     },
     "execution_count": 15,
     "metadata": {},
     "output_type": "execute_result"
    }
   ],
   "source": [
    "# Adding calculated columns is easy, too.  First, calculate the ASP and print the results:\n",
    "sales['ops'] / sales['units']"
   ]
  },
  {
   "cell_type": "markdown",
   "metadata": {},
   "source": [
    "#### Mini exercise: add the ASP, as calculated above, to the sales dataframe as a series called asp ###"
   ]
  },
  {
   "cell_type": "code",
   "execution_count": 16,
   "metadata": {},
   "outputs": [],
   "source": [
    "### CODE FOR ABOVE EXERCISE ###\n",
    "sales['asp'] = sales['ops'] / sales['units']"
   ]
  },
  {
   "cell_type": "markdown",
   "metadata": {},
   "source": [
    "## Filtering with row conditions\n",
    "The .loc() method is highly useful for filtering dfs.  You can think of the condition(s) inside .loc as being roughly equivalent to the \"ifs\" in Excel's sumifs function, or the conditions in a WHERE clause in SQL."
   ]
  },
  {
   "cell_type": "code",
   "execution_count": 17,
   "metadata": {},
   "outputs": [
    {
     "data": {
      "text/html": [
       "<div>\n",
       "<style scoped>\n",
       "    .dataframe tbody tr th:only-of-type {\n",
       "        vertical-align: middle;\n",
       "    }\n",
       "\n",
       "    .dataframe tbody tr th {\n",
       "        vertical-align: top;\n",
       "    }\n",
       "\n",
       "    .dataframe thead th {\n",
       "        text-align: right;\n",
       "    }\n",
       "</style>\n",
       "<table border=\"1\" class=\"dataframe\">\n",
       "  <thead>\n",
       "    <tr style=\"text-align: right;\">\n",
       "      <th></th>\n",
       "      <th>marketplace_id</th>\n",
       "      <th>order_day</th>\n",
       "      <th>order_week</th>\n",
       "      <th>gl</th>\n",
       "      <th>product_family</th>\n",
       "      <th>units</th>\n",
       "      <th>ops</th>\n",
       "      <th>country</th>\n",
       "      <th>asp</th>\n",
       "    </tr>\n",
       "  </thead>\n",
       "  <tbody>\n",
       "    <tr>\n",
       "      <th>0</th>\n",
       "      <td>1</td>\n",
       "      <td>2017-01-01</td>\n",
       "      <td>2017-01-07</td>\n",
       "      <td>Amazon_Pantry</td>\n",
       "      <td>Consumables</td>\n",
       "      <td>9460.696331</td>\n",
       "      <td>46576.224274</td>\n",
       "      <td>US</td>\n",
       "      <td>4.923129</td>\n",
       "    </tr>\n",
       "    <tr>\n",
       "      <th>1</th>\n",
       "      <td>1</td>\n",
       "      <td>2017-01-02</td>\n",
       "      <td>2017-01-07</td>\n",
       "      <td>Amazon_Pantry</td>\n",
       "      <td>Consumables</td>\n",
       "      <td>13828.318507</td>\n",
       "      <td>61148.434296</td>\n",
       "      <td>US</td>\n",
       "      <td>4.421972</td>\n",
       "    </tr>\n",
       "    <tr>\n",
       "      <th>2</th>\n",
       "      <td>1</td>\n",
       "      <td>2017-01-03</td>\n",
       "      <td>2017-01-07</td>\n",
       "      <td>Amazon_Pantry</td>\n",
       "      <td>Consumables</td>\n",
       "      <td>12308.348366</td>\n",
       "      <td>59960.632711</td>\n",
       "      <td>US</td>\n",
       "      <td>4.871542</td>\n",
       "    </tr>\n",
       "    <tr>\n",
       "      <th>3</th>\n",
       "      <td>1</td>\n",
       "      <td>2017-01-04</td>\n",
       "      <td>2017-01-07</td>\n",
       "      <td>Amazon_Pantry</td>\n",
       "      <td>Consumables</td>\n",
       "      <td>11912.807101</td>\n",
       "      <td>58991.544654</td>\n",
       "      <td>US</td>\n",
       "      <td>4.951943</td>\n",
       "    </tr>\n",
       "    <tr>\n",
       "      <th>4</th>\n",
       "      <td>1</td>\n",
       "      <td>2017-01-05</td>\n",
       "      <td>2017-01-07</td>\n",
       "      <td>Amazon_Pantry</td>\n",
       "      <td>Consumables</td>\n",
       "      <td>10817.883315</td>\n",
       "      <td>54032.017658</td>\n",
       "      <td>US</td>\n",
       "      <td>4.994694</td>\n",
       "    </tr>\n",
       "  </tbody>\n",
       "</table>\n",
       "</div>"
      ],
      "text/plain": [
       "   marketplace_id   order_day  order_week             gl product_family  \\\n",
       "0               1  2017-01-01  2017-01-07  Amazon_Pantry    Consumables   \n",
       "1               1  2017-01-02  2017-01-07  Amazon_Pantry    Consumables   \n",
       "2               1  2017-01-03  2017-01-07  Amazon_Pantry    Consumables   \n",
       "3               1  2017-01-04  2017-01-07  Amazon_Pantry    Consumables   \n",
       "4               1  2017-01-05  2017-01-07  Amazon_Pantry    Consumables   \n",
       "\n",
       "          units           ops country       asp  \n",
       "0   9460.696331  46576.224274      US  4.923129  \n",
       "1  13828.318507  61148.434296      US  4.421972  \n",
       "2  12308.348366  59960.632711      US  4.871542  \n",
       "3  11912.807101  58991.544654      US  4.951943  \n",
       "4  10817.883315  54032.017658      US  4.994694  "
      ]
     },
     "execution_count": 17,
     "metadata": {},
     "output_type": "execute_result"
    }
   ],
   "source": [
    "# Filter only for the pantry GL and name this view pantry:\n",
    "pantry = sales.loc[sales['gl'] == 'Amazon_Pantry']\n",
    "pantry.head()"
   ]
  },
  {
   "cell_type": "code",
   "execution_count": 18,
   "metadata": {},
   "outputs": [
    {
     "data": {
      "text/html": [
       "<div>\n",
       "<style scoped>\n",
       "    .dataframe tbody tr th:only-of-type {\n",
       "        vertical-align: middle;\n",
       "    }\n",
       "\n",
       "    .dataframe tbody tr th {\n",
       "        vertical-align: top;\n",
       "    }\n",
       "\n",
       "    .dataframe thead th {\n",
       "        text-align: right;\n",
       "    }\n",
       "</style>\n",
       "<table border=\"1\" class=\"dataframe\">\n",
       "  <thead>\n",
       "    <tr style=\"text-align: right;\">\n",
       "      <th></th>\n",
       "      <th>marketplace_id</th>\n",
       "      <th>order_day</th>\n",
       "      <th>order_week</th>\n",
       "      <th>gl</th>\n",
       "      <th>product_family</th>\n",
       "      <th>units</th>\n",
       "      <th>ops</th>\n",
       "      <th>country</th>\n",
       "      <th>asp</th>\n",
       "    </tr>\n",
       "  </thead>\n",
       "  <tbody>\n",
       "    <tr>\n",
       "      <th>546</th>\n",
       "      <td>1</td>\n",
       "      <td>2017-07-01</td>\n",
       "      <td>2017-07-01</td>\n",
       "      <td>Apparel</td>\n",
       "      <td>Softlines</td>\n",
       "      <td>28386.369567</td>\n",
       "      <td>561085.865088</td>\n",
       "      <td>US</td>\n",
       "      <td>19.766031</td>\n",
       "    </tr>\n",
       "  </tbody>\n",
       "</table>\n",
       "</div>"
      ],
      "text/plain": [
       "     marketplace_id   order_day  order_week       gl product_family  \\\n",
       "546               1  2017-07-01  2017-07-01  Apparel      Softlines   \n",
       "\n",
       "            units            ops country        asp  \n",
       "546  28386.369567  561085.865088      US  19.766031  "
      ]
     },
     "execution_count": 18,
     "metadata": {},
     "output_type": "execute_result"
    }
   ],
   "source": [
    "# to add multiple conditions, wrap each condition in () and combine them together with &\n",
    "\n",
    "sales.loc[(sales['order_day'] == '2017-07-01') & (sales['gl'] == 'Apparel')]"
   ]
  },
  {
   "cell_type": "markdown",
   "metadata": {},
   "source": [
    "### Exercise: Filter the sales df for Halloween (i.e. order_day is '2017-10-31'), and for the Consumables product_family"
   ]
  },
  {
   "cell_type": "code",
   "execution_count": 19,
   "metadata": {},
   "outputs": [
    {
     "data": {
      "text/html": [
       "<div>\n",
       "<style scoped>\n",
       "    .dataframe tbody tr th:only-of-type {\n",
       "        vertical-align: middle;\n",
       "    }\n",
       "\n",
       "    .dataframe tbody tr th {\n",
       "        vertical-align: top;\n",
       "    }\n",
       "\n",
       "    .dataframe thead th {\n",
       "        text-align: right;\n",
       "    }\n",
       "</style>\n",
       "<table border=\"1\" class=\"dataframe\">\n",
       "  <thead>\n",
       "    <tr style=\"text-align: right;\">\n",
       "      <th></th>\n",
       "      <th>marketplace_id</th>\n",
       "      <th>order_day</th>\n",
       "      <th>order_week</th>\n",
       "      <th>gl</th>\n",
       "      <th>product_family</th>\n",
       "      <th>units</th>\n",
       "      <th>ops</th>\n",
       "      <th>country</th>\n",
       "      <th>asp</th>\n",
       "    </tr>\n",
       "  </thead>\n",
       "  <tbody>\n",
       "    <tr>\n",
       "      <th>303</th>\n",
       "      <td>1</td>\n",
       "      <td>2017-10-31</td>\n",
       "      <td>2017-11-04</td>\n",
       "      <td>Amazon_Pantry</td>\n",
       "      <td>Consumables</td>\n",
       "      <td>10232.549292</td>\n",
       "      <td>4.816686e+04</td>\n",
       "      <td>US</td>\n",
       "      <td>4.707220</td>\n",
       "    </tr>\n",
       "    <tr>\n",
       "      <th>2128</th>\n",
       "      <td>1</td>\n",
       "      <td>2017-10-31</td>\n",
       "      <td>2017-11-04</td>\n",
       "      <td>Baby</td>\n",
       "      <td>Consumables</td>\n",
       "      <td>7703.722777</td>\n",
       "      <td>2.092166e+05</td>\n",
       "      <td>US</td>\n",
       "      <td>27.157851</td>\n",
       "    </tr>\n",
       "    <tr>\n",
       "      <th>2493</th>\n",
       "      <td>1</td>\n",
       "      <td>2017-10-31</td>\n",
       "      <td>2017-11-04</td>\n",
       "      <td>Beauty</td>\n",
       "      <td>Consumables</td>\n",
       "      <td>29956.081572</td>\n",
       "      <td>5.408394e+05</td>\n",
       "      <td>US</td>\n",
       "      <td>18.054410</td>\n",
       "    </tr>\n",
       "    <tr>\n",
       "      <th>3953</th>\n",
       "      <td>1</td>\n",
       "      <td>2017-10-31</td>\n",
       "      <td>2017-11-04</td>\n",
       "      <td>Consumables_Email_Gift_Cards</td>\n",
       "      <td>Consumables</td>\n",
       "      <td>210.114827</td>\n",
       "      <td>1.271881e+04</td>\n",
       "      <td>US</td>\n",
       "      <td>60.532686</td>\n",
       "    </tr>\n",
       "    <tr>\n",
       "      <th>4318</th>\n",
       "      <td>1</td>\n",
       "      <td>2017-10-31</td>\n",
       "      <td>2017-11-04</td>\n",
       "      <td>Consumables_Physical_Gift_Cards</td>\n",
       "      <td>Consumables</td>\n",
       "      <td>353.911470</td>\n",
       "      <td>1.931629e+04</td>\n",
       "      <td>US</td>\n",
       "      <td>54.579441</td>\n",
       "    </tr>\n",
       "    <tr>\n",
       "      <th>6166</th>\n",
       "      <td>1</td>\n",
       "      <td>2017-10-31</td>\n",
       "      <td>2017-11-04</td>\n",
       "      <td>Gift Card</td>\n",
       "      <td>Consumables</td>\n",
       "      <td>5890.402282</td>\n",
       "      <td>3.287140e+05</td>\n",
       "      <td>US</td>\n",
       "      <td>55.805018</td>\n",
       "    </tr>\n",
       "    <tr>\n",
       "      <th>6408</th>\n",
       "      <td>1</td>\n",
       "      <td>2017-10-31</td>\n",
       "      <td>2017-11-04</td>\n",
       "      <td>Gourmet</td>\n",
       "      <td>Consumables</td>\n",
       "      <td>0.104474</td>\n",
       "      <td>2.390522e+00</td>\n",
       "      <td>US</td>\n",
       "      <td>22.881472</td>\n",
       "    </tr>\n",
       "    <tr>\n",
       "      <th>6770</th>\n",
       "      <td>1</td>\n",
       "      <td>2017-10-31</td>\n",
       "      <td>2017-11-04</td>\n",
       "      <td>Grocery</td>\n",
       "      <td>Consumables</td>\n",
       "      <td>20770.428716</td>\n",
       "      <td>3.476319e+05</td>\n",
       "      <td>US</td>\n",
       "      <td>16.736866</td>\n",
       "    </tr>\n",
       "    <tr>\n",
       "      <th>7135</th>\n",
       "      <td>1</td>\n",
       "      <td>2017-10-31</td>\n",
       "      <td>2017-11-04</td>\n",
       "      <td>Health &amp; Personal Care</td>\n",
       "      <td>Consumables</td>\n",
       "      <td>45195.460532</td>\n",
       "      <td>1.005302e+06</td>\n",
       "      <td>US</td>\n",
       "      <td>22.243426</td>\n",
       "    </tr>\n",
       "    <tr>\n",
       "      <th>10058</th>\n",
       "      <td>1</td>\n",
       "      <td>2017-10-31</td>\n",
       "      <td>2017-11-04</td>\n",
       "      <td>Luxury Beauty</td>\n",
       "      <td>Consumables</td>\n",
       "      <td>1415.645124</td>\n",
       "      <td>4.173980e+04</td>\n",
       "      <td>US</td>\n",
       "      <td>29.484647</td>\n",
       "    </tr>\n",
       "    <tr>\n",
       "      <th>13708</th>\n",
       "      <td>1</td>\n",
       "      <td>2017-10-31</td>\n",
       "      <td>2017-11-04</td>\n",
       "      <td>Personal_Care_Appliances</td>\n",
       "      <td>Consumables</td>\n",
       "      <td>144.180001</td>\n",
       "      <td>6.053330e+03</td>\n",
       "      <td>US</td>\n",
       "      <td>41.984531</td>\n",
       "    </tr>\n",
       "    <tr>\n",
       "      <th>19020</th>\n",
       "      <td>1</td>\n",
       "      <td>2017-10-31</td>\n",
       "      <td>2017-11-04</td>\n",
       "      <td>Wine</td>\n",
       "      <td>Consumables</td>\n",
       "      <td>34.140703</td>\n",
       "      <td>8.432250e+02</td>\n",
       "      <td>US</td>\n",
       "      <td>24.698526</td>\n",
       "    </tr>\n",
       "    <tr>\n",
       "      <th>19505</th>\n",
       "      <td>1</td>\n",
       "      <td>2017-10-31</td>\n",
       "      <td>2017-11-04</td>\n",
       "      <td>gl_fresh_ambient</td>\n",
       "      <td>Consumables</td>\n",
       "      <td>0.038349</td>\n",
       "      <td>2.598320e-01</td>\n",
       "      <td>US</td>\n",
       "      <td>6.775528</td>\n",
       "    </tr>\n",
       "    <tr>\n",
       "      <th>19813</th>\n",
       "      <td>1</td>\n",
       "      <td>2017-10-31</td>\n",
       "      <td>2017-11-04</td>\n",
       "      <td>gl_fresh_perishable</td>\n",
       "      <td>Consumables</td>\n",
       "      <td>4258.313622</td>\n",
       "      <td>1.658413e+04</td>\n",
       "      <td>US</td>\n",
       "      <td>3.894530</td>\n",
       "    </tr>\n",
       "    <tr>\n",
       "      <th>20178</th>\n",
       "      <td>1</td>\n",
       "      <td>2017-10-31</td>\n",
       "      <td>2017-11-04</td>\n",
       "      <td>gl_fresh_prepared</td>\n",
       "      <td>Consumables</td>\n",
       "      <td>200.794525</td>\n",
       "      <td>1.077214e+03</td>\n",
       "      <td>US</td>\n",
       "      <td>5.364757</td>\n",
       "    </tr>\n",
       "    <tr>\n",
       "      <th>20543</th>\n",
       "      <td>1</td>\n",
       "      <td>2017-10-31</td>\n",
       "      <td>2017-11-04</td>\n",
       "      <td>gl_fresh_produce</td>\n",
       "      <td>Consumables</td>\n",
       "      <td>2705.555039</td>\n",
       "      <td>5.908212e+03</td>\n",
       "      <td>US</td>\n",
       "      <td>2.183734</td>\n",
       "    </tr>\n",
       "  </tbody>\n",
       "</table>\n",
       "</div>"
      ],
      "text/plain": [
       "       marketplace_id   order_day  order_week  \\\n",
       "303                 1  2017-10-31  2017-11-04   \n",
       "2128                1  2017-10-31  2017-11-04   \n",
       "2493                1  2017-10-31  2017-11-04   \n",
       "3953                1  2017-10-31  2017-11-04   \n",
       "4318                1  2017-10-31  2017-11-04   \n",
       "6166                1  2017-10-31  2017-11-04   \n",
       "6408                1  2017-10-31  2017-11-04   \n",
       "6770                1  2017-10-31  2017-11-04   \n",
       "7135                1  2017-10-31  2017-11-04   \n",
       "10058               1  2017-10-31  2017-11-04   \n",
       "13708               1  2017-10-31  2017-11-04   \n",
       "19020               1  2017-10-31  2017-11-04   \n",
       "19505               1  2017-10-31  2017-11-04   \n",
       "19813               1  2017-10-31  2017-11-04   \n",
       "20178               1  2017-10-31  2017-11-04   \n",
       "20543               1  2017-10-31  2017-11-04   \n",
       "\n",
       "                                    gl product_family         units  \\\n",
       "303                      Amazon_Pantry    Consumables  10232.549292   \n",
       "2128                              Baby    Consumables   7703.722777   \n",
       "2493                            Beauty    Consumables  29956.081572   \n",
       "3953      Consumables_Email_Gift_Cards    Consumables    210.114827   \n",
       "4318   Consumables_Physical_Gift_Cards    Consumables    353.911470   \n",
       "6166                         Gift Card    Consumables   5890.402282   \n",
       "6408                           Gourmet    Consumables      0.104474   \n",
       "6770                           Grocery    Consumables  20770.428716   \n",
       "7135            Health & Personal Care    Consumables  45195.460532   \n",
       "10058                    Luxury Beauty    Consumables   1415.645124   \n",
       "13708         Personal_Care_Appliances    Consumables    144.180001   \n",
       "19020                             Wine    Consumables     34.140703   \n",
       "19505                 gl_fresh_ambient    Consumables      0.038349   \n",
       "19813              gl_fresh_perishable    Consumables   4258.313622   \n",
       "20178                gl_fresh_prepared    Consumables    200.794525   \n",
       "20543                 gl_fresh_produce    Consumables   2705.555039   \n",
       "\n",
       "                ops country        asp  \n",
       "303    4.816686e+04      US   4.707220  \n",
       "2128   2.092166e+05      US  27.157851  \n",
       "2493   5.408394e+05      US  18.054410  \n",
       "3953   1.271881e+04      US  60.532686  \n",
       "4318   1.931629e+04      US  54.579441  \n",
       "6166   3.287140e+05      US  55.805018  \n",
       "6408   2.390522e+00      US  22.881472  \n",
       "6770   3.476319e+05      US  16.736866  \n",
       "7135   1.005302e+06      US  22.243426  \n",
       "10058  4.173980e+04      US  29.484647  \n",
       "13708  6.053330e+03      US  41.984531  \n",
       "19020  8.432250e+02      US  24.698526  \n",
       "19505  2.598320e-01      US   6.775528  \n",
       "19813  1.658413e+04      US   3.894530  \n",
       "20178  1.077214e+03      US   5.364757  \n",
       "20543  5.908212e+03      US   2.183734  "
      ]
     },
     "execution_count": 19,
     "metadata": {},
     "output_type": "execute_result"
    }
   ],
   "source": [
    "### CODE FOR ABOVE EXERCISE ###\n",
    "\n",
    "sales.loc[(sales['order_day'] == '2017-10-31') & (sales['product_family'] == 'Consumables')]\n"
   ]
  },
  {
   "cell_type": "markdown",
   "metadata": {},
   "source": [
    "## Basic visualizations"
   ]
  },
  {
   "cell_type": "code",
   "execution_count": 20,
   "metadata": {},
   "outputs": [
    {
     "data": {
      "text/plain": [
       "<matplotlib.axes._subplots.AxesSubplot at 0x7f6f44183710>"
      ]
     },
     "execution_count": 20,
     "metadata": {},
     "output_type": "execute_result"
    },
    {
     "data": {
      "image/png": "[encoded data removed]",
      "text/plain": [
       "<Figure size 432x288 with 1 Axes>"
      ]
     },
     "metadata": {},
     "output_type": "display_data"
    }
   ],
   "source": [
    "# In the background, Pandas uses a Python package called matplotlib to make plotting convenient.\n",
    "# Since our toys df is indexed on date, Pandas automatically treats date as the x-axis.\n",
    "\n",
    "toys = sales[sales['gl']=='Toys']\n",
    "\n",
    "toys.plot(x='order_day', y='ops', kind='line')"
   ]
  },
  {
   "cell_type": "markdown",
   "metadata": {},
   "source": [
    "### Exercise: what other kinds of plots can Pandas produce? Try making a few below.\n",
    "Check out the API documentation for the pd.Series.plot method to find other allowable values of the \"kind\" argument:\n",
    "\n",
    "http://pandas.pydata.org/pandas-docs/version/0.22/generated/pandas.Series.plot.html"
   ]
  },
  {
   "cell_type": "code",
   "execution_count": 21,
   "metadata": {},
   "outputs": [
    {
     "data": {
      "text/plain": [
       "<matplotlib.axes._subplots.AxesSubplot at 0x7f6f440cce80>"
      ]
     },
     "execution_count": 21,
     "metadata": {},
     "output_type": "execute_result"
    },
    {
     "data": {
      "image/png": "[encoded data removed]",
      "text/plain": [
       "<Figure size 432x288 with 1 Axes>"
      ]
     },
     "metadata": {},
     "output_type": "display_data"
    }
   ],
   "source": [
    "### CODE FOR ABOVE EXERCISE ###\n",
    "\n",
    "toys.plot(x='order_day', y='ops', kind='kde')\n"
   ]
  },
  {
   "cell_type": "code",
   "execution_count": 22,
   "metadata": {},
   "outputs": [
    {
     "name": "stderr",
     "output_type": "stream",
     "text": [
      "/home/ec2-user/anaconda3/envs/python3/lib/python3.6/site-packages/ipykernel/__main__.py:3: SettingWithCopyWarning: \n",
      "A value is trying to be set on a copy of a slice from a DataFrame.\n",
      "Try using .loc[row_indexer,col_indexer] = value instead\n",
      "\n",
      "See the caveats in the documentation: http://pandas.pydata.org/pandas-docs/stable/indexing.html#indexing-view-versus-copy\n",
      "  app.launch_new_instance()\n"
     ]
    },
    {
     "data": {
      "text/plain": [
       "array([<matplotlib.axes._subplots.AxesSubplot object at 0x7f6f2f376668>,\n",
       "       <matplotlib.axes._subplots.AxesSubplot object at 0x7f6f2f322470>,\n",
       "       <matplotlib.axes._subplots.AxesSubplot object at 0x7f6f2f2c98d0>],\n",
       "      dtype=object)"
      ]
     },
     "execution_count": 22,
     "metadata": {},
     "output_type": "execute_result"
    },
    {
     "data": {
      "image/png": "[encoded data removed]",
      "text/plain": [
       "<Figure size 432x288 with 3 Axes>"
      ]
     },
     "metadata": {},
     "output_type": "display_data"
    }
   ],
   "source": [
    "# Or we can plot multiple metrics with a shared axis using subplots=True.\n",
    "# With a single line of code, Pandas can create detailed visualizations\n",
    "toys['asp'] = toys['ops'] / toys['units']\n",
    "toys.plot(x='order_day', y=['units', 'ops', 'asp'], kind='line', subplots=True)"
   ]
  },
  {
   "cell_type": "code",
   "execution_count": 23,
   "metadata": {},
   "outputs": [
    {
     "data": {
      "text/plain": [
       "<matplotlib.axes._subplots.AxesSubplot at 0x7f6f440ed2e8>"
      ]
     },
     "execution_count": 23,
     "metadata": {},
     "output_type": "execute_result"
    },
    {
     "data": {
      "image/png": "[encoded data removed]",
      "text/plain": [
       "<Figure size 432x288 with 1 Axes>"
      ]
     },
     "metadata": {},
     "output_type": "display_data"
    }
   ],
   "source": [
    "# Histograms are simple to create\n",
    "\n",
    "toys['units'].plot(kind='hist', bins=20)"
   ]
  },
  {
   "cell_type": "markdown",
   "metadata": {},
   "source": [
    "## Exporting Data"
   ]
  },
  {
   "cell_type": "code",
   "execution_count": null,
   "metadata": {},
   "outputs": [],
   "source": [
    "# If you want to export a DataFrame back to a text file, the syntax to do this is similar to pd.read_csv().\n",
    "# First, define the path / location where you want the file to be saved (including the filename):\n",
    "\n",
    "path_to_save_data = '../data/sales_fake_output.csv'\n",
    "\n",
    "sales.to_csv(path_to_save_data, index=False)"
   ]
  },
  {
   "cell_type": "code",
   "execution_count": null,
   "metadata": {},
   "outputs": [],
   "source": [
    "# Sometimes you might want to quickly look at the data in Excel.  \n",
    "# Add it to the clipboard and paste it wherever you want!\n",
    "\n",
    "sales.to_clipboard()"
   ]
  },
  {
   "cell_type": "code",
   "execution_count": null,
   "metadata": {},
   "outputs": [],
   "source": [
    "sales.gl.unique()"
   ]
  },
  {
   "cell_type": "markdown",
   "metadata": {},
   "source": [
    "# Your turn!"
   ]
  },
  {
   "cell_type": "markdown",
   "metadata": {},
   "source": [
    "Use the sales DataFrame to answer the following questions."
   ]
  },
  {
   "cell_type": "code",
   "execution_count": 24,
   "metadata": {},
   "outputs": [],
   "source": [
    "# First read in the data\n",
    "sales = pd.read_csv('../data/sales_fake.csv')"
   ]
  },
  {
   "cell_type": "markdown",
   "metadata": {},
   "source": [
    "1) What is the total OPS from all rows?"
   ]
  },
  {
   "cell_type": "code",
   "execution_count": 25,
   "metadata": {},
   "outputs": [
    {
     "data": {
      "text/plain": [
       "5441037303.093659"
      ]
     },
     "execution_count": 25,
     "metadata": {},
     "output_type": "execute_result"
    }
   ],
   "source": [
    "sales['ops'].sum()"
   ]
  },
  {
   "cell_type": "markdown",
   "metadata": {},
   "source": [
    "2) Display the top 5 rows of the Apparel GL"
   ]
  },
  {
   "cell_type": "code",
   "execution_count": 26,
   "metadata": {},
   "outputs": [
    {
     "data": {
      "text/html": [
       "<div>\n",
       "<style scoped>\n",
       "    .dataframe tbody tr th:only-of-type {\n",
       "        vertical-align: middle;\n",
       "    }\n",
       "\n",
       "    .dataframe tbody tr th {\n",
       "        vertical-align: top;\n",
       "    }\n",
       "\n",
       "    .dataframe thead th {\n",
       "        text-align: right;\n",
       "    }\n",
       "</style>\n",
       "<table border=\"1\" class=\"dataframe\">\n",
       "  <thead>\n",
       "    <tr style=\"text-align: right;\">\n",
       "      <th></th>\n",
       "      <th>marketplace_id</th>\n",
       "      <th>order_day</th>\n",
       "      <th>order_week</th>\n",
       "      <th>gl</th>\n",
       "      <th>product_family</th>\n",
       "      <th>units</th>\n",
       "      <th>ops</th>\n",
       "    </tr>\n",
       "  </thead>\n",
       "  <tbody>\n",
       "    <tr>\n",
       "      <th>365</th>\n",
       "      <td>1</td>\n",
       "      <td>2017-01-01</td>\n",
       "      <td>2017-01-07</td>\n",
       "      <td>Apparel</td>\n",
       "      <td>Softlines</td>\n",
       "      <td>25747.301580</td>\n",
       "      <td>518385.466484</td>\n",
       "    </tr>\n",
       "    <tr>\n",
       "      <th>366</th>\n",
       "      <td>1</td>\n",
       "      <td>2017-01-02</td>\n",
       "      <td>2017-01-07</td>\n",
       "      <td>Apparel</td>\n",
       "      <td>Softlines</td>\n",
       "      <td>33581.730644</td>\n",
       "      <td>662315.758715</td>\n",
       "    </tr>\n",
       "    <tr>\n",
       "      <th>367</th>\n",
       "      <td>1</td>\n",
       "      <td>2017-01-03</td>\n",
       "      <td>2017-01-07</td>\n",
       "      <td>Apparel</td>\n",
       "      <td>Softlines</td>\n",
       "      <td>30314.382538</td>\n",
       "      <td>628844.631639</td>\n",
       "    </tr>\n",
       "    <tr>\n",
       "      <th>368</th>\n",
       "      <td>1</td>\n",
       "      <td>2017-01-04</td>\n",
       "      <td>2017-01-07</td>\n",
       "      <td>Apparel</td>\n",
       "      <td>Softlines</td>\n",
       "      <td>31019.405514</td>\n",
       "      <td>676855.016368</td>\n",
       "    </tr>\n",
       "    <tr>\n",
       "      <th>369</th>\n",
       "      <td>1</td>\n",
       "      <td>2017-01-05</td>\n",
       "      <td>2017-01-07</td>\n",
       "      <td>Apparel</td>\n",
       "      <td>Softlines</td>\n",
       "      <td>31195.018531</td>\n",
       "      <td>640617.454671</td>\n",
       "    </tr>\n",
       "  </tbody>\n",
       "</table>\n",
       "</div>"
      ],
      "text/plain": [
       "     marketplace_id   order_day  order_week       gl product_family  \\\n",
       "365               1  2017-01-01  2017-01-07  Apparel      Softlines   \n",
       "366               1  2017-01-02  2017-01-07  Apparel      Softlines   \n",
       "367               1  2017-01-03  2017-01-07  Apparel      Softlines   \n",
       "368               1  2017-01-04  2017-01-07  Apparel      Softlines   \n",
       "369               1  2017-01-05  2017-01-07  Apparel      Softlines   \n",
       "\n",
       "            units            ops  \n",
       "365  25747.301580  518385.466484  \n",
       "366  33581.730644  662315.758715  \n",
       "367  30314.382538  628844.631639  \n",
       "368  31019.405514  676855.016368  \n",
       "369  31195.018531  640617.454671  "
      ]
     },
     "execution_count": 26,
     "metadata": {},
     "output_type": "execute_result"
    }
   ],
   "source": [
    "sales[sales['gl']=='Apparel'].head()"
   ]
  },
  {
   "cell_type": "markdown",
   "metadata": {},
   "source": [
    "3) Plot a line graph of the Apparel units by day"
   ]
  },
  {
   "cell_type": "code",
   "execution_count": 27,
   "metadata": {},
   "outputs": [
    {
     "data": {
      "text/plain": [
       "<matplotlib.axes._subplots.AxesSubplot at 0x7f6f2f196550>"
      ]
     },
     "execution_count": 27,
     "metadata": {},
     "output_type": "execute_result"
    },
    {
     "data": {
      "image/png": "[encoded data removed]",
      "text/plain": [
       "<Figure size 432x288 with 1 Axes>"
      ]
     },
     "metadata": {},
     "output_type": "display_data"
    }
   ],
   "source": [
    "sales[sales['gl']=='Apparel'].plot(y='units', x='order_day')"
   ]
  },
  {
   "cell_type": "markdown",
   "metadata": {},
   "source": [
    "4) How many unique GLs are there?"
   ]
  },
  {
   "cell_type": "code",
   "execution_count": 32,
   "metadata": {},
   "outputs": [
    {
     "data": {
      "text/plain": [
       "64"
      ]
     },
     "execution_count": 32,
     "metadata": {},
     "output_type": "execute_result"
    }
   ],
   "source": [
    "len(sales['gl'].unique())"
   ]
  },
  {
   "cell_type": "markdown",
   "metadata": {},
   "source": [
    "5) Filter dataset for only Pet Products. Plot one graph with a line for each of units, ops and asp by day"
   ]
  },
  {
   "cell_type": "code",
   "execution_count": 29,
   "metadata": {},
   "outputs": [
    {
     "data": {
      "text/plain": [
       "array([<matplotlib.axes._subplots.AxesSubplot object at 0x7f6f2f14b8d0>,\n",
       "       <matplotlib.axes._subplots.AxesSubplot object at 0x7f6f2f0e3940>,\n",
       "       <matplotlib.axes._subplots.AxesSubplot object at 0x7f6f2f08dda0>],\n",
       "      dtype=object)"
      ]
     },
     "execution_count": 29,
     "metadata": {},
     "output_type": "execute_result"
    },
    {
     "data": {
      "image/png": "[encoded data removed]",
      "text/plain": [
       "<Figure size 432x288 with 3 Axes>"
      ]
     },
     "metadata": {},
     "output_type": "display_data"
    }
   ],
   "source": [
    "sales['asp'] = sales['ops'] / sales['units']\n",
    "sales[sales['gl']=='Pet Products'].plot(x='order_day', y=['units', 'ops', 'asp'], kind='line', subplots=True)"
   ]
  },
  {
   "cell_type": "markdown",
   "metadata": {},
   "source": [
    "6) Create a new dataframe called \"last_day\" that contains only rows from the last order_day in the dataset"
   ]
  },
  {
   "cell_type": "code",
   "execution_count": 30,
   "metadata": {},
   "outputs": [
    {
     "data": {
      "text/html": [
       "<div>\n",
       "<style scoped>\n",
       "    .dataframe tbody tr th:only-of-type {\n",
       "        vertical-align: middle;\n",
       "    }\n",
       "\n",
       "    .dataframe tbody tr th {\n",
       "        vertical-align: top;\n",
       "    }\n",
       "\n",
       "    .dataframe thead th {\n",
       "        text-align: right;\n",
       "    }\n",
       "</style>\n",
       "<table border=\"1\" class=\"dataframe\">\n",
       "  <thead>\n",
       "    <tr style=\"text-align: right;\">\n",
       "      <th></th>\n",
       "      <th>marketplace_id</th>\n",
       "      <th>order_day</th>\n",
       "      <th>order_week</th>\n",
       "      <th>gl</th>\n",
       "      <th>product_family</th>\n",
       "      <th>units</th>\n",
       "      <th>ops</th>\n",
       "      <th>asp</th>\n",
       "    </tr>\n",
       "  </thead>\n",
       "  <tbody>\n",
       "    <tr>\n",
       "      <th>364</th>\n",
       "      <td>1</td>\n",
       "      <td>2017-12-31</td>\n",
       "      <td>2018-01-06</td>\n",
       "      <td>Amazon_Pantry</td>\n",
       "      <td>Consumables</td>\n",
       "      <td>9581.650636</td>\n",
       "      <td>46424.293371</td>\n",
       "      <td>4.845125</td>\n",
       "    </tr>\n",
       "    <tr>\n",
       "      <th>729</th>\n",
       "      <td>1</td>\n",
       "      <td>2017-12-31</td>\n",
       "      <td>2018-01-06</td>\n",
       "      <td>Apparel</td>\n",
       "      <td>Softlines</td>\n",
       "      <td>33264.557090</td>\n",
       "      <td>692169.550724</td>\n",
       "      <td>20.808019</td>\n",
       "    </tr>\n",
       "    <tr>\n",
       "      <th>1094</th>\n",
       "      <td>1</td>\n",
       "      <td>2017-12-31</td>\n",
       "      <td>2018-01-06</td>\n",
       "      <td>Art</td>\n",
       "      <td>Hardlines</td>\n",
       "      <td>0.711553</td>\n",
       "      <td>49.519672</td>\n",
       "      <td>69.593827</td>\n",
       "    </tr>\n",
       "    <tr>\n",
       "      <th>1459</th>\n",
       "      <td>1</td>\n",
       "      <td>2017-12-31</td>\n",
       "      <td>2018-01-06</td>\n",
       "      <td>Art and Craft Supplies</td>\n",
       "      <td>Hardlines</td>\n",
       "      <td>193.585928</td>\n",
       "      <td>2875.328272</td>\n",
       "      <td>14.852982</td>\n",
       "    </tr>\n",
       "    <tr>\n",
       "      <th>1824</th>\n",
       "      <td>1</td>\n",
       "      <td>2017-12-31</td>\n",
       "      <td>2018-01-06</td>\n",
       "      <td>Automotive</td>\n",
       "      <td>Hardlines</td>\n",
       "      <td>10064.312375</td>\n",
       "      <td>322393.201853</td>\n",
       "      <td>32.033306</td>\n",
       "    </tr>\n",
       "  </tbody>\n",
       "</table>\n",
       "</div>"
      ],
      "text/plain": [
       "      marketplace_id   order_day  order_week                      gl  \\\n",
       "364                1  2017-12-31  2018-01-06           Amazon_Pantry   \n",
       "729                1  2017-12-31  2018-01-06                 Apparel   \n",
       "1094               1  2017-12-31  2018-01-06                     Art   \n",
       "1459               1  2017-12-31  2018-01-06  Art and Craft Supplies   \n",
       "1824               1  2017-12-31  2018-01-06              Automotive   \n",
       "\n",
       "     product_family         units            ops        asp  \n",
       "364     Consumables   9581.650636   46424.293371   4.845125  \n",
       "729       Softlines  33264.557090  692169.550724  20.808019  \n",
       "1094      Hardlines      0.711553      49.519672  69.593827  \n",
       "1459      Hardlines    193.585928    2875.328272  14.852982  \n",
       "1824      Hardlines  10064.312375  322393.201853  32.033306  "
      ]
     },
     "execution_count": 30,
     "metadata": {},
     "output_type": "execute_result"
    }
   ],
   "source": [
    "last_day = sales[sales['order_day']==sales['order_day'].max()]\n",
    "last_day.head()"
   ]
  },
  {
   "cell_type": "markdown",
   "metadata": {},
   "source": [
    "7) Output the result above to an excel file called \"test_output.xlsx\""
   ]
  },
  {
   "cell_type": "code",
   "execution_count": 31,
   "metadata": {},
   "outputs": [],
   "source": [
    "last_day.to_excel('../data/test_output.xlsx')"
   ]
  },
  {
   "cell_type": "code",
   "execution_count": null,
   "metadata": {},
   "outputs": [],
   "source": []
  }
 ],
 "metadata": {
  "kernelspec": {
   "display_name": "conda_python3",
   "language": "python",
   "name": "conda_python3"
  },
  "language_info": {
   "codemirror_mode": {
    "name": "ipython",
    "version": 3
   },
   "file_extension": ".py",
   "mimetype": "text/x-python",
   "name": "python",
   "nbconvert_exporter": "python",
   "pygments_lexer": "ipython3",
   "version": "3.6.5"
  }
 },
 "nbformat": 4,
 "nbformat_minor": 2
}
