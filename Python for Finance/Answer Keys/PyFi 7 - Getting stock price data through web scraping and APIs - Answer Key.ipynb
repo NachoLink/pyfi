{
 "cells": [
  {
   "cell_type": "code",
   "execution_count": 1,
   "metadata": {},
   "outputs": [],
   "source": [
    "# https://flinhong.com/2017/10/30/query-yahoo-finance-historical-data-via-python-requests/\n",
    "\n",
    "import re\n",
    "import sys\n",
    "import time\n",
    "import datetime\n",
    "import requests\n",
    "import pandas as pd\n",
    "\n",
    "\n",
    "def get_cookie_value(r):\n",
    "    return {'B': r.cookies['B']}\n",
    "\n",
    "def get_page_data(symbol):\n",
    "    url = \"https://finance.yahoo.com/quote/%s/?p=%s\" % (symbol, symbol)\n",
    "    r = requests.get(url)\n",
    "    cookie = get_cookie_value(r)\n",
    "    lines = r.content.decode('unicode-escape').strip(). replace('}', '\\n')\n",
    "    return cookie, lines.split('\\n')\n",
    "\n",
    "def find_crumb_store(lines):\n",
    "    for l in lines:\n",
    "        if re.findall(r'CrumbStore', l):\n",
    "            return l\n",
    "    print(\"Did not find CrumbStore\")\n",
    "\n",
    "def split_crumb_store(v):\n",
    "    return v.split(':')[2].strip('\"')\n",
    "\n",
    "def get_cookie_crumb(symbol):\n",
    "    cookie, lines = get_page_data(symbol)\n",
    "    crumb = split_crumb_store(find_crumb_store(lines))\n",
    "    return cookie, crumb\n",
    "\n",
    "def get_data(symbol, start_date, end_date, cookie, crumb):\n",
    "    filename = '%s.csv' % (symbol)\n",
    "    url = \"https://query1.finance.yahoo.com/v7/finance/download/%s?period1=%s&period2=%s&interval=1d&events=history&crumb=%s\" % (symbol, start_date, end_date, crumb)\n",
    "    response = requests.get(url, cookies=cookie)\n",
    "    return response\n",
    "\n",
    "def get_now_epoch():\n",
    "    return int(time.time())\n",
    "\n",
    "def convert_to_dataframe(data, symbol):\n",
    "    data = data.content.decode(\"utf-8\").splitlines()\n",
    "    data = [i.strip(',') for i in data]\n",
    "    data = pd.DataFrame(data)\n",
    "    data = data[0].str.split(',', expand=True)\n",
    "    cols = data.iloc[0,:].values.tolist()\n",
    "    data.columns = cols\n",
    "    data = data[1:]\n",
    "    data['symbol'] = symbol\n",
    "    data['Date'] = pd.DatetimeIndex(data['Date'])\n",
    "    data[['Open','High','Low','Close','Adj Close','Volume']] = data[['Open','High','Low','Close','Adj Close','Volume']].astype(float)\n",
    "    return data\n",
    "\n",
    "def download_quotes(symbols):\n",
    "\n",
    "    if type(symbols)!=list:\n",
    "        symbols = [symbols]\n",
    "        \n",
    "    start_date = 0\n",
    "    end_date = get_now_epoch()\n",
    "    \n",
    "    stocks = []\n",
    "    for symbol in symbols:\n",
    "        cookie, crumb = get_cookie_crumb(symbol)\n",
    "        data = get_data(symbol, start_date, end_date, cookie, crumb)\n",
    "        stocks.append(convert_to_dataframe(data, symbol))\n",
    "        \n",
    "    return pd.concat(stocks, axis=0)\n"
   ]
  },
  {
   "cell_type": "code",
   "execution_count": 2,
   "metadata": {},
   "outputs": [],
   "source": [
    "#if in eider, comment out following code\n",
    "%matplotlib inline\n",
    "\n",
    "from IPython.core.interactiveshell import InteractiveShell\n",
    "InteractiveShell.ast_node_interactivity = \"all\""
   ]
  },
  {
   "cell_type": "code",
   "execution_count": 3,
   "metadata": {},
   "outputs": [
    {
     "name": "stderr",
     "output_type": "stream",
     "text": [
      "/Users/dangoodb/anaconda/lib/python3.6/site-packages/ipykernel_launcher.py:18: DeprecationWarning: invalid escape sequence '\\/'\n"
     ]
    },
    {
     "data": {
      "text/html": [
       "<div>\n",
       "<style>\n",
       "    .dataframe thead tr:only-child th {\n",
       "        text-align: right;\n",
       "    }\n",
       "\n",
       "    .dataframe thead th {\n",
       "        text-align: left;\n",
       "    }\n",
       "\n",
       "    .dataframe tbody tr th {\n",
       "        vertical-align: top;\n",
       "    }\n",
       "</style>\n",
       "<table border=\"1\" class=\"dataframe\">\n",
       "  <thead>\n",
       "    <tr style=\"text-align: right;\">\n",
       "      <th></th>\n",
       "      <th>Date</th>\n",
       "      <th>Open</th>\n",
       "      <th>High</th>\n",
       "      <th>Low</th>\n",
       "      <th>Close</th>\n",
       "      <th>Adj Close</th>\n",
       "      <th>Volume</th>\n",
       "      <th>symbol</th>\n",
       "    </tr>\n",
       "  </thead>\n",
       "  <tbody>\n",
       "    <tr>\n",
       "      <th>1</th>\n",
       "      <td>1970-01-02</td>\n",
       "      <td>92.059998</td>\n",
       "      <td>93.540001</td>\n",
       "      <td>91.790001</td>\n",
       "      <td>93.000000</td>\n",
       "      <td>93.000000</td>\n",
       "      <td>8050000.0</td>\n",
       "      <td>^GSPC</td>\n",
       "    </tr>\n",
       "    <tr>\n",
       "      <th>2</th>\n",
       "      <td>1970-01-05</td>\n",
       "      <td>93.000000</td>\n",
       "      <td>94.250000</td>\n",
       "      <td>92.529999</td>\n",
       "      <td>93.459999</td>\n",
       "      <td>93.459999</td>\n",
       "      <td>11490000.0</td>\n",
       "      <td>^GSPC</td>\n",
       "    </tr>\n",
       "    <tr>\n",
       "      <th>3</th>\n",
       "      <td>1970-01-06</td>\n",
       "      <td>93.459999</td>\n",
       "      <td>93.809998</td>\n",
       "      <td>92.129997</td>\n",
       "      <td>92.820000</td>\n",
       "      <td>92.820000</td>\n",
       "      <td>11460000.0</td>\n",
       "      <td>^GSPC</td>\n",
       "    </tr>\n",
       "    <tr>\n",
       "      <th>4</th>\n",
       "      <td>1970-01-07</td>\n",
       "      <td>92.820000</td>\n",
       "      <td>93.379997</td>\n",
       "      <td>91.930000</td>\n",
       "      <td>92.629997</td>\n",
       "      <td>92.629997</td>\n",
       "      <td>10010000.0</td>\n",
       "      <td>^GSPC</td>\n",
       "    </tr>\n",
       "    <tr>\n",
       "      <th>5</th>\n",
       "      <td>1970-01-08</td>\n",
       "      <td>92.629997</td>\n",
       "      <td>93.470001</td>\n",
       "      <td>91.989998</td>\n",
       "      <td>92.680000</td>\n",
       "      <td>92.680000</td>\n",
       "      <td>10670000.0</td>\n",
       "      <td>^GSPC</td>\n",
       "    </tr>\n",
       "  </tbody>\n",
       "</table>\n",
       "</div>"
      ],
      "text/plain": [
       "        Date       Open       High        Low      Close  Adj Close  \\\n",
       "1 1970-01-02  92.059998  93.540001  91.790001  93.000000  93.000000   \n",
       "2 1970-01-05  93.000000  94.250000  92.529999  93.459999  93.459999   \n",
       "3 1970-01-06  93.459999  93.809998  92.129997  92.820000  92.820000   \n",
       "4 1970-01-07  92.820000  93.379997  91.930000  92.629997  92.629997   \n",
       "5 1970-01-08  92.629997  93.470001  91.989998  92.680000  92.680000   \n",
       "\n",
       "       Volume symbol  \n",
       "1   8050000.0  ^GSPC  \n",
       "2  11490000.0  ^GSPC  \n",
       "3  11460000.0  ^GSPC  \n",
       "4  10010000.0  ^GSPC  \n",
       "5  10670000.0  ^GSPC  "
      ]
     },
     "execution_count": 3,
     "metadata": {},
     "output_type": "execute_result"
    }
   ],
   "source": [
    "df = download_quotes(['^GSPC','AMZN'])\n",
    "df.head()"
   ]
  },
  {
   "cell_type": "markdown",
   "metadata": {},
   "source": [
    "# Your Turn!\n"
   ]
  },
  {
   "cell_type": "markdown",
   "metadata": {},
   "source": [
    "1\\. What was the \"Open\" price of Amazon stock (AMZN) on February 15, 2012?"
   ]
  },
  {
   "cell_type": "code",
   "execution_count": 4,
   "metadata": {},
   "outputs": [
    {
     "name": "stderr",
     "output_type": "stream",
     "text": [
      "/Users/dangoodb/anaconda/lib/python3.6/site-packages/ipykernel_launcher.py:18: DeprecationWarning: invalid escape sequence '\\/'\n"
     ]
    },
    {
     "data": {
      "text/plain": [
       "3714    191.289993\n",
       "Name: Open, dtype: float64"
      ]
     },
     "execution_count": 4,
     "metadata": {},
     "output_type": "execute_result"
    }
   ],
   "source": [
    "# download AMZN quotes\n",
    "az = download_quotes('AMZN')\n",
    "\n",
    "az.loc[az.Date=='2012-02-15', 'Open']"
   ]
  },
  {
   "cell_type": "markdown",
   "metadata": {},
   "source": [
    "2\\. What was the highest volume of Amazon stock traded in one day?\n"
   ]
  },
  {
   "cell_type": "code",
   "execution_count": 5,
   "metadata": {},
   "outputs": [
    {
     "data": {
      "text/plain": [
       "104329200.0"
      ]
     },
     "execution_count": 5,
     "metadata": {},
     "output_type": "execute_result"
    }
   ],
   "source": [
    "az.Volume.max()"
   ]
  },
  {
   "cell_type": "markdown",
   "metadata": {},
   "source": [
    "3\\. On what day day did this occur?"
   ]
  },
  {
   "cell_type": "code",
   "execution_count": 6,
   "metadata": {},
   "outputs": [
    {
     "data": {
      "text/plain": [
       "Date      2007-04-25 00:00:00\n",
       "Volume            1.04329e+08\n",
       "Name: 2501, dtype: object"
      ]
     },
     "execution_count": 6,
     "metadata": {},
     "output_type": "execute_result"
    }
   ],
   "source": [
    "# Method 1\n",
    "\n",
    "az.loc[az.Volume.argmax(), ['Date','Volume']]"
   ]
  },
  {
   "cell_type": "code",
   "execution_count": 7,
   "metadata": {},
   "outputs": [
    {
     "data": {
      "text/html": [
       "<div>\n",
       "<style>\n",
       "    .dataframe thead tr:only-child th {\n",
       "        text-align: right;\n",
       "    }\n",
       "\n",
       "    .dataframe thead th {\n",
       "        text-align: left;\n",
       "    }\n",
       "\n",
       "    .dataframe tbody tr th {\n",
       "        vertical-align: top;\n",
       "    }\n",
       "</style>\n",
       "<table border=\"1\" class=\"dataframe\">\n",
       "  <thead>\n",
       "    <tr style=\"text-align: right;\">\n",
       "      <th></th>\n",
       "      <th>Date</th>\n",
       "      <th>Volume</th>\n",
       "    </tr>\n",
       "  </thead>\n",
       "  <tbody>\n",
       "    <tr>\n",
       "      <th>2501</th>\n",
       "      <td>2007-04-25</td>\n",
       "      <td>104329200.0</td>\n",
       "    </tr>\n",
       "  </tbody>\n",
       "</table>\n",
       "</div>"
      ],
      "text/plain": [
       "           Date       Volume\n",
       "2501 2007-04-25  104329200.0"
      ]
     },
     "execution_count": 7,
     "metadata": {},
     "output_type": "execute_result"
    }
   ],
   "source": [
    "# Method 2\n",
    "\n",
    "az.loc[az.Volume==az.Volume.max(), ['Date','Volume']]"
   ]
  },
  {
   "cell_type": "markdown",
   "metadata": {},
   "source": [
    "4\\. What was Amazon's biggest one day stock growth in dollar terms? in percentage terms?"
   ]
  },
  {
   "cell_type": "code",
   "execution_count": 8,
   "metadata": {},
   "outputs": [
    {
     "name": "stdout",
     "output_type": "stream",
     "text": [
      "\n",
      "Difference between opening and closing price\n"
     ]
    },
    {
     "data": {
      "text/plain": [
       "81.38000499999998"
      ]
     },
     "execution_count": 8,
     "metadata": {},
     "output_type": "execute_result"
    },
    {
     "data": {
      "text/plain": [
       "Date         2018-02-06 00:00:00\n",
       "Open                     1361.46\n",
       "Adj Close                1442.84\n",
       "Name: 5217, dtype: object"
      ]
     },
     "execution_count": 8,
     "metadata": {},
     "output_type": "execute_result"
    },
    {
     "name": "stdout",
     "output_type": "stream",
     "text": [
      "\n",
      "Change in Adj Close\n"
     ]
    },
    {
     "data": {
      "text/plain": [
       "128.5199580000001"
      ]
     },
     "execution_count": 8,
     "metadata": {},
     "output_type": "execute_result"
    },
    {
     "data": {
      "text/html": [
       "<div>\n",
       "<style>\n",
       "    .dataframe thead tr:only-child th {\n",
       "        text-align: right;\n",
       "    }\n",
       "\n",
       "    .dataframe thead th {\n",
       "        text-align: left;\n",
       "    }\n",
       "\n",
       "    .dataframe tbody tr th {\n",
       "        vertical-align: top;\n",
       "    }\n",
       "</style>\n",
       "<table border=\"1\" class=\"dataframe\">\n",
       "  <thead>\n",
       "    <tr style=\"text-align: right;\">\n",
       "      <th></th>\n",
       "      <th>Date</th>\n",
       "      <th>Open</th>\n",
       "      <th>Adj Close</th>\n",
       "    </tr>\n",
       "  </thead>\n",
       "  <tbody>\n",
       "    <tr>\n",
       "      <th>5149</th>\n",
       "      <td>2017-10-27</td>\n",
       "      <td>1058.140015</td>\n",
       "      <td>1100.949951</td>\n",
       "    </tr>\n",
       "    <tr>\n",
       "      <th>5148</th>\n",
       "      <td>2017-10-26</td>\n",
       "      <td>980.330017</td>\n",
       "      <td>972.429993</td>\n",
       "    </tr>\n",
       "  </tbody>\n",
       "</table>\n",
       "</div>"
      ],
      "text/plain": [
       "           Date         Open    Adj Close\n",
       "5149 2017-10-27  1058.140015  1100.949951\n",
       "5148 2017-10-26   980.330017   972.429993"
      ]
     },
     "execution_count": 8,
     "metadata": {},
     "output_type": "execute_result"
    },
    {
     "name": "stdout",
     "output_type": "stream",
     "text": [
      "\n",
      "Percentage change in Adj Close\n"
     ]
    },
    {
     "data": {
      "text/plain": [
       "0.3447136563876654"
      ]
     },
     "execution_count": 8,
     "metadata": {},
     "output_type": "execute_result"
    },
    {
     "data": {
      "text/plain": [
       "Date         2001-11-26 00:00:00\n",
       "Open                        9.83\n",
       "Adj Close                  12.21\n",
       "Name: 1140, dtype: object"
      ]
     },
     "execution_count": 8,
     "metadata": {},
     "output_type": "execute_result"
    }
   ],
   "source": [
    "# Multiple ways to solve this\n",
    "\n",
    "\n",
    "print('\\nDifference between opening and closing price')\n",
    "\n",
    "(az['Adj Close']-az['Open']).max()\n",
    "az.loc[(az['Adj Close']-az['Open']).argmax(), ['Date','Open','Adj Close']]\n",
    "\n",
    "\n",
    "print('\\nChange in Adj Close')\n",
    "\n",
    "az['Adj Close'].diff().max()\n",
    "az.loc[[az['Adj Close'].diff().argmax(), az['Adj Close'].diff().argmax()-1], ['Date','Open','Adj Close']]\n",
    "\n",
    "\n",
    "print('\\nPercentage change in Adj Close')\n",
    "\n",
    "az['Adj Close'].pct_change().max()\n",
    "az.loc[az['Adj Close'].pct_change().argmax(), ['Date','Open','Adj Close']]"
   ]
  },
  {
   "cell_type": "markdown",
   "metadata": {},
   "source": [
    "5\\. Create line chart showing Amazon stock price over time"
   ]
  },
  {
   "cell_type": "code",
   "execution_count": 9,
   "metadata": {},
   "outputs": [
    {
     "data": {
      "text/plain": [
       "<matplotlib.axes._subplots.AxesSubplot at 0x114cdc320>"
      ]
     },
     "execution_count": 9,
     "metadata": {},
     "output_type": "execute_result"
    },
    {
     "data": {
      "image/png": "[encoded data removed]",
      "text/plain": [
       "<matplotlib.figure.Figure at 0x114c258d0>"
      ]
     },
     "metadata": {},
     "output_type": "display_data"
    }
   ],
   "source": [
    "az.plot(y='Adj Close', x='Date')"
   ]
  },
  {
   "cell_type": "markdown",
   "metadata": {},
   "source": [
    "6\\. Create line chart showing average monthly stock price of Amazon (AMZN) vs S&P 500 (^GSPC) since January 2000 using Adj Close\n",
    "\n",
    "hint: df['column'].dt.to_period(\"M\") can convert a date to a month"
   ]
  },
  {
   "cell_type": "code",
   "execution_count": 10,
   "metadata": {},
   "outputs": [
    {
     "name": "stderr",
     "output_type": "stream",
     "text": [
      "/Users/dangoodb/anaconda/lib/python3.6/site-packages/ipykernel_launcher.py:18: DeprecationWarning: invalid escape sequence '\\/'\n",
      "/Users/dangoodb/anaconda/lib/python3.6/site-packages/pandas/core/generic.py:2999: SettingWithCopyWarning: \n",
      "A value is trying to be set on a copy of a slice from a DataFrame.\n",
      "Try using .loc[row_indexer,col_indexer] = value instead\n",
      "\n",
      "See the caveats in the documentation: http://pandas.pydata.org/pandas-docs/stable/indexing.html#indexing-view-versus-copy\n",
      "  self[name] = value\n"
     ]
    },
    {
     "data": {
      "text/plain": [
       "<matplotlib.axes._subplots.AxesSubplot at 0x114e2ce80>"
      ]
     },
     "execution_count": 10,
     "metadata": {},
     "output_type": "execute_result"
    },
    {
     "data": {
      "image/png": "[encoded data removed]",
      "text/plain": [
       "<matplotlib.figure.Figure at 0x114e37f98>"
      ]
     },
     "metadata": {},
     "output_type": "display_data"
    }
   ],
   "source": [
    "# Method 1\n",
    "\n",
    "az = download_quotes('AMZN')\n",
    "sp = download_quotes('^GSPC')\n",
    "\n",
    "data = []\n",
    "\n",
    "for df in [sp, az]:\n",
    "    df = df[df['Date']>='2000-01-01']\n",
    "    \n",
    "    df.Date = df.Date.dt.to_period(\"M\")\n",
    "    df = df.groupby(['Date'])['Adj Close'].mean().reset_index()\n",
    "    \n",
    "    data.append(df)\n",
    "    \n",
    "df = pd.concat(data, axis=1)\n",
    "\n",
    "df.plot(legend=True, figsize=(4,3), rot=45)"
   ]
  },
  {
   "cell_type": "code",
   "execution_count": 11,
   "metadata": {},
   "outputs": [
    {
     "data": {
      "text/plain": [
       "<matplotlib.axes._subplots.AxesSubplot at 0x114fb46d8>"
      ]
     },
     "execution_count": 11,
     "metadata": {},
     "output_type": "execute_result"
    },
    {
     "data": {
      "image/png": "[encoded data removed]",
      "text/plain": [
       "<matplotlib.figure.Figure at 0x1150fd940>"
      ]
     },
     "metadata": {},
     "output_type": "display_data"
    }
   ],
   "source": [
    "# Method 2\n",
    "\n",
    "df = pd.concat([sp, az], axis=0)\n",
    "df = df[df['Date']>='2000-01-01']\n",
    "\n",
    "df.Date = df.Date.dt.to_period(\"M\")\n",
    "df = pd.pivot_table(df, index='Date', columns='symbol', values='Adj Close', aggfunc='mean')\n",
    "\n",
    "df.plot(legend=True, figsize=(4,3), rot=45)"
   ]
  },
  {
   "cell_type": "code",
   "execution_count": 12,
   "metadata": {},
   "outputs": [
    {
     "name": "stderr",
     "output_type": "stream",
     "text": [
      "/Users/dangoodb/anaconda/lib/python3.6/site-packages/ipykernel_launcher.py:18: DeprecationWarning: invalid escape sequence '\\/'\n",
      "/Users/dangoodb/anaconda/lib/python3.6/site-packages/pandas/core/groupby.py:1232: FutureWarning: how in .resample() is deprecated\n",
      "the new syntax is .resample(...).mean()\n",
      "  return get_resampler_for_grouping(self, rule, *args, **kwargs)\n"
     ]
    },
    {
     "data": {
      "text/plain": [
       "symbol\n",
       "AMZN     Axes(0.125,0.125;0.775x0.755)\n",
       "^GSPC    Axes(0.125,0.125;0.775x0.755)\n",
       "Name: Adj Close, dtype: object"
      ]
     },
     "execution_count": 12,
     "metadata": {},
     "output_type": "execute_result"
    },
    {
     "data": {
      "image/png": "[encoded data removed]",
      "text/plain": [
       "<matplotlib.figure.Figure at 0x115767ba8>"
      ]
     },
     "metadata": {},
     "output_type": "display_data"
    }
   ],
   "source": [
    "df = download_quotes(['AMZN','^GSPC'])\n",
    "df = df[df['Date']>='2000-01-01']\n",
    "\n",
    "(df\n",
    " .set_index(['Date'])\n",
    " .groupby('symbol')['Adj Close']\n",
    " .resample('M', how='mean')\n",
    " .groupby('symbol')\n",
    " .plot(legend=True, figsize=(4,3), rot=45)\n",
    ")"
   ]
  },
  {
   "cell_type": "markdown",
   "metadata": {},
   "source": [
    "7\\. Create same chart in 6. but normalize it so that both stocks are set to 1.0 in January 2000"
   ]
  },
  {
   "cell_type": "code",
   "execution_count": 13,
   "metadata": {},
   "outputs": [
    {
     "name": "stderr",
     "output_type": "stream",
     "text": [
      "/Users/dangoodb/anaconda/lib/python3.6/site-packages/ipykernel_launcher.py:18: DeprecationWarning: invalid escape sequence '\\/'\n",
      "/Users/dangoodb/anaconda/lib/python3.6/site-packages/ipykernel_launcher.py:8: SettingWithCopyWarning: \n",
      "A value is trying to be set on a copy of a slice from a DataFrame.\n",
      "Try using .loc[row_indexer,col_indexer] = value instead\n",
      "\n",
      "See the caveats in the documentation: http://pandas.pydata.org/pandas-docs/stable/indexing.html#indexing-view-versus-copy\n",
      "  \n",
      "/Users/dangoodb/anaconda/lib/python3.6/site-packages/pandas/core/generic.py:2999: SettingWithCopyWarning: \n",
      "A value is trying to be set on a copy of a slice from a DataFrame.\n",
      "Try using .loc[row_indexer,col_indexer] = value instead\n",
      "\n",
      "See the caveats in the documentation: http://pandas.pydata.org/pandas-docs/stable/indexing.html#indexing-view-versus-copy\n",
      "  self[name] = value\n"
     ]
    },
    {
     "data": {
      "text/plain": [
       "<matplotlib.axes._subplots.AxesSubplot at 0x113bdd2e8>"
      ]
     },
     "execution_count": 13,
     "metadata": {},
     "output_type": "execute_result"
    },
    {
     "data": {
      "image/png": "[encoded data removed]",
      "text/plain": [
       "<matplotlib.figure.Figure at 0x1148ad5c0>"
      ]
     },
     "metadata": {},
     "output_type": "display_data"
    }
   ],
   "source": [
    "az = download_quotes('AMZN')\n",
    "sp = download_quotes('^GSPC')\n",
    "\n",
    "data = []\n",
    "\n",
    "for df in [sp, az]:\n",
    "    df = df[df['Date']>='2000-01-01']\n",
    "    df['Adj Close'] /= df['Adj Close'].iloc[0]\n",
    "    \n",
    "    df.Date = df.Date.dt.to_period(\"M\")\n",
    "    df = df.groupby(['Date'])['Adj Close'].mean().reset_index()\n",
    "    \n",
    "    data.append(df)\n",
    "    \n",
    "df = pd.concat(data, axis=1)\n",
    "\n",
    "df.plot(x='Date', legend=True, figsize=(4,3), rot=45)"
   ]
  },
  {
   "cell_type": "code",
   "execution_count": null,
   "metadata": {},
   "outputs": [],
   "source": []
  }
 ],
 "metadata": {
  "kernelspec": {
   "display_name": "conda_python3",
   "language": "python",
   "name": "python3"
  },
  "language_info": {
   "codemirror_mode": {
    "name": "ipython",
    "version": 3
   },
   "file_extension": ".py",
   "mimetype": "text/x-python",
   "name": "python",
   "nbconvert_exporter": "python",
   "pygments_lexer": "ipython3",
   "version": "3.7.3"
  }
 },
 "nbformat": 4,
 "nbformat_minor": 2
}
