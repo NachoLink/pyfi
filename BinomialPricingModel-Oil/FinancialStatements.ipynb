{
 "cells": [
  {
   "cell_type": "code",
   "execution_count": 1,
   "metadata": {},
   "outputs": [],
   "source": [
    "import pandas as pd"
   ]
  },
  {
   "cell_type": "code",
   "execution_count": 210,
   "metadata": {},
   "outputs": [],
   "source": [
    "# This page aims to reconstruct an accurate PV of cash flows projection, and will eventually incorporate TimeStream"
   ]
  },
  {
   "cell_type": "code",
   "execution_count": 314,
   "metadata": {},
   "outputs": [],
   "source": [
    "# We're going to need to cleanup the data, here's some functions to make that easier across our data sets.\n",
    "def removeComma(x):\n",
    "    return (float(str(x).replace(',','')))\n",
    "def columnCleanup(x):\n",
    "    ref = []\n",
    "    for item in x.columns.values.tolist():\n",
    "        if item.strip() in ref:\n",
    "            x = x.drop(columns=[item])\n",
    "        else:\n",
    "            tmp = x[item].apply(removeComma)\n",
    "            x = x.drop(columns = [item])\n",
    "            x[item.strip()] = tmp\n",
    "            ref.append(item.strip())\n",
    "    return (x)"
   ]
  },
  {
   "cell_type": "code",
   "execution_count": 315,
   "metadata": {},
   "outputs": [
    {
     "name": "stdout",
     "output_type": "stream",
     "text": [
      "Index(['12/31/2019', '09/30/2019', '06/30/2019', '03/31/2019', '12/31/2018',\n",
      "       '09/30/2018', '06/30/2018', '03/31/2018', '12/31/2017', '09/30/2017',\n",
      "       '06/30/2017', '03/31/2017', '12/31/2016', '09/30/2016', '06/30/2016',\n",
      "       '03/31/2016', '12/31/2015', '09/30/2015', '06/30/2015', '03/31/2015',\n",
      "       '12/31/2014', '09/30/2014', '06/30/2014', '03/31/2014', '12/31/2013',\n",
      "       '09/30/2013', '06/30/2013', '03/31/2013', '12/31/2012', '09/30/2012',\n",
      "       '06/30/2012', '03/31/2012', '09/30/2011', '06/30/2011', '03/31/2011',\n",
      "       '12/31/2010', '09/30/2010', '06/30/2010', '03/31/2010', '12/31/2009',\n",
      "       '09/30/2009', '06/30/2009', '03/31/2009', '12/31/2008', '09/30/2008',\n",
      "       '06/30/2008', '03/31/2008', '12/31/2007', '09/30/2007', '06/30/2007',\n",
      "       '03/31/2007', '12/31/2006', '09/30/2006', '06/30/2006', '03/31/2006',\n",
      "       '12/31/2005', '09/30/2005', '06/30/2005', '03/31/2005', '12/31/2004',\n",
      "       '09/30/2004', '06/30/2004'],\n",
      "      dtype='object')\n"
     ]
    },
    {
     "data": {
      "text/html": [
       "<div>\n",
       "<style scoped>\n",
       "    .dataframe tbody tr th:only-of-type {\n",
       "        vertical-align: middle;\n",
       "    }\n",
       "\n",
       "    .dataframe tbody tr th {\n",
       "        vertical-align: top;\n",
       "    }\n",
       "\n",
       "    .dataframe thead th {\n",
       "        text-align: right;\n",
       "    }\n",
       "</style>\n",
       "<table border=\"1\" class=\"dataframe\">\n",
       "  <thead>\n",
       "    <tr style=\"text-align: right;\">\n",
       "      <th>name</th>\n",
       "      <th>TotalAssets</th>\n",
       "      <th>CurrentAssets</th>\n",
       "      <th>CashCashEquivalentsAndShortTermInvestments</th>\n",
       "      <th>CashAndCashEquivalents</th>\n",
       "      <th>AccountsReceivable</th>\n",
       "      <th>Inventory</th>\n",
       "      <th>OtherCurrentAssets</th>\n",
       "      <th>TotalNonCurrentAssets</th>\n",
       "      <th>NetPPE</th>\n",
       "      <th>GrossPPE</th>\n",
       "      <th>...</th>\n",
       "      <th>AccountsPayable</th>\n",
       "      <th>OtherCurrentLiabilities</th>\n",
       "      <th>TotalNonCurrentLiabilitiesNetMinorityInterest</th>\n",
       "      <th>LongTermDebt</th>\n",
       "      <th>NonCurrentDeferredTaxesLiabilities</th>\n",
       "      <th>OtherNonCurrentLiabilities</th>\n",
       "      <th>StockholdersEquity</th>\n",
       "      <th>CapitalStock</th>\n",
       "      <th>RetainedEarnings</th>\n",
       "      <th>TotalLiabilities</th>\n",
       "    </tr>\n",
       "  </thead>\n",
       "  <tbody>\n",
       "    <tr>\n",
       "      <th>12/31/2019</th>\n",
       "      <td>4.043360e+11</td>\n",
       "      <td>9.268900e+10</td>\n",
       "      <td>1.805500e+10</td>\n",
       "      <td>1.805500e+10</td>\n",
       "      <td>3.021600e+10</td>\n",
       "      <td>2.407100e+10</td>\n",
       "      <td>1000000.0</td>\n",
       "      <td>3.116470e+11</td>\n",
       "      <td>2.383490e+11</td>\n",
       "      <td>4.391600e+11</td>\n",
       "      <td>...</td>\n",
       "      <td>2.949700e+10</td>\n",
       "      <td>1000000.0</td>\n",
       "      <td>1.342490e+11</td>\n",
       "      <td>5.577900e+10</td>\n",
       "      <td>1.452200e+10</td>\n",
       "      <td>-1000000.0</td>\n",
       "      <td>1.864760e+11</td>\n",
       "      <td>657000000.0</td>\n",
       "      <td>1.482580e+11</td>\n",
       "      <td>4.003490e+11</td>\n",
       "    </tr>\n",
       "    <tr>\n",
       "      <th>09/30/2019</th>\n",
       "      <td>3.957740e+11</td>\n",
       "      <td>8.618600e+10</td>\n",
       "      <td>1.541700e+10</td>\n",
       "      <td>1.541700e+10</td>\n",
       "      <td>4.069400e+10</td>\n",
       "      <td>2.324000e+10</td>\n",
       "      <td>NaN</td>\n",
       "      <td>3.095880e+11</td>\n",
       "      <td>2.369210e+11</td>\n",
       "      <td>NaN</td>\n",
       "      <td>...</td>\n",
       "      <td>4.554300e+10</td>\n",
       "      <td>-1000000.0</td>\n",
       "      <td>1.280290e+11</td>\n",
       "      <td>NaN</td>\n",
       "      <td>1.437300e+10</td>\n",
       "      <td>-1000000.0</td>\n",
       "      <td>1.886160e+11</td>\n",
       "      <td>666000000.0</td>\n",
       "      <td>1.499290e+11</td>\n",
       "      <td>3.918100e+11</td>\n",
       "    </tr>\n",
       "    <tr>\n",
       "      <th>06/30/2019</th>\n",
       "      <td>4.088910e+11</td>\n",
       "      <td>9.309600e+10</td>\n",
       "      <td>1.847000e+10</td>\n",
       "      <td>1.847000e+10</td>\n",
       "      <td>4.313900e+10</td>\n",
       "      <td>2.446500e+10</td>\n",
       "      <td>NaN</td>\n",
       "      <td>3.157940e+11</td>\n",
       "      <td>2.390660e+11</td>\n",
       "      <td>NaN</td>\n",
       "      <td>...</td>\n",
       "      <td>4.934700e+10</td>\n",
       "      <td>NaN</td>\n",
       "      <td>1.283200e+11</td>\n",
       "      <td>NaN</td>\n",
       "      <td>1.436800e+10</td>\n",
       "      <td>1000000.0</td>\n",
       "      <td>1.922770e+11</td>\n",
       "      <td>674000000.0</td>\n",
       "      <td>1.536440e+11</td>\n",
       "      <td>4.049140e+11</td>\n",
       "    </tr>\n",
       "    <tr>\n",
       "      <th>03/31/2019</th>\n",
       "      <td>4.118250e+11</td>\n",
       "      <td>9.599000e+10</td>\n",
       "      <td>2.147000e+10</td>\n",
       "      <td>2.147000e+10</td>\n",
       "      <td>4.452100e+10</td>\n",
       "      <td>2.393700e+10</td>\n",
       "      <td>NaN</td>\n",
       "      <td>3.158350e+11</td>\n",
       "      <td>2.391890e+11</td>\n",
       "      <td>NaN</td>\n",
       "      <td>...</td>\n",
       "      <td>4.887900e+10</td>\n",
       "      <td>1000000.0</td>\n",
       "      <td>1.287240e+11</td>\n",
       "      <td>NaN</td>\n",
       "      <td>1.456300e+10</td>\n",
       "      <td>-1000000.0</td>\n",
       "      <td>1.963250e+11</td>\n",
       "      <td>680000000.0</td>\n",
       "      <td>1.577910e+11</td>\n",
       "      <td>4.078940e+11</td>\n",
       "    </tr>\n",
       "    <tr>\n",
       "      <th>12/31/2018</th>\n",
       "      <td>3.991940e+11</td>\n",
       "      <td>9.748200e+10</td>\n",
       "      <td>2.674100e+10</td>\n",
       "      <td>2.674100e+10</td>\n",
       "      <td>2.754100e+10</td>\n",
       "      <td>2.111700e+10</td>\n",
       "      <td>NaN</td>\n",
       "      <td>3.017120e+11</td>\n",
       "      <td>2.231750e+11</td>\n",
       "      <td>4.148370e+11</td>\n",
       "      <td>...</td>\n",
       "      <td>3.035100e+10</td>\n",
       "      <td>NaN</td>\n",
       "      <td>1.188470e+11</td>\n",
       "      <td>5.368600e+10</td>\n",
       "      <td>1.483700e+10</td>\n",
       "      <td>NaN</td>\n",
       "      <td>1.986460e+11</td>\n",
       "      <td>685000000.0</td>\n",
       "      <td>1.826060e+11</td>\n",
       "      <td>3.953060e+11</td>\n",
       "    </tr>\n",
       "  </tbody>\n",
       "</table>\n",
       "<p>5 rows × 27 columns</p>\n",
       "</div>"
      ],
      "text/plain": [
       "name         TotalAssets  CurrentAssets  \\\n",
       "12/31/2019  4.043360e+11   9.268900e+10   \n",
       "09/30/2019  3.957740e+11   8.618600e+10   \n",
       "06/30/2019  4.088910e+11   9.309600e+10   \n",
       "03/31/2019  4.118250e+11   9.599000e+10   \n",
       "12/31/2018  3.991940e+11   9.748200e+10   \n",
       "\n",
       "name        CashCashEquivalentsAndShortTermInvestments  \\\n",
       "12/31/2019                                1.805500e+10   \n",
       "09/30/2019                                1.541700e+10   \n",
       "06/30/2019                                1.847000e+10   \n",
       "03/31/2019                                2.147000e+10   \n",
       "12/31/2018                                2.674100e+10   \n",
       "\n",
       "name        CashAndCashEquivalents  AccountsReceivable     Inventory  \\\n",
       "12/31/2019            1.805500e+10        3.021600e+10  2.407100e+10   \n",
       "09/30/2019            1.541700e+10        4.069400e+10  2.324000e+10   \n",
       "06/30/2019            1.847000e+10        4.313900e+10  2.446500e+10   \n",
       "03/31/2019            2.147000e+10        4.452100e+10  2.393700e+10   \n",
       "12/31/2018            2.674100e+10        2.754100e+10  2.111700e+10   \n",
       "\n",
       "name        OtherCurrentAssets  TotalNonCurrentAssets        NetPPE  \\\n",
       "12/31/2019           1000000.0           3.116470e+11  2.383490e+11   \n",
       "09/30/2019                 NaN           3.095880e+11  2.369210e+11   \n",
       "06/30/2019                 NaN           3.157940e+11  2.390660e+11   \n",
       "03/31/2019                 NaN           3.158350e+11  2.391890e+11   \n",
       "12/31/2018                 NaN           3.017120e+11  2.231750e+11   \n",
       "\n",
       "name            GrossPPE  ...  AccountsPayable  OtherCurrentLiabilities  \\\n",
       "12/31/2019  4.391600e+11  ...     2.949700e+10                1000000.0   \n",
       "09/30/2019           NaN  ...     4.554300e+10               -1000000.0   \n",
       "06/30/2019           NaN  ...     4.934700e+10                      NaN   \n",
       "03/31/2019           NaN  ...     4.887900e+10                1000000.0   \n",
       "12/31/2018  4.148370e+11  ...     3.035100e+10                      NaN   \n",
       "\n",
       "name        TotalNonCurrentLiabilitiesNetMinorityInterest  LongTermDebt  \\\n",
       "12/31/2019                                   1.342490e+11  5.577900e+10   \n",
       "09/30/2019                                   1.280290e+11           NaN   \n",
       "06/30/2019                                   1.283200e+11           NaN   \n",
       "03/31/2019                                   1.287240e+11           NaN   \n",
       "12/31/2018                                   1.188470e+11  5.368600e+10   \n",
       "\n",
       "name        NonCurrentDeferredTaxesLiabilities  OtherNonCurrentLiabilities  \\\n",
       "12/31/2019                        1.452200e+10                  -1000000.0   \n",
       "09/30/2019                        1.437300e+10                  -1000000.0   \n",
       "06/30/2019                        1.436800e+10                   1000000.0   \n",
       "03/31/2019                        1.456300e+10                  -1000000.0   \n",
       "12/31/2018                        1.483700e+10                         NaN   \n",
       "\n",
       "name        StockholdersEquity  CapitalStock  RetainedEarnings  \\\n",
       "12/31/2019        1.864760e+11   657000000.0      1.482580e+11   \n",
       "09/30/2019        1.886160e+11   666000000.0      1.499290e+11   \n",
       "06/30/2019        1.922770e+11   674000000.0      1.536440e+11   \n",
       "03/31/2019        1.963250e+11   680000000.0      1.577910e+11   \n",
       "12/31/2018        1.986460e+11   685000000.0      1.826060e+11   \n",
       "\n",
       "name        TotalLiabilities  \n",
       "12/31/2019      4.003490e+11  \n",
       "09/30/2019      3.918100e+11  \n",
       "06/30/2019      4.049140e+11  \n",
       "03/31/2019      4.078940e+11  \n",
       "12/31/2018      3.953060e+11  \n",
       "\n",
       "[5 rows x 27 columns]"
      ]
     },
     "metadata": {},
     "output_type": "display_data"
    },
    {
     "name": "stdout",
     "output_type": "stream",
     "text": [
      "['TotalAssets', 'CurrentAssets', 'CashCashEquivalentsAndShortTermInvestments', 'CashAndCashEquivalents', 'AccountsReceivable', 'Inventory', 'OtherCurrentAssets', 'TotalNonCurrentAssets', 'NetPPE', 'GrossPPE', 'AccumulatedDepreciation', 'Goodwill', 'OtherIntangibleAssets', 'OtherNonCurrentAssets', 'TotalLiabilitiesNetMinorityInterest', 'CurrentLiabilities', 'CurrentDebt', 'AccountsPayable', 'OtherCurrentLiabilities', 'TotalNonCurrentLiabilitiesNetMinorityInterest', 'LongTermDebt', 'NonCurrentDeferredTaxesLiabilities', 'OtherNonCurrentLiabilities', 'StockholdersEquity', 'CapitalStock', 'RetainedEarnings', 'TotalLiabilities']\n"
     ]
    },
    {
     "data": {
      "text/plain": [
       "<matplotlib.axes._subplots.AxesSubplot at 0x123602898>"
      ]
     },
     "execution_count": 315,
     "metadata": {},
     "output_type": "execute_result"
    },
    {
     "data": {
      "image/png": "[encoded data removed]",
      "text/plain": [
       "<Figure size 432x288 with 1 Axes>"
      ]
     },
     "metadata": {
      "needs_background": "light"
     },
     "output_type": "display_data"
    }
   ],
   "source": [
    "# First is the Balance Sheet, we need to transpose it so that the index is the date and the columns are the statement line items\n",
    "# We should also clean up the column, and the data types to make them integers and not strings\n",
    "BS = pd.read_csv('./RDS-Quarterly-BS.csv', index_col =0, parse_dates=[0]).transpose()\n",
    "print (BS.index)\n",
    "# This drops the duplicates (exact match)\n",
    "BS = BS.loc[:,~BS.columns.duplicated()]\n",
    "# Below drops duplicates that are differentiated by tab characters\n",
    "BS = columnCleanup(BS)\n",
    "# There's still a ton of NaNs in the data, because it just simply wasn't input for that field for the given quarter (from Yahoo) \n",
    "BS['TotalLiabilities'] = BS['StockholdersEquity']+BS['TotalLiabilitiesNetMinorityInterest']\n",
    "display (BS.head())\n",
    "print (BS.columns.values.tolist())\n",
    "#print ('${:,.2f}'.format(BS['LongTermDebt'].sum()))\n",
    "BS.plot(use_index = True, y = ['TotalAssets','StockholdersEquity','TotalLiabilitiesNetMinorityInterest'], rot=90)"
   ]
  },
  {
   "cell_type": "code",
   "execution_count": 316,
   "metadata": {},
   "outputs": [
    {
     "data": {
      "text/html": [
       "<div>\n",
       "<style scoped>\n",
       "    .dataframe tbody tr th:only-of-type {\n",
       "        vertical-align: middle;\n",
       "    }\n",
       "\n",
       "    .dataframe tbody tr th {\n",
       "        vertical-align: top;\n",
       "    }\n",
       "\n",
       "    .dataframe thead th {\n",
       "        text-align: right;\n",
       "    }\n",
       "</style>\n",
       "<table border=\"1\" class=\"dataframe\">\n",
       "  <thead>\n",
       "    <tr style=\"text-align: right;\">\n",
       "      <th>name</th>\n",
       "      <th>OperatingCashFlow</th>\n",
       "      <th>NetIncome</th>\n",
       "      <th>DepreciationAndAmortization</th>\n",
       "      <th>ChangeInWorkingCapital</th>\n",
       "      <th>ChangeInInventory</th>\n",
       "      <th>OtherNonCashItems</th>\n",
       "      <th>InvestingCashFlow</th>\n",
       "      <th>CapitalExpenditure</th>\n",
       "      <th>PurchaseOfBusiness</th>\n",
       "      <th>PurchaseOfInvestment</th>\n",
       "      <th>SaleOfInvestment</th>\n",
       "      <th>NetOtherInvestingChanges</th>\n",
       "      <th>ChangeInCashSupplementalAsReported</th>\n",
       "      <th>BeginningCashPosition</th>\n",
       "      <th>EndCashPosition</th>\n",
       "    </tr>\n",
       "  </thead>\n",
       "  <tbody>\n",
       "    <tr>\n",
       "      <th>12/31/2019</th>\n",
       "      <td>1.026500e+10</td>\n",
       "      <td>9.640000e+08</td>\n",
       "      <td>9.237000e+09</td>\n",
       "      <td>-2.033000e+09</td>\n",
       "      <td>-5.460000e+08</td>\n",
       "      <td>7.770000e+08</td>\n",
       "      <td>-4.861000e+09</td>\n",
       "      <td>-6.707000e+09</td>\n",
       "      <td>-112000000.0</td>\n",
       "      <td>-65000000.0</td>\n",
       "      <td>55000000.0</td>\n",
       "      <td>-339000000.0</td>\n",
       "      <td>2.638000e+09</td>\n",
       "      <td>1.541700e+10</td>\n",
       "      <td>1.805500e+10</td>\n",
       "    </tr>\n",
       "    <tr>\n",
       "      <th>09/30/2019</th>\n",
       "      <td>1.225200e+10</td>\n",
       "      <td>5.879000e+09</td>\n",
       "      <td>6.815000e+09</td>\n",
       "      <td>1.680000e+08</td>\n",
       "      <td>8.130000e+08</td>\n",
       "      <td>9.880000e+08</td>\n",
       "      <td>-2.130000e+09</td>\n",
       "      <td>-5.992000e+09</td>\n",
       "      <td>-30000000.0</td>\n",
       "      <td>NaN</td>\n",
       "      <td>NaN</td>\n",
       "      <td>-241000000.0</td>\n",
       "      <td>-3.054000e+09</td>\n",
       "      <td>1.847000e+10</td>\n",
       "      <td>1.541700e+10</td>\n",
       "    </tr>\n",
       "    <tr>\n",
       "      <th>06/30/2019</th>\n",
       "      <td>1.103100e+10</td>\n",
       "      <td>2.998000e+09</td>\n",
       "      <td>6.699000e+09</td>\n",
       "      <td>5.760000e+08</td>\n",
       "      <td>-6.100000e+07</td>\n",
       "      <td>9.910000e+08</td>\n",
       "      <td>-4.166000e+09</td>\n",
       "      <td>-5.150000e+09</td>\n",
       "      <td>-160000000.0</td>\n",
       "      <td>NaN</td>\n",
       "      <td>NaN</td>\n",
       "      <td>187000000.0</td>\n",
       "      <td>-3.000000e+09</td>\n",
       "      <td>2.147000e+10</td>\n",
       "      <td>1.847000e+10</td>\n",
       "    </tr>\n",
       "    <tr>\n",
       "      <th>03/31/2019</th>\n",
       "      <td>8.630000e+09</td>\n",
       "      <td>6.001000e+09</td>\n",
       "      <td>5.950000e+09</td>\n",
       "      <td>-3.785000e+09</td>\n",
       "      <td>-2.841000e+09</td>\n",
       "      <td>9.220000e+08</td>\n",
       "      <td>-4.622000e+09</td>\n",
       "      <td>-5.121000e+09</td>\n",
       "      <td>-441000000.0</td>\n",
       "      <td>NaN</td>\n",
       "      <td>NaN</td>\n",
       "      <td>-251000000.0</td>\n",
       "      <td>-5.271000e+09</td>\n",
       "      <td>2.674100e+10</td>\n",
       "      <td>2.147000e+10</td>\n",
       "    </tr>\n",
       "    <tr>\n",
       "      <th>12/31/2018</th>\n",
       "      <td>2.202100e+10</td>\n",
       "      <td>5.590000e+09</td>\n",
       "      <td>6.244000e+09</td>\n",
       "      <td>8.320000e+09</td>\n",
       "      <td>7.694000e+09</td>\n",
       "      <td>1.262000e+09</td>\n",
       "      <td>-5.312000e+09</td>\n",
       "      <td>-7.147000e+09</td>\n",
       "      <td>-208000000.0</td>\n",
       "      <td>NaN</td>\n",
       "      <td>NaN</td>\n",
       "      <td>-641000000.0</td>\n",
       "      <td>7.629000e+09</td>\n",
       "      <td>1.911200e+10</td>\n",
       "      <td>2.674100e+10</td>\n",
       "    </tr>\n",
       "  </tbody>\n",
       "</table>\n",
       "</div>"
      ],
      "text/plain": [
       "name        OperatingCashFlow     NetIncome  DepreciationAndAmortization  \\\n",
       "12/31/2019       1.026500e+10  9.640000e+08                 9.237000e+09   \n",
       "09/30/2019       1.225200e+10  5.879000e+09                 6.815000e+09   \n",
       "06/30/2019       1.103100e+10  2.998000e+09                 6.699000e+09   \n",
       "03/31/2019       8.630000e+09  6.001000e+09                 5.950000e+09   \n",
       "12/31/2018       2.202100e+10  5.590000e+09                 6.244000e+09   \n",
       "\n",
       "name        ChangeInWorkingCapital  ChangeInInventory  OtherNonCashItems  \\\n",
       "12/31/2019           -2.033000e+09      -5.460000e+08       7.770000e+08   \n",
       "09/30/2019            1.680000e+08       8.130000e+08       9.880000e+08   \n",
       "06/30/2019            5.760000e+08      -6.100000e+07       9.910000e+08   \n",
       "03/31/2019           -3.785000e+09      -2.841000e+09       9.220000e+08   \n",
       "12/31/2018            8.320000e+09       7.694000e+09       1.262000e+09   \n",
       "\n",
       "name        InvestingCashFlow  CapitalExpenditure  PurchaseOfBusiness  \\\n",
       "12/31/2019      -4.861000e+09       -6.707000e+09        -112000000.0   \n",
       "09/30/2019      -2.130000e+09       -5.992000e+09         -30000000.0   \n",
       "06/30/2019      -4.166000e+09       -5.150000e+09        -160000000.0   \n",
       "03/31/2019      -4.622000e+09       -5.121000e+09        -441000000.0   \n",
       "12/31/2018      -5.312000e+09       -7.147000e+09        -208000000.0   \n",
       "\n",
       "name        PurchaseOfInvestment  SaleOfInvestment  NetOtherInvestingChanges  \\\n",
       "12/31/2019           -65000000.0        55000000.0              -339000000.0   \n",
       "09/30/2019                   NaN               NaN              -241000000.0   \n",
       "06/30/2019                   NaN               NaN               187000000.0   \n",
       "03/31/2019                   NaN               NaN              -251000000.0   \n",
       "12/31/2018                   NaN               NaN              -641000000.0   \n",
       "\n",
       "name        ChangeInCashSupplementalAsReported  BeginningCashPosition  \\\n",
       "12/31/2019                        2.638000e+09           1.541700e+10   \n",
       "09/30/2019                       -3.054000e+09           1.847000e+10   \n",
       "06/30/2019                       -3.000000e+09           2.147000e+10   \n",
       "03/31/2019                       -5.271000e+09           2.674100e+10   \n",
       "12/31/2018                        7.629000e+09           1.911200e+10   \n",
       "\n",
       "name        EndCashPosition  \n",
       "12/31/2019     1.805500e+10  \n",
       "09/30/2019     1.541700e+10  \n",
       "06/30/2019     1.847000e+10  \n",
       "03/31/2019     2.147000e+10  \n",
       "12/31/2018     2.674100e+10  "
      ]
     },
     "metadata": {},
     "output_type": "display_data"
    }
   ],
   "source": [
    "# Now do the same for Cash Flows and Income Statements\n",
    "CF = pd.read_csv('./RDS-Quarterly-CF.csv', index_col = 0).transpose()\n",
    "# Remove the extraneous 'trailing twelve month' data since we're operating by quarter\n",
    "CF = CF.drop('ttm')\n",
    "CF = CF.loc[:,~CF.columns.duplicated()]\n",
    "CF = columnCleanup(CF)\n",
    "display (CF.head())\n"
   ]
  },
  {
   "cell_type": "code",
   "execution_count": 317,
   "metadata": {},
   "outputs": [
    {
     "data": {
      "text/plain": [
       "12/31/2019    2.680000e+08\n",
       "09/30/2019    1.161000e+09\n",
       "06/30/2019    1.252000e+09\n",
       "03/31/2019    1.159000e+09\n",
       "12/31/2018    9.710000e+08\n",
       "Name: InterestExpense, dtype: float64"
      ]
     },
     "metadata": {},
     "output_type": "display_data"
    },
    {
     "name": "stdout",
     "output_type": "stream",
     "text": [
      "['TotalRevenue', 'CostOfRevenue', 'GrossProfit', 'OperatingExpense', 'ResearchAndDevelopment', 'SellingGeneralAndAdministration', 'OperatingIncome', 'InterestExpense', 'PretaxIncome', 'TaxProvision', 'NetIncomeContinuousOperations', 'NetIncome', 'NetIncomeCommonStockholders', 'BasicEPS']\n"
     ]
    }
   ],
   "source": [
    "IS = pd.read_csv('./RDS-Quarterly-IS.csv', index_col = 0).transpose()\n",
    "# Remove the extraneous 'trailing twelve month' data since we're operating by quarter\n",
    "IS = IS.drop('ttm')\n",
    "IS = IS.loc[:,~CF.columns.duplicated()]\n",
    "IS = columnCleanup(IS)\n",
    "display (IS['InterestExpense'].head())\n",
    "print (IS.columns.values.tolist())\n"
   ]
  },
  {
   "cell_type": "markdown",
   "metadata": {},
   "source": [
    "### Let's find the Weighted-Average-Cost-of-Capital (WACC) over the past 15 years, and see if we can spot any trends\n",
    "### This will also help down the line when doing cash flow projections\n"
   ]
  },
  {
   "cell_type": "code",
   "execution_count": 318,
   "metadata": {},
   "outputs": [
    {
     "data": {
      "text/html": [
       "<div>\n",
       "<style scoped>\n",
       "    .dataframe tbody tr th:only-of-type {\n",
       "        vertical-align: middle;\n",
       "    }\n",
       "\n",
       "    .dataframe tbody tr th {\n",
       "        vertical-align: top;\n",
       "    }\n",
       "\n",
       "    .dataframe thead th {\n",
       "        text-align: right;\n",
       "    }\n",
       "</style>\n",
       "<table border=\"1\" class=\"dataframe\">\n",
       "  <thead>\n",
       "    <tr style=\"text-align: right;\">\n",
       "      <th>name</th>\n",
       "      <th>EquityToValue</th>\n",
       "      <th>DebtToValue</th>\n",
       "    </tr>\n",
       "  </thead>\n",
       "  <tbody>\n",
       "    <tr>\n",
       "      <th>12/31/2019</th>\n",
       "      <td>0.465784</td>\n",
       "      <td>0.534216</td>\n",
       "    </tr>\n",
       "    <tr>\n",
       "      <th>09/30/2019</th>\n",
       "      <td>0.481397</td>\n",
       "      <td>0.518603</td>\n",
       "    </tr>\n",
       "    <tr>\n",
       "      <th>06/30/2019</th>\n",
       "      <td>0.474859</td>\n",
       "      <td>0.525141</td>\n",
       "    </tr>\n",
       "    <tr>\n",
       "      <th>03/31/2019</th>\n",
       "      <td>0.481314</td>\n",
       "      <td>0.518686</td>\n",
       "    </tr>\n",
       "    <tr>\n",
       "      <th>12/31/2018</th>\n",
       "      <td>0.502512</td>\n",
       "      <td>0.497488</td>\n",
       "    </tr>\n",
       "  </tbody>\n",
       "</table>\n",
       "</div>"
      ],
      "text/plain": [
       "name        EquityToValue  DebtToValue\n",
       "12/31/2019       0.465784     0.534216\n",
       "09/30/2019       0.481397     0.518603\n",
       "06/30/2019       0.474859     0.525141\n",
       "03/31/2019       0.481314     0.518686\n",
       "12/31/2018       0.502512     0.497488"
      ]
     },
     "metadata": {},
     "output_type": "display_data"
    },
    {
     "name": "stdout",
     "output_type": "stream",
     "text": [
      "['TotalAssets', 'CurrentAssets', 'CashCashEquivalentsAndShortTermInvestments', 'CashAndCashEquivalents', 'AccountsReceivable', 'Inventory', 'OtherCurrentAssets', 'TotalNonCurrentAssets', 'NetPPE', 'GrossPPE', 'AccumulatedDepreciation', 'Goodwill', 'OtherIntangibleAssets', 'OtherNonCurrentAssets', 'TotalLiabilitiesNetMinorityInterest', 'CurrentLiabilities', 'CurrentDebt', 'AccountsPayable', 'OtherCurrentLiabilities', 'TotalNonCurrentLiabilitiesNetMinorityInterest', 'LongTermDebt', 'NonCurrentDeferredTaxesLiabilities', 'OtherNonCurrentLiabilities', 'StockholdersEquity', 'CapitalStock', 'RetainedEarnings', 'TotalLiabilities', 'DebtToValue', 'EquityToValue']\n"
     ]
    }
   ],
   "source": [
    "# WACC is WACC=E/V * R(e) + D/V * R(d) * (1-t)\n",
    "# First, let's add a column to determine the equity and debt ratios for each year. V = total asset value\n",
    "BS['DebtToValue'] = BS['TotalLiabilitiesNetMinorityInterest']/BS['TotalLiabilities']\n",
    "BS['EquityToValue'] = BS['StockholdersEquity']/BS['TotalLiabilities']\n",
    "display (BS[['EquityToValue','DebtToValue']].head())\n",
    "print (BS.columns.values.tolist())"
   ]
  },
  {
   "cell_type": "code",
   "execution_count": 319,
   "metadata": {},
   "outputs": [],
   "source": [
    "# Cost of debt should be relatively easy to calculate as well, net interest / total debt, pull this from the Income Statement\n",
    "# Some of the data is missing though, so we'll have to fill in the gaps where there are some\n",
    "# We also run into the issue where tax credits might result in negative values for interest expense for a quarter"
   ]
  },
  {
   "cell_type": "code",
   "execution_count": 320,
   "metadata": {},
   "outputs": [
    {
     "data": {
      "text/plain": [
       "12/31/2019    0.406757\n",
       "09/30/2019    1.762108\n",
       "06/30/2019    1.900223\n",
       "03/31/2019    1.759072\n",
       "12/31/2018    1.546228\n",
       "Name: EffectiveInterestRates, dtype: float64"
      ]
     },
     "metadata": {},
     "output_type": "display_data"
    },
    {
     "data": {
      "text/plain": [
       "<matplotlib.axes._subplots.AxesSubplot at 0x123583390>"
      ]
     },
     "execution_count": 320,
     "metadata": {},
     "output_type": "execute_result"
    },
    {
     "data": {
      "image/png": "[encoded data removed]",
      "text/plain": [
       "<Figure size 432x288 with 1 Axes>"
      ]
     },
     "metadata": {
      "needs_background": "light"
     },
     "output_type": "display_data"
    }
   ],
   "source": [
    "# Looks like there's a lot of NaNs. That's likely because either the interest payment is missing for that quarter from the data\n",
    "# Let's backfill this with latest values just to keep things simpler\n",
    "BS['CurrentDebt'] = BS['CurrentDebt'].ffill()\n",
    "BS['LongTermDebt'] = BS['LongTermDebt'].ffill()\n",
    "BS['EffectiveInterestRates'] = (IS['InterestExpense']/(BS['CurrentDebt']+BS['LongTermDebt'])*100)\n",
    "# The graph below shows the change in interest payments over the last 5 years, against the European Central Bank's Interest Rates\n",
    "# In Q12016, the ECB lowered their interest rates to effectively 0, which may explain why debt appears to be cheaper for them\n",
    "display (BS['EffectiveInterestRates'].head())\n",
    "BS['ECBInterestRate'] = pd.Series\n",
    "BS.reindex(index=BS.index[::-1])[['EffectiveInterestRates']][-19:].plot(rot=90, title='Effective Interest Rate over Time')"
   ]
  },
  {
   "cell_type": "code",
   "execution_count": 337,
   "metadata": {},
   "outputs": [
    {
     "data": {
      "text/plain": [
       "12/31/2019    1.643333\n",
       "09/30/2019    2.190000\n",
       "06/30/2019    2.396667\n",
       "03/31/2019    2.403333\n",
       "12/31/2018    2.220000\n",
       "Name: FedFundsRate, dtype: float64"
      ]
     },
     "metadata": {},
     "output_type": "display_data"
    },
    {
     "data": {
      "text/plain": [
       "<matplotlib.axes._subplots.AxesSubplot at 0x1249fca20>"
      ]
     },
     "execution_count": 337,
     "metadata": {},
     "output_type": "execute_result"
    },
    {
     "data": {
      "image/png": "[encoded data removed]",
      "text/plain": [
       "<Figure size 432x288 with 1 Axes>"
      ]
     },
     "metadata": {
      "needs_background": "light"
     },
     "output_type": "display_data"
    }
   ],
   "source": [
    "ECB = pd.read_excel('./InterestRates.xlsx')\n",
    "BS['ECBInterestRate'] = ECB['ECB'].values*100\n",
    "BS['FedFundsRate'] = ECB['FED'].values[::-1]\n",
    "display (BS['FedFundsRate'].head())\n",
    "\n",
    "BS.reindex(index=BS.index[::-1])[['EffectiveInterestRates','ECBInterestRate', 'FedFundsRate']][-19:].plot(rot=90, title='Effective Interest Rate over Time against Common Interest Rates')\n"
   ]
  },
  {
   "cell_type": "code",
   "execution_count": 349,
   "metadata": {},
   "outputs": [
    {
     "data": {
      "text/plain": [
       "<matplotlib.axes._subplots.AxesSubplot at 0x12442af60>"
      ]
     },
     "execution_count": 349,
     "metadata": {},
     "output_type": "execute_result"
    },
    {
     "data": {
      "image/png": "[encoded data removed]",
      "text/plain": [
       "<Figure size 432x288 with 1 Axes>"
      ]
     },
     "metadata": {
      "needs_background": "light"
     },
     "output_type": "display_data"
    }
   ],
   "source": [
    "'''\n",
    " the other factor in projecting interest rate is risk factor (ratings agencies). Shell has consistently had a Aa2 rating\n",
    " from Moodys, so we should factor in a spread on the interest rate there as well. \n",
    " While outlook was changed to negative by both S&P and Moodys, credit ratings are still strong (prime)\n",
    " It'll be useful to look at how Shell's interest rates looked like during times of low interest rates (near 0) and\n",
    " high credit-worthiness. For this, we'll average 2009-2011\n",
    "'''\n",
    "BS.reindex(index=BS.index[::-1])[['EffectiveInterestRates','ECBInterestRate','FedFundsRate']][19:45].plot(rot=90, title='Fed Funds Rate since 2009-2015')"
   ]
  },
  {
   "cell_type": "code",
   "execution_count": 350,
   "metadata": {},
   "outputs": [
    {
     "name": "stdout",
     "output_type": "stream",
     "text": [
      "Effective Cost of Debt going Forward: 1.0%\n"
     ]
    }
   ],
   "source": [
    "'''\n",
    "# In an environment with low interest rates going forward, we'll use this time period to project the true cost of debt\n",
    "# for RDS\n",
    "# Since the respective interest rates control the debt market, it looks like the ECB Interest Rate has lead the\n",
    "# EffectiveInterestRate by 1 quarter, which logically makes sense. RDS likely borrows from different markets depending on\n",
    "# economic condition\n",
    "Possible Explanation: During the financial crisis, RDS likely borrowed heavily from US markets as the Fed Funds Rate neared 0, whereas\n",
    "European markets had yet to feel the reverberated effects to the degree they later would. Once the situation was flipped and \n",
    "the Fed Funds Rate surpassed the ECB's rates, RDS likely started borrowing more heavily from European lenders. \n",
    "'''\n",
    "# Make this simple, assume RDS refinances/borrows from whichever market is more favorable, average the interest rates\n",
    "# Of two specific eras where the interest rate was near 0% as we predict this is what near to mid term outlooks look like.\n",
    "trueCostofDebt = (BS.reindex(index=BS.index[::-1])['EffectiveInterestRates'][19:45].mean()+ BS.reindex(index=BS.index[::-1])['EffectiveInterestRates'][-20:].mean())/2\n",
    "print ('Effective Cost of Debt going Forward: '+str(round(trueCostofDebt,2))+'%')"
   ]
  },
  {
   "cell_type": "code",
   "execution_count": null,
   "metadata": {},
   "outputs": [],
   "source": []
  }
 ],
 "metadata": {
  "kernelspec": {
   "display_name": "Python 3",
   "language": "python",
   "name": "python3"
  },
  "language_info": {
   "codemirror_mode": {
    "name": "ipython",
    "version": 3
   },
   "file_extension": ".py",
   "mimetype": "text/x-python",
   "name": "python",
   "nbconvert_exporter": "python",
   "pygments_lexer": "ipython3",
   "version": "3.7.3"
  }
 },
 "nbformat": 4,
 "nbformat_minor": 4
}
