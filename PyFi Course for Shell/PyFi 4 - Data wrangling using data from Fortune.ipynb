{
 "cells": [
  {
   "cell_type": "markdown",
   "metadata": {},
   "source": [
    "# Manipulate Fortune Data\n",
    "\n",
    "Fortune output is often not in the ideal format. If we want to join the data to another source, pivot it along a different dimension, or upload it to another database, we first need to unpivot it. Excel lacks a good way to deal with this.\n",
    "\n",
    "# Tutorial Overview\n",
    "In this module, we will:\n",
    "1. import an excel file produced by Fortune\n",
    "2. remove the excess columns and rows\n",
    "3. transform the data from wide to long format (unpivot)\n",
    "4. export to csv"
   ]
  },
  {
   "cell_type": "code",
   "execution_count": 2,
   "metadata": {
    "jupyter": {
     "outputs_hidden": false
    }
   },
   "outputs": [
    {
     "data": {
      "text/html": [
       "<div>\n",
       "<style>\n",
       "    .dataframe thead tr:only-child th {\n",
       "        text-align: right;\n",
       "    }\n",
       "\n",
       "    .dataframe thead th {\n",
       "        text-align: left;\n",
       "    }\n",
       "\n",
       "    .dataframe tbody tr th {\n",
       "        vertical-align: top;\n",
       "    }\n",
       "</style>\n",
       "<table border=\"1\" class=\"dataframe\">\n",
       "  <thead>\n",
       "    <tr style=\"text-align: right;\">\n",
       "      <th></th>\n",
       "      <th>parent_category</th>\n",
       "      <th>row_num</th>\n",
       "      <th>child_category</th>\n",
       "      <th>period</th>\n",
       "      <th>metric</th>\n",
       "      <th>value</th>\n",
       "    </tr>\n",
       "  </thead>\n",
       "  <tbody>\n",
       "    <tr>\n",
       "      <th>0</th>\n",
       "      <td>GMS</td>\n",
       "      <td>30.0</td>\n",
       "      <td>Total GMS</td>\n",
       "      <td>FY17</td>\n",
       "      <td>Actuals</td>\n",
       "      <td>2.037570e+09</td>\n",
       "    </tr>\n",
       "    <tr>\n",
       "      <th>1</th>\n",
       "      <td>GMS</td>\n",
       "      <td>31.0</td>\n",
       "      <td>Amazon Retail</td>\n",
       "      <td>FY17</td>\n",
       "      <td>Actuals</td>\n",
       "      <td>1.079909e+08</td>\n",
       "    </tr>\n",
       "    <tr>\n",
       "      <th>2</th>\n",
       "      <td>GMS</td>\n",
       "      <td>32.0</td>\n",
       "      <td>FBA</td>\n",
       "      <td>FY17</td>\n",
       "      <td>Actuals</td>\n",
       "      <td>1.793968e+09</td>\n",
       "    </tr>\n",
       "    <tr>\n",
       "      <th>3</th>\n",
       "      <td>GMS</td>\n",
       "      <td>33.0</td>\n",
       "      <td>MFN</td>\n",
       "      <td>FY17</td>\n",
       "      <td>Actuals</td>\n",
       "      <td>4.742941e+07</td>\n",
       "    </tr>\n",
       "    <tr>\n",
       "      <th>4</th>\n",
       "      <td>Units</td>\n",
       "      <td>35.0</td>\n",
       "      <td>Total Units Served</td>\n",
       "      <td>FY17</td>\n",
       "      <td>Actuals</td>\n",
       "      <td>1.565634e+08</td>\n",
       "    </tr>\n",
       "  </tbody>\n",
       "</table>\n",
       "</div>"
      ],
      "text/plain": [
       "  parent_category  row_num      child_category period   metric         value\n",
       "0             GMS     30.0           Total GMS   FY17  Actuals  2.037570e+09\n",
       "1             GMS     31.0       Amazon Retail   FY17  Actuals  1.079909e+08\n",
       "2             GMS     32.0                 FBA   FY17  Actuals  1.793968e+09\n",
       "3             GMS     33.0                 MFN   FY17  Actuals  4.742941e+07\n",
       "4           Units     35.0  Total Units Served   FY17  Actuals  1.565634e+08"
      ]
     },
     "execution_count": 2,
     "metadata": {},
     "output_type": "execute_result"
    }
   ],
   "source": [
    "import pandas as pd\n",
    "import os\n",
    "\n",
    "df = pd.read_excel(os.path.join(os.path.dirname(os.getcwd()), 'Support_Files', 'fortune_data.xlsx'), skiprows=29, header=None)\n",
    "\n",
    "id_cols = ['parent_category','row_num','child_category']  # names for the columns with missing headers\n",
    "df.iloc[0, 1:4] = 'category'\n",
    "df.iloc[1, 1:4] = id_cols\n",
    "\n",
    "df.columns = pd.MultiIndex.from_arrays(df[:2].values)  # create multiindex column names based on the first two rows of data\n",
    "df = df[2:]  # remove first two rows since they are now the headers\n",
    "\n",
    "df = df.loc[:,df.isnull().all()==False]  # removes any columns with only null values\n",
    "df = df.loc[df.isnull().all(axis=1)==False]  # removes an rows with only null values\n",
    "df = df.fillna(method='ffill')  # fill null values\n",
    "\n",
    "df = pd.melt(df, id_vars=[('category', 'parent_category'),('category','row_num'),('category','child_category')])  # unpivot data\n",
    "df.columns = id_cols + ['period','metric','value']\n",
    "\n",
    "df.to_csv('fortune_output.csv', index=False)  # output to csv\n",
    "df.to_clipboard()\n",
    "df.head()"
   ]
  },
  {
   "cell_type": "markdown",
   "metadata": {
    "collapsed": true,
    "jupyter": {
     "outputs_hidden": true
    }
   },
   "source": [
    "# Extensions\n",
    "\n",
    "This section lists some ideas for extending the tutorial that you may wish to explore.\n",
    "* Describe three examples when Pandas would be better than using Excel directly.\n",
    "\n",
    "# Further Reading\n",
    "This section provides more resources on the topic if you are looking to go deeper.\n",
    "\n",
    "## Books\n",
    "* Python for Data Analysis, by William McKinney. http://shop.oreilly.com/product/0636920023784.do\n",
    "\n",
    "## APIs\n",
    "* Pandas. https://pandas.pydata.org/\n",
    "\n",
    "## Articles\n",
    "* Getting started with Pandas in 5 minutes, on Towards Data Science. https://medium.com/bhavaniravi/python-pandas-tutorial-92018da85a33\n",
    "* My Pandas Cheat Sheet, on Towards Data Science. https://towardsdatascience.com/my-python-pandas-cheat-sheet-746b11e44368    \n",
    "\n",
    "# Summary\n",
    "\n",
    "In this tutorial, you worked with data from Fortune using Pandas. Specifically, you learned:\n",
    "* How to import an excel file produced by Fortune\n",
    "* How to remove the excess columns and rows\n",
    "* How to transform the data from wide to long format (unpivot)\n",
    "* How to export to csv\n",
    "\n",
    "# Next\n",
    "\n",
    "In the next section, you will use Pandas to work with additional datasets. "
   ]
  },
  {
   "cell_type": "code",
   "execution_count": null,
   "metadata": {},
   "outputs": [],
   "source": []
  }
 ],
 "metadata": {
  "kernelspec": {
   "display_name": "Python 3",
   "language": "python",
   "name": "python3"
  },
  "language_info": {
   "codemirror_mode": {
    "name": "ipython",
    "version": 3
   },
   "file_extension": ".py",
   "mimetype": "text/x-python",
   "name": "python",
   "nbconvert_exporter": "python",
   "pygments_lexer": "ipython3",
   "version": "3.7.4"
  },
  "toc": {
   "base_numbering": 1,
   "nav_menu": {},
   "number_sections": true,
   "sideBar": true,
   "skip_h1_title": false,
   "title_cell": "Table of Contents",
   "title_sidebar": "Contents",
   "toc_cell": false,
   "toc_position": {},
   "toc_section_display": true,
   "toc_window_display": false
  }
 },
 "nbformat": 4,
 "nbformat_minor": 4
}
