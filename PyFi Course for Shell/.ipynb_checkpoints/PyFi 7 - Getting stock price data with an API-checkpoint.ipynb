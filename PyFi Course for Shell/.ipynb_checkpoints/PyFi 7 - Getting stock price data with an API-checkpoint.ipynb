{
 "cells": [
  {
   "cell_type": "markdown",
   "metadata": {},
   "source": [
    "# Summary - Web Scraping and APIs\n",
    "\n",
    "How do we get data to analize? One way is to use webscrapping (that is how the AirBNB dataset was created). another is to use APIs or application programming interfaces. These allow us to get real time data without having to store our own copy. \n",
    "\n",
    "# Tutorial Overview\n",
    "This tutorial is divided into 4 parts:\n",
    "1. Example of getting financial and non-financial stock data\n",
    "2. Example of time series with RDS-A ticker\n",
    "3. Using Bollinger Bands as an algorithmic trading strategy\n",
    "4. Exercises: You're turn!"
   ]
  },
  {
   "cell_type": "markdown",
   "metadata": {},
   "source": [
    "# Example: Get financial and non-financial stock data\n",
    "\n",
    "In this example we use the website `https://financialmodelingprep.com` to get data about stocks. The site can give us real time pricing data as well as financial metrics and other information about the company. \n",
    "\n",
    "We will start out by getting some basic data and saving it as an excel workbook for later use."
   ]
  },
  {
   "cell_type": "code",
   "execution_count": 1,
   "metadata": {},
   "outputs": [
    {
     "name": "stdout",
     "output_type": "stream",
     "text": [
      "      Share Price  Total Cash  Total Debt  Q3 2019 Revenue  \\\n",
      "AAPL       287.63      107.16      103.30            91.82   \n",
      "MSFT       174.14      134.25       69.61            36.91   \n",
      "GOOG      1327.61      119.67        4.91            46.08   \n",
      "T           31.28       12.13      163.15            46.82   \n",
      "CSCO        43.15       28.04       18.50            13.16   \n",
      "INTC        60.09       12.68       39.92            19.83   \n",
      "ORCL        53.78       25.86       51.67             9.80   \n",
      "AMZN      2350.48       55.02       24.72            87.44   \n",
      "FB         194.31       54.85       10.32            21.08   \n",
      "TSLA       788.00        6.27        2.16             7.38   \n",
      "NVDA       297.50        9.77        0.56             3.01   \n",
      "\n",
      "                                CEO  \n",
      "AAPL                Timothy D. Cook  \n",
      "MSFT                  Satya Nadella  \n",
      "GOOG                     Larry Page  \n",
      "T             Randall L. Stephenson  \n",
      "CSCO                Charles Robbins  \n",
      "INTC              Brian M. Krzanich  \n",
      "ORCL  Mark V. Hurd / Safra Ada Catz  \n",
      "AMZN               Jeffrey P. Bezos  \n",
      "FB                  Mark Zuckerberg  \n",
      "TSLA                      Elon Musk  \n",
      "NVDA                 Jen-Hsun Huang  \n"
     ]
    }
   ],
   "source": [
    "import requests # this lets us call the API to the external website\n",
    "import pandas as pd\n",
    "\n",
    "def getdata(stock: str):\n",
    "    \"\"\"This function gets data from the API and returns specific values\n",
    "    :param stock: Official stock ticker symbol\n",
    "    \n",
    "    :returns share_price: Array of current share price\n",
    "    :returns cash: Array of cash on hand \n",
    "    :returns debt: Array of debt\n",
    "    :returns qRev: Array of quarterly revenue\n",
    "    :returns ceo: Name of the CEO \n",
    "    \"\"\"\n",
    "    # Company Quote Group of Items\n",
    "    company_quote = requests.get(f\"https://financialmodelingprep.com/api/v3/quote/{stock}\")\n",
    "    company_quote = company_quote.json()\n",
    "    share_price = float(\"{0:.2f}\".format(company_quote[0]['price']))\n",
    "\n",
    "    # Balance Sheet Group of Items\n",
    "    BS = requests.get(f\"https://financialmodelingprep.com/api/v3/financials/balance-sheet-statement/{stock}?period=quarter\")\n",
    "    BS = BS.json()\n",
    "\n",
    "    # Total Cash\n",
    "    cash = float(\"{0:.2f}\".format(float(BS['financials'][0]['Cash and short-term investments'])/10**9))\n",
    "    # Total Debt\n",
    "    debt = float(\"{0:.2f}\".format(float(BS['financials'][0]['Total debt'])/10**9))\n",
    "\n",
    "    # Income Statement Group of Items\n",
    "    IS = requests.get(f\"https://financialmodelingprep.com/api/v3/financials/income-statement/{stock}?period=quarter\")\n",
    "    IS = IS.json()\n",
    "\n",
    "    # Most Recent Quarterly Revenue\n",
    "    qRev = float(\"{0:.2f}\".format(float(IS['financials'][0]['Revenue'])/10**9))\n",
    "\n",
    "    # Company Profile Group of Items\n",
    "    company_info = requests.get(f\"https://financialmodelingprep.com/api/v3/company/profile/{stock}\")\n",
    "    company_info = company_info.json()\n",
    "\n",
    "    # Chief Executive Officer\n",
    "    ceo = company_info['profile']['ceo']\n",
    "\n",
    "    return (share_price, cash, debt, qRev, ceo)\n",
    "    \n",
    "tickers = ('AAPL', 'MSFT', 'GOOG', 'T', 'CSCO', 'INTC', 'ORCL', 'AMZN', 'FB', 'TSLA', 'NVDA')\n",
    "    \n",
    "data = map(getdata, tickers)   \n",
    "\n",
    "df = pd.DataFrame(data,\n",
    "                    columns=['Share Price', 'Total Cash', 'Total Debt', 'Q3 2019 Revenue', 'CEO'],\n",
    "                    index=tickers)\n",
    "\n",
    "print(df)\n",
    "\n",
    "writer = pd.ExcelWriter('example.xlsx')\n",
    "df.to_excel(writer, 'Statistics')\n",
    "writer.save()"
   ]
  },
  {
   "cell_type": "markdown",
   "metadata": {},
   "source": [
    "# Example of time series with RDS-A\n",
    "\n",
    "Let's explore the RDS-A stock ticker. "
   ]
  },
  {
   "cell_type": "code",
   "execution_count": 2,
   "metadata": {},
   "outputs": [],
   "source": [
    "# getting historical data for RDS-A. This code calls the API and transforms the result into a DataFrame.\n",
    "import pandas as pd\n",
    "from pandas.io.json import json_normalize \n",
    "\n",
    "ticker = \"RDS-A\"\n",
    "target = \"https://financialmodelingprep.com/api/v3/historical-price-full/{}\".format(ticker)\n",
    "rds = pd.read_json(target)\n",
    "rds = json_normalize(rds['historical'])\n",
    "rds['date'] = pd.to_datetime(rds['date'])\n",
    "rds.set_index('date', inplace=True)"
   ]
  },
  {
   "cell_type": "code",
   "execution_count": 169,
   "metadata": {},
   "outputs": [
    {
     "data": {
      "text/html": [
       "<div>\n",
       "<style scoped>\n",
       "    .dataframe tbody tr th:only-of-type {\n",
       "        vertical-align: middle;\n",
       "    }\n",
       "\n",
       "    .dataframe tbody tr th {\n",
       "        vertical-align: top;\n",
       "    }\n",
       "\n",
       "    .dataframe thead th {\n",
       "        text-align: right;\n",
       "    }\n",
       "</style>\n",
       "<table border=\"1\" class=\"dataframe\">\n",
       "  <thead>\n",
       "    <tr style=\"text-align: right;\">\n",
       "      <th></th>\n",
       "      <th>open</th>\n",
       "      <th>high</th>\n",
       "      <th>low</th>\n",
       "      <th>close</th>\n",
       "      <th>adjClose</th>\n",
       "      <th>volume</th>\n",
       "      <th>unadjustedVolume</th>\n",
       "      <th>change</th>\n",
       "      <th>changePercent</th>\n",
       "      <th>vwap</th>\n",
       "      <th>label</th>\n",
       "      <th>changeOverTime</th>\n",
       "    </tr>\n",
       "    <tr>\n",
       "      <th>date</th>\n",
       "      <th></th>\n",
       "      <th></th>\n",
       "      <th></th>\n",
       "      <th></th>\n",
       "      <th></th>\n",
       "      <th></th>\n",
       "      <th></th>\n",
       "      <th></th>\n",
       "      <th></th>\n",
       "      <th></th>\n",
       "      <th></th>\n",
       "      <th></th>\n",
       "    </tr>\n",
       "  </thead>\n",
       "  <tbody>\n",
       "    <tr>\n",
       "      <td>2019-04-25</td>\n",
       "      <td>63.63</td>\n",
       "      <td>63.94</td>\n",
       "      <td>63.49</td>\n",
       "      <td>63.62</td>\n",
       "      <td>59.61</td>\n",
       "      <td>2044000.0</td>\n",
       "      <td>2044000.0</td>\n",
       "      <td>-0.01</td>\n",
       "      <td>-0.016</td>\n",
       "      <td>63.68333</td>\n",
       "      <td>April 25, 19</td>\n",
       "      <td>-0.00016</td>\n",
       "    </tr>\n",
       "    <tr>\n",
       "      <td>2019-04-26</td>\n",
       "      <td>63.33</td>\n",
       "      <td>63.33</td>\n",
       "      <td>62.64</td>\n",
       "      <td>63.06</td>\n",
       "      <td>59.08</td>\n",
       "      <td>2914000.0</td>\n",
       "      <td>2914000.0</td>\n",
       "      <td>-0.27</td>\n",
       "      <td>-0.426</td>\n",
       "      <td>63.01000</td>\n",
       "      <td>April 26, 19</td>\n",
       "      <td>-0.00426</td>\n",
       "    </tr>\n",
       "    <tr>\n",
       "      <td>2019-04-29</td>\n",
       "      <td>62.73</td>\n",
       "      <td>63.17</td>\n",
       "      <td>62.59</td>\n",
       "      <td>63.13</td>\n",
       "      <td>59.15</td>\n",
       "      <td>1532400.0</td>\n",
       "      <td>1532400.0</td>\n",
       "      <td>0.40</td>\n",
       "      <td>0.638</td>\n",
       "      <td>62.96333</td>\n",
       "      <td>April 29, 19</td>\n",
       "      <td>0.00638</td>\n",
       "    </tr>\n",
       "    <tr>\n",
       "      <td>2019-04-30</td>\n",
       "      <td>63.70</td>\n",
       "      <td>63.82</td>\n",
       "      <td>63.37</td>\n",
       "      <td>63.53</td>\n",
       "      <td>59.52</td>\n",
       "      <td>2673000.0</td>\n",
       "      <td>2673000.0</td>\n",
       "      <td>-0.17</td>\n",
       "      <td>-0.267</td>\n",
       "      <td>63.57333</td>\n",
       "      <td>April 30, 19</td>\n",
       "      <td>-0.00267</td>\n",
       "    </tr>\n",
       "    <tr>\n",
       "      <td>2019-05-01</td>\n",
       "      <td>63.50</td>\n",
       "      <td>63.51</td>\n",
       "      <td>62.70</td>\n",
       "      <td>62.72</td>\n",
       "      <td>58.76</td>\n",
       "      <td>2342400.0</td>\n",
       "      <td>2342400.0</td>\n",
       "      <td>-0.78</td>\n",
       "      <td>-1.228</td>\n",
       "      <td>62.97667</td>\n",
       "      <td>May 01, 19</td>\n",
       "      <td>-0.01228</td>\n",
       "    </tr>\n",
       "  </tbody>\n",
       "</table>\n",
       "</div>"
      ],
      "text/plain": [
       "             open   high    low  close  adjClose     volume  unadjustedVolume  \\\n",
       "date                                                                            \n",
       "2019-04-25  63.63  63.94  63.49  63.62     59.61  2044000.0         2044000.0   \n",
       "2019-04-26  63.33  63.33  62.64  63.06     59.08  2914000.0         2914000.0   \n",
       "2019-04-29  62.73  63.17  62.59  63.13     59.15  1532400.0         1532400.0   \n",
       "2019-04-30  63.70  63.82  63.37  63.53     59.52  2673000.0         2673000.0   \n",
       "2019-05-01  63.50  63.51  62.70  62.72     58.76  2342400.0         2342400.0   \n",
       "\n",
       "            change  changePercent      vwap         label  changeOverTime  \n",
       "date                                                                       \n",
       "2019-04-25   -0.01         -0.016  63.68333  April 25, 19        -0.00016  \n",
       "2019-04-26   -0.27         -0.426  63.01000  April 26, 19        -0.00426  \n",
       "2019-04-29    0.40          0.638  62.96333  April 29, 19         0.00638  \n",
       "2019-04-30   -0.17         -0.267  63.57333  April 30, 19        -0.00267  \n",
       "2019-05-01   -0.78         -1.228  62.97667    May 01, 19        -0.01228  "
      ]
     },
     "execution_count": 169,
     "metadata": {},
     "output_type": "execute_result"
    }
   ],
   "source": [
    "rds.head()"
   ]
  },
  {
   "cell_type": "markdown",
   "metadata": {},
   "source": [
    "# Bollinger Bands\n",
    "\n",
    "A basic method of analysis for stocks is the Bollinger band. This uses the moving average and the moving standard deviation to identify points where the trader should buy/sell. We start by defining how the Bollinger Bands are calculated and defining how we want the data to be plotted. These defined functions can be used again for analizing another stock. "
   ]
  },
  {
   "cell_type": "code",
   "execution_count": 15,
   "metadata": {},
   "outputs": [],
   "source": [
    "import matplotlib.pyplot as plt\n",
    "%matplotlib inline\n",
    "\n",
    "df = pd.DataFrame()\n",
    "\n",
    "def bollinger_bands(df, target_col: str = 'adjClose')->pd.DataFrame:\n",
    "    \"\"\"Calculates Bollinger Bands and returns an updated DataFrame. \n",
    "\n",
    "    :param df: DataFrame\n",
    "    :param target_col: column that will be used for the calcuations\n",
    "    :type target_col: str\n",
    "\n",
    "    :return df: df with additional columns\n",
    "    :rtype df: pd.DataFrame\n",
    "    \"\"\"\n",
    "    \n",
    "    df['20 Day MA'] = df[target_col].rolling(20).mean()\n",
    "    df['20 Day MA_lower bound'] = df['20 Day MA'] - df[target_col].rolling(20).std()*2\n",
    "    df['20 Day MA_upper bound'] = df['20 Day MA'] + df[target_col].rolling(20).std()*2\n",
    "    \n",
    "    return df\n",
    "\n",
    "def bb_plot(df: pd.DataFrame = df, target_col: str = 'adjClose'):\n",
    "    \"\"\"Calculates time series plot with Bollinger Bands \n",
    "\n",
    "    :param df: DataFrame\n",
    "    :param target_col: column that will be used for the calcuations\n",
    "    :type target_col: str\n",
    "\n",
    "    :return: plot\n",
    "    :rtype: matplotlib.pyplot\n",
    "    \"\"\"\n",
    "    \n",
    "    x = df.index\n",
    "    y= df[['adjClose', '20 Day MA', '20 Day MA_lower bound','20 Day MA_upper bound']]\n",
    "\n",
    "    plt.fill_between(x, rds['20 Day MA_lower bound'],rds['20 Day MA_upper bound'], alpha = .5)\n",
    "    plt.plot(x,y)\n",
    "    plt.title(\"Bollinger Bands for {}\".format(ticker))\n",
    "    plt.xlabel('Date (Year/Month)')\n",
    "    plt.ylabel('Price(USD)')\n",
    "    plt.legend(y)\n",
    "    plt.show()\n",
    "    \n",
    "    return plt"
   ]
  },
  {
   "cell_type": "code",
   "execution_count": 16,
   "metadata": {},
   "outputs": [
    {
     "data": {
      "image/png": "[encoded data removed]",
      "text/plain": [
       "<Figure size 432x288 with 1 Axes>"
      ]
     },
     "metadata": {
      "needs_background": "light"
     },
     "output_type": "display_data"
    },
    {
     "data": {
      "text/plain": [
       "<module 'matplotlib.pyplot' from '/opt/anaconda3/lib/python3.7/site-packages/matplotlib/pyplot.py'>"
      ]
     },
     "execution_count": 16,
     "metadata": {},
     "output_type": "execute_result"
    }
   ],
   "source": [
    "rds = bollinger_bands(rds, 'adjClose')\n",
    "bb_plot(rds)"
   ]
  },
  {
   "cell_type": "markdown",
   "metadata": {},
   "source": [
    "## Bollinger Band Strategy\n",
    "\n",
    "The basic strategy is to buy/sell short if the actual value moves beyond the bands. The assumption is that the stock will return toward the mean. \n",
    "\n",
    "Let's test our returns if we follow this strategy. "
   ]
  },
  {
   "cell_type": "code",
   "execution_count": 18,
   "metadata": {},
   "outputs": [
    {
     "data": {
      "text/plain": [
       "<matplotlib.axes._subplots.AxesSubplot at 0x115640fd0>"
      ]
     },
     "execution_count": 18,
     "metadata": {},
     "output_type": "execute_result"
    },
    {
     "data": {
      "image/png": "[encoded data removed]",
      "text/plain": [
       "<Figure size 432x288 with 1 Axes>"
      ]
     },
     "metadata": {
      "needs_background": "light"
     },
     "output_type": "display_data"
    }
   ],
   "source": [
    "import numpy as np\n",
    "\n",
    "def bb_strategy(df: pd.DataFrame)->pd.DataFrame:\n",
    "    \"\"\"Calculates the returns of implementing the Bollinger Bands \n",
    "\n",
    "    :param df: DataFrame\n",
    "\n",
    "    :return df: df with additional columns for Positing, Market Return, and Strategy Return\n",
    "    :rtype df: pd.DataFrame\n",
    "    \"\"\"\n",
    "    df['Position'] = None\n",
    "    #Fill our newly created position column - set to sell (-1) when the price hits the upper band, and set to buy (1) when it hits the lower band\n",
    "    for row in range(len(df)):\n",
    "    \n",
    "        if (df['adjClose'].iloc[row] > df['20 Day MA_upper bound'].iloc[row]) and (df['adjClose'].iloc[row-1] < df['20 Day MA_upper bound'].iloc[row-1]):\n",
    "            df['Position'].iloc[row] = -1\n",
    "        \n",
    "        if (df['adjClose'].iloc[row] < df['20 Day MA_lower bound'].iloc[row]) and (df['adjClose'].iloc[row-1] > df['20 Day MA_lower bound'].iloc[row-1]):\n",
    "            df['Position'].iloc[row] = 1  \n",
    "\n",
    "    #Forward fill our position column to replace the \"None\" values with the correct long/short positions to represent the \"holding\" of our position\n",
    "    #forward through time\n",
    "    df['Position'].fillna(method='ffill',inplace=True)\n",
    "\n",
    "    #Calculate the daily market return and multiply that by the position to determine strategy returns\n",
    "    df['Market Return'] = np.log(df['adjClose'] / df['adjClose'].shift(1))\n",
    "    df['Strategy Return'] = df['Market Return'] * df['Position']\n",
    "    \n",
    "    return df\n",
    "\n",
    "rds = bb_strategy(rds)\n",
    "rds['Strategy Return'].cumsum().plot() "
   ]
  },
  {
   "cell_type": "markdown",
   "metadata": {},
   "source": [
    "## Conclusion\n",
    "Yikes! Our returns are pretty bad just following the Bollinger Band strategy. We should do more analysis and try another strategy. "
   ]
  },
  {
   "cell_type": "markdown",
   "metadata": {},
   "source": [
    "# Exercises: Your Turn!"
   ]
  },
  {
   "cell_type": "markdown",
   "metadata": {},
   "source": [
    "1. What was the \"Open\" price of Royal Dutch Shell-A stock (RDS-A) on February 15, 2020?"
   ]
  },
  {
   "cell_type": "code",
   "execution_count": null,
   "metadata": {},
   "outputs": [],
   "source": []
  },
  {
   "cell_type": "markdown",
   "metadata": {},
   "source": [
    "2. What was the highest volume of RDS-A stock traded in one day?"
   ]
  },
  {
   "cell_type": "code",
   "execution_count": null,
   "metadata": {},
   "outputs": [],
   "source": []
  },
  {
   "cell_type": "markdown",
   "metadata": {},
   "source": [
    "3. On what day day did this occur?"
   ]
  },
  {
   "cell_type": "code",
   "execution_count": null,
   "metadata": {},
   "outputs": [],
   "source": []
  },
  {
   "cell_type": "markdown",
   "metadata": {},
   "source": [
    "4. What was RDS-A's biggest one day stock growth in dollar terms? in percentage terms?"
   ]
  },
  {
   "cell_type": "code",
   "execution_count": null,
   "metadata": {},
   "outputs": [],
   "source": []
  },
  {
   "cell_type": "markdown",
   "metadata": {},
   "source": [
    "5. Create line plot showing RDS-A stock price over time"
   ]
  },
  {
   "cell_type": "code",
   "execution_count": null,
   "metadata": {},
   "outputs": [],
   "source": []
  },
  {
   "cell_type": "markdown",
   "metadata": {},
   "source": [
    "6. Create line chart showing average monthly stock price of Royal Dutch Shell-A (RDS-A) since January 2019 using 'adjClose.'\n",
    "\n",
    "hint: df['column'].dt.to_period(\"M\") can convert a date to a month"
   ]
  },
  {
   "cell_type": "code",
   "execution_count": null,
   "metadata": {},
   "outputs": [],
   "source": []
  },
  {
   "cell_type": "markdown",
   "metadata": {},
   "source": [
    "7. Create same chart but normalize it so that the stock starts at 1 on January 2019"
   ]
  },
  {
   "cell_type": "code",
   "execution_count": null,
   "metadata": {},
   "outputs": [],
   "source": []
  },
  {
   "cell_type": "markdown",
   "metadata": {},
   "source": [
    "# Extensions\n",
    "\n",
    "This section lists some ideas for extending the tutorial that you may wish to explore.\n",
    "* Describe three examples when using APIs for data would be better than downloading data as spreadsheets.\n",
    "\n",
    "# Further Reading\n",
    "This section provides more resources on the topic if you are looking to go deeper.\n",
    "\n",
    "## Books\n",
    "* Python for Finance, by Yves Hilpisch. http://shop.oreilly.com/product/0636920032441.do\n",
    " * [Git Repo](https://github.com/yhilpisch/py4fi2nd)\n",
    "* Mastering Python for Finance,  James Ma Weiming. https://www.amazon.com/dp/1789346460/\n",
    " * [Git Repo](https://github.com/PacktPublishing/Mastering-Python-for-Finance-Second-Edition)\n",
    "* Python Finance Cookbook, Eryk Lewinson. https://www.packtpub.com/data/python-for-finance-cookbook\n",
    " * [Git Repo](https://github.com/erykml/Python-for-Finance-Cookbook)\n",
    "\n",
    "## APIs\n",
    "* [Requests library](https://requests.readthedocs.io/en/master/)\n",
    "    \n",
    "# Summary\n",
    "\n",
    "In this tutorial, you were introduced to accessing data using APIs. Specifically, you learned:\n",
    "* How to access stock data and store it as a Pandas DataFrame\n",
    "* You did basic analysis using Bollinger Bands and even applied a basic algorithmic trading strategy\n",
    "\n",
    "# Next\n",
    "\n",
    "Use the easiest option to get data and then take the data and do amazing analysis."
   ]
  }
 ],
 "metadata": {
  "kernelspec": {
   "display_name": "Python 3",
   "language": "python",
   "name": "python3"
  },
  "language_info": {
   "codemirror_mode": {
    "name": "ipython",
    "version": 3
   },
   "file_extension": ".py",
   "mimetype": "text/x-python",
   "name": "python",
   "nbconvert_exporter": "python",
   "pygments_lexer": "ipython3",
   "version": "3.7.4"
  },
  "toc": {
   "base_numbering": 1,
   "nav_menu": {},
   "number_sections": true,
   "sideBar": true,
   "skip_h1_title": false,
   "title_cell": "Table of Contents",
   "title_sidebar": "Contents",
   "toc_cell": false,
   "toc_position": {},
   "toc_section_display": true,
   "toc_window_display": false
  }
 },
 "nbformat": 4,
 "nbformat_minor": 2
}
