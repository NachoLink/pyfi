{
 "cells": [
  {
   "cell_type": "markdown",
   "metadata": {},
   "source": [
    "# Summary - Web Scraping and APIs\n",
    "\n",
    "In Python, if you think \"There must be an easier way to do this!\" then you are probably right.\n",
    "\n",
    "Below is an example of custom code to pull finance data. it uses the Python requests library and regular expressions to parse the pages.\n",
    "\n",
    "However, there is an API for this data through the [Pandas DataReader](https://pandas-datareader.readthedocs.io/en/latest/remote_data.html) or through Quandl.\n",
    "\n",
    "I prefer Quandl to PDR. It is more stable and has additional functions. To use Quandl, you need to register for a free account at www.quandl.com.\n",
    "\n",
    "# Tutorial Overview\n",
    "This tutorial is divided into 3 part:\n",
    "1. A custom web scraping solution (Not recommended)\n",
    "2. Example with Pandas DataReader\n",
    "3. Example with Quandl\n",
    "4. You're turn!"
   ]
  },
  {
   "cell_type": "code",
   "execution_count": 9,
   "metadata": {},
   "outputs": [],
   "source": [
    "# https://flinhong.com/2017/10/30/query-yahoo-finance-historical-data-via-python-requests/\n",
    "\n",
    "import re\n",
    "import sys\n",
    "import time\n",
    "import datetime\n",
    "import requests\n",
    "import pandas as pd\n",
    "\n",
    "\n",
    "def get_cookie_value(r):\n",
    "    return {'B': r.cookies['B']}\n",
    "\n",
    "def get_page_data(symbol):\n",
    "    url = \"https://finance.yahoo.com/quote/%s/?p=%s\" % (symbol, symbol)\n",
    "    r = requests.get(url)\n",
    "    cookie = get_cookie_value(r)\n",
    "    lines = r.content.decode('unicode-escape').strip(). replace('}', '\\n')\n",
    "    return cookie, lines.split('\\n')\n",
    "\n",
    "def find_crumb_store(lines):\n",
    "    for l in lines:\n",
    "        if re.findall(r'CrumbStore', l):\n",
    "            return l\n",
    "    print(\"Did not find CrumbStore\")\n",
    "\n",
    "def split_crumb_store(v):\n",
    "    return v.split(':')[2].strip('\"')\n",
    "\n",
    "def get_cookie_crumb(symbol):\n",
    "    cookie, lines = get_page_data(symbol)\n",
    "    crumb = split_crumb_store(find_crumb_store(lines))\n",
    "    return cookie, crumb\n",
    "\n",
    "def get_data(symbol, start_date, end_date, cookie, crumb):\n",
    "    filename = '%s.csv' % (symbol)\n",
    "    url = \"https://query1.finance.yahoo.com/v7/finance/download/%s?period1=%s&period2=%s&interval=1d&events=history&crumb=%s\" % (symbol, start_date, end_date, crumb)\n",
    "    response = requests.get(url, cookies=cookie)\n",
    "    return response\n",
    "\n",
    "def get_now_epoch():\n",
    "    return int(time.time())\n",
    "\n",
    "def convert_to_dataframe(data, symbol):\n",
    "    data = data.content.decode(\"utf-8\").splitlines()\n",
    "    data = [i.strip(',') for i in data]\n",
    "    data = pd.DataFrame(data)\n",
    "    data = data[0].str.split(',', expand=True)\n",
    "    cols = data.iloc[0,:].values.tolist()\n",
    "    data.columns = cols\n",
    "    data = data[1:]\n",
    "    data['symbol'] = symbol\n",
    "    data['Date'] = pd.DatetimeIndex(data['Date'])\n",
    "    data[['Open','High','Low','Close','Adj Close','Volume']] = data[['Open','High','Low','Close','Adj Close','Volume']].astype(float)\n",
    "    return data\n",
    "\n",
    "def download_quotes(symbols):\n",
    "\n",
    "    if type(symbols)!=list:\n",
    "        symbols = [symbols]\n",
    "        \n",
    "    start_date = 0\n",
    "    end_date = get_now_epoch()\n",
    "    \n",
    "    stocks = []\n",
    "    for symbol in symbols:\n",
    "        cookie, crumb = get_cookie_crumb(symbol)\n",
    "        data = get_data(symbol, start_date, end_date, cookie, crumb)\n",
    "        stocks.append(convert_to_dataframe(data, symbol))\n",
    "        \n",
    "    return pd.concat(stocks, axis=0)\n"
   ]
  },
  {
   "cell_type": "code",
   "execution_count": 10,
   "metadata": {},
   "outputs": [
    {
     "name": "stderr",
     "output_type": "stream",
     "text": [
      "/opt/anaconda3/lib/python3.7/site-packages/ipykernel_launcher.py:18: DeprecationWarning: invalid escape sequence '\\/'\n"
     ]
    },
    {
     "data": {
      "text/html": [
       "<div>\n",
       "<style scoped>\n",
       "    .dataframe tbody tr th:only-of-type {\n",
       "        vertical-align: middle;\n",
       "    }\n",
       "\n",
       "    .dataframe tbody tr th {\n",
       "        vertical-align: top;\n",
       "    }\n",
       "\n",
       "    .dataframe thead th {\n",
       "        text-align: right;\n",
       "    }\n",
       "</style>\n",
       "<table border=\"1\" class=\"dataframe\">\n",
       "  <thead>\n",
       "    <tr style=\"text-align: right;\">\n",
       "      <th></th>\n",
       "      <th>Date</th>\n",
       "      <th>Open</th>\n",
       "      <th>High</th>\n",
       "      <th>Low</th>\n",
       "      <th>Close</th>\n",
       "      <th>Adj Close</th>\n",
       "      <th>Volume</th>\n",
       "      <th>symbol</th>\n",
       "    </tr>\n",
       "  </thead>\n",
       "  <tbody>\n",
       "    <tr>\n",
       "      <td>1</td>\n",
       "      <td>1970-01-02</td>\n",
       "      <td>92.059998</td>\n",
       "      <td>93.540001</td>\n",
       "      <td>91.790001</td>\n",
       "      <td>93.000000</td>\n",
       "      <td>93.000000</td>\n",
       "      <td>8050000.0</td>\n",
       "      <td>^GSPC</td>\n",
       "    </tr>\n",
       "    <tr>\n",
       "      <td>2</td>\n",
       "      <td>1970-01-05</td>\n",
       "      <td>93.000000</td>\n",
       "      <td>94.250000</td>\n",
       "      <td>92.529999</td>\n",
       "      <td>93.459999</td>\n",
       "      <td>93.459999</td>\n",
       "      <td>11490000.0</td>\n",
       "      <td>^GSPC</td>\n",
       "    </tr>\n",
       "    <tr>\n",
       "      <td>3</td>\n",
       "      <td>1970-01-06</td>\n",
       "      <td>93.459999</td>\n",
       "      <td>93.809998</td>\n",
       "      <td>92.129997</td>\n",
       "      <td>92.820000</td>\n",
       "      <td>92.820000</td>\n",
       "      <td>11460000.0</td>\n",
       "      <td>^GSPC</td>\n",
       "    </tr>\n",
       "    <tr>\n",
       "      <td>4</td>\n",
       "      <td>1970-01-07</td>\n",
       "      <td>92.820000</td>\n",
       "      <td>93.379997</td>\n",
       "      <td>91.930000</td>\n",
       "      <td>92.629997</td>\n",
       "      <td>92.629997</td>\n",
       "      <td>10010000.0</td>\n",
       "      <td>^GSPC</td>\n",
       "    </tr>\n",
       "    <tr>\n",
       "      <td>5</td>\n",
       "      <td>1970-01-08</td>\n",
       "      <td>92.629997</td>\n",
       "      <td>93.470001</td>\n",
       "      <td>91.989998</td>\n",
       "      <td>92.680000</td>\n",
       "      <td>92.680000</td>\n",
       "      <td>10670000.0</td>\n",
       "      <td>^GSPC</td>\n",
       "    </tr>\n",
       "  </tbody>\n",
       "</table>\n",
       "</div>"
      ],
      "text/plain": [
       "        Date       Open       High        Low      Close  Adj Close  \\\n",
       "1 1970-01-02  92.059998  93.540001  91.790001  93.000000  93.000000   \n",
       "2 1970-01-05  93.000000  94.250000  92.529999  93.459999  93.459999   \n",
       "3 1970-01-06  93.459999  93.809998  92.129997  92.820000  92.820000   \n",
       "4 1970-01-07  92.820000  93.379997  91.930000  92.629997  92.629997   \n",
       "5 1970-01-08  92.629997  93.470001  91.989998  92.680000  92.680000   \n",
       "\n",
       "       Volume symbol  \n",
       "1   8050000.0  ^GSPC  \n",
       "2  11490000.0  ^GSPC  \n",
       "3  11460000.0  ^GSPC  \n",
       "4  10010000.0  ^GSPC  \n",
       "5  10670000.0  ^GSPC  "
      ]
     },
     "execution_count": 10,
     "metadata": {},
     "output_type": "execute_result"
    }
   ],
   "source": [
    "df = download_quotes(['^GSPC','AMZN'])\n",
    "df.head()"
   ]
  },
  {
   "cell_type": "markdown",
   "metadata": {},
   "source": [
    "# Example with Pandas DataReader"
   ]
  },
  {
   "cell_type": "code",
   "execution_count": 17,
   "metadata": {},
   "outputs": [
    {
     "data": {
      "text/html": [
       "<div>\n",
       "<style scoped>\n",
       "    .dataframe tbody tr th:only-of-type {\n",
       "        vertical-align: middle;\n",
       "    }\n",
       "\n",
       "    .dataframe tbody tr th {\n",
       "        vertical-align: top;\n",
       "    }\n",
       "\n",
       "    .dataframe thead th {\n",
       "        text-align: right;\n",
       "    }\n",
       "</style>\n",
       "<table border=\"1\" class=\"dataframe\">\n",
       "  <thead>\n",
       "    <tr style=\"text-align: right;\">\n",
       "      <th></th>\n",
       "      <th>Open</th>\n",
       "      <th>High</th>\n",
       "      <th>Low</th>\n",
       "      <th>Close</th>\n",
       "      <th>Volume</th>\n",
       "      <th>ExDividend</th>\n",
       "      <th>SplitRatio</th>\n",
       "      <th>AdjOpen</th>\n",
       "      <th>AdjHigh</th>\n",
       "      <th>AdjLow</th>\n",
       "      <th>AdjClose</th>\n",
       "      <th>AdjVolume</th>\n",
       "    </tr>\n",
       "    <tr>\n",
       "      <th>Date</th>\n",
       "      <th></th>\n",
       "      <th></th>\n",
       "      <th></th>\n",
       "      <th></th>\n",
       "      <th></th>\n",
       "      <th></th>\n",
       "      <th></th>\n",
       "      <th></th>\n",
       "      <th></th>\n",
       "      <th></th>\n",
       "      <th></th>\n",
       "      <th></th>\n",
       "    </tr>\n",
       "  </thead>\n",
       "  <tbody>\n",
       "    <tr>\n",
       "      <td>2015-04-28</td>\n",
       "      <td>438.51</td>\n",
       "      <td>439.00</td>\n",
       "      <td>428.04</td>\n",
       "      <td>429.31</td>\n",
       "      <td>4140483.0</td>\n",
       "      <td>0.0</td>\n",
       "      <td>1.0</td>\n",
       "      <td>438.51</td>\n",
       "      <td>439.00</td>\n",
       "      <td>428.04</td>\n",
       "      <td>429.31</td>\n",
       "      <td>4140483.0</td>\n",
       "    </tr>\n",
       "    <tr>\n",
       "      <td>2015-04-27</td>\n",
       "      <td>443.86</td>\n",
       "      <td>446.99</td>\n",
       "      <td>437.41</td>\n",
       "      <td>438.56</td>\n",
       "      <td>5430949.0</td>\n",
       "      <td>0.0</td>\n",
       "      <td>1.0</td>\n",
       "      <td>443.86</td>\n",
       "      <td>446.99</td>\n",
       "      <td>437.41</td>\n",
       "      <td>438.56</td>\n",
       "      <td>5430949.0</td>\n",
       "    </tr>\n",
       "    <tr>\n",
       "      <td>2015-04-24</td>\n",
       "      <td>439.00</td>\n",
       "      <td>452.65</td>\n",
       "      <td>439.00</td>\n",
       "      <td>445.10</td>\n",
       "      <td>17176904.0</td>\n",
       "      <td>0.0</td>\n",
       "      <td>1.0</td>\n",
       "      <td>439.00</td>\n",
       "      <td>452.65</td>\n",
       "      <td>439.00</td>\n",
       "      <td>445.10</td>\n",
       "      <td>17176904.0</td>\n",
       "    </tr>\n",
       "    <tr>\n",
       "      <td>2015-04-23</td>\n",
       "      <td>390.21</td>\n",
       "      <td>391.88</td>\n",
       "      <td>386.15</td>\n",
       "      <td>389.99</td>\n",
       "      <td>7979985.0</td>\n",
       "      <td>0.0</td>\n",
       "      <td>1.0</td>\n",
       "      <td>390.21</td>\n",
       "      <td>391.88</td>\n",
       "      <td>386.15</td>\n",
       "      <td>389.99</td>\n",
       "      <td>7979985.0</td>\n",
       "    </tr>\n",
       "    <tr>\n",
       "      <td>2015-04-22</td>\n",
       "      <td>391.91</td>\n",
       "      <td>394.28</td>\n",
       "      <td>388.00</td>\n",
       "      <td>389.80</td>\n",
       "      <td>3474724.0</td>\n",
       "      <td>0.0</td>\n",
       "      <td>1.0</td>\n",
       "      <td>391.91</td>\n",
       "      <td>394.28</td>\n",
       "      <td>388.00</td>\n",
       "      <td>389.80</td>\n",
       "      <td>3474724.0</td>\n",
       "    </tr>\n",
       "  </tbody>\n",
       "</table>\n",
       "</div>"
      ],
      "text/plain": [
       "              Open    High     Low   Close      Volume  ExDividend  \\\n",
       "Date                                                                 \n",
       "2015-04-28  438.51  439.00  428.04  429.31   4140483.0         0.0   \n",
       "2015-04-27  443.86  446.99  437.41  438.56   5430949.0         0.0   \n",
       "2015-04-24  439.00  452.65  439.00  445.10  17176904.0         0.0   \n",
       "2015-04-23  390.21  391.88  386.15  389.99   7979985.0         0.0   \n",
       "2015-04-22  391.91  394.28  388.00  389.80   3474724.0         0.0   \n",
       "\n",
       "            SplitRatio  AdjOpen  AdjHigh  AdjLow  AdjClose   AdjVolume  \n",
       "Date                                                                    \n",
       "2015-04-28         1.0   438.51   439.00  428.04    429.31   4140483.0  \n",
       "2015-04-27         1.0   443.86   446.99  437.41    438.56   5430949.0  \n",
       "2015-04-24         1.0   439.00   452.65  439.00    445.10  17176904.0  \n",
       "2015-04-23         1.0   390.21   391.88  386.15    389.99   7979985.0  \n",
       "2015-04-22         1.0   391.91   394.28  388.00    389.80   3474724.0  "
      ]
     },
     "execution_count": 17,
     "metadata": {},
     "output_type": "execute_result"
    }
   ],
   "source": [
    "import pandas_datareader.data as web\n",
    "symbol = 'WIKI/AMZN'\n",
    "api_key = \"upASDYvVpTLeNUhQxSgE\"\n",
    "df = web.DataReader(symbol, 'quandl', api_key = api_key)\n",
    "df.tail()"
   ]
  },
  {
   "cell_type": "markdown",
   "metadata": {},
   "source": [
    "# Example with Quandl"
   ]
  },
  {
   "cell_type": "code",
   "execution_count": 4,
   "metadata": {},
   "outputs": [],
   "source": [
    "import quandl\n",
    "df = quandl.get(\"WIKI/AMZN\", trim_start=\"1975-01-01\", authtoken=\"upASDYvVpTLeNUhQxSgE\")\n",
    "df.tail()"
   ]
  },
  {
   "cell_type": "code",
   "execution_count": 8,
   "metadata": {},
   "outputs": [
    {
     "data": {
      "text/plain": [
       "184.47"
      ]
     },
     "execution_count": 8,
     "metadata": {},
     "output_type": "execute_result"
    }
   ],
   "source": [
    "df.loc['2012-02-15']['Close']"
   ]
  },
  {
   "cell_type": "markdown",
   "metadata": {},
   "source": [
    "# Your Turn!\n"
   ]
  },
  {
   "cell_type": "markdown",
   "metadata": {},
   "source": [
    "1\\. What was the \"Open\" price of Amazon stock (AMZN) on February 15, 2012?"
   ]
  },
  {
   "cell_type": "code",
   "execution_count": null,
   "metadata": {},
   "outputs": [],
   "source": []
  },
  {
   "cell_type": "markdown",
   "metadata": {},
   "source": [
    "2\\. What was the highest volume of Amazon stock traded in one day?\n"
   ]
  },
  {
   "cell_type": "code",
   "execution_count": null,
   "metadata": {},
   "outputs": [],
   "source": []
  },
  {
   "cell_type": "markdown",
   "metadata": {},
   "source": [
    "3\\. On what day day did this occur?"
   ]
  },
  {
   "cell_type": "code",
   "execution_count": null,
   "metadata": {},
   "outputs": [],
   "source": []
  },
  {
   "cell_type": "markdown",
   "metadata": {},
   "source": [
    "4\\. What was Amazon's biggest one day stock growth in dollar terms? in percentage terms?"
   ]
  },
  {
   "cell_type": "code",
   "execution_count": null,
   "metadata": {},
   "outputs": [],
   "source": []
  },
  {
   "cell_type": "markdown",
   "metadata": {},
   "source": [
    "5\\. Create line chart showing Amazon stock price over time"
   ]
  },
  {
   "cell_type": "code",
   "execution_count": null,
   "metadata": {},
   "outputs": [],
   "source": []
  },
  {
   "cell_type": "markdown",
   "metadata": {},
   "source": [
    "6\\. Create line chart showing average monthly stock price of Amazon (AMZN) vs S&P 500 (^GSPC) since January 2000 using Adj Close\n",
    "\n",
    "hint: df['column'].dt.to_period(\"M\") can convert a date to a month"
   ]
  },
  {
   "cell_type": "code",
   "execution_count": null,
   "metadata": {},
   "outputs": [],
   "source": []
  },
  {
   "cell_type": "markdown",
   "metadata": {},
   "source": [
    "7\\. Create same chart in 2) but normalize it so that both stocks are set to 1.0 in January 2000"
   ]
  },
  {
   "cell_type": "code",
   "execution_count": null,
   "metadata": {},
   "outputs": [],
   "source": []
  },
  {
   "cell_type": "markdown",
   "metadata": {},
   "source": [
    "# Extensions\n",
    "\n",
    "This section lists some ideas for extending the tutorial that you may wish to explore.\n",
    "* Describe three examples when using APIs for data would be better than downloading data as spreadsheets.\n",
    "\n",
    "# Further Reading\n",
    "This section provides more resources on the topic if you are looking to go deeper.\n",
    "\n",
    "## Books\n",
    "* Python for Finance, by Yves Hilpisch. http://shop.oreilly.com/product/0636920032441.do\n",
    " * [Git Repo](https://github.com/yhilpisch/py4fi2nd)\n",
    "* Mastering Python for Finance,  James Ma Weiming. https://www.amazon.com/dp/1789346460/\n",
    " * [Git Repo](https://github.com/PacktPublishing/Mastering-Python-for-Finance-Second-Edition)\n",
    "* Python Finance Cookbook, Eryk Lewinson. https://www.packtpub.com/data/python-for-finance-cookbook\n",
    " * [Git Repo](https://github.com/erykml/Python-for-Finance-Cookbook)\n",
    "\n",
    "## APIs\n",
    "* Pandas DataReader. https://pandas-datareader.readthedocs.io/en/latest/ \n",
    "* Quandl. https://www.quandl.com/tools/python\n",
    "    \n",
    "# Summary\n",
    "\n",
    "In this tutorial, you were introduced to pulling data using web scraping, Pandas DataReader, and Quandl. Specifically, you learned:\n",
    "* How to use Pandas DataReader and Quandl to access stock data as a Pandas DataFrame.\n",
    "\n",
    "# Next\n",
    "\n",
    "Use the easiest option to get data and then take the data and do amazing analysis."
   ]
  },
  {
   "cell_type": "code",
   "execution_count": null,
   "metadata": {},
   "outputs": [],
   "source": []
  }
 ],
 "metadata": {
  "kernelspec": {
   "display_name": "Python 3",
   "language": "python",
   "name": "python3"
  },
  "language_info": {
   "codemirror_mode": {
    "name": "ipython",
    "version": 3
   },
   "file_extension": ".py",
   "mimetype": "text/x-python",
   "name": "python",
   "nbconvert_exporter": "python",
   "pygments_lexer": "ipython3",
   "version": "3.7.4"
  },
  "toc": {
   "base_numbering": 1,
   "nav_menu": {},
   "number_sections": true,
   "sideBar": true,
   "skip_h1_title": false,
   "title_cell": "Table of Contents",
   "title_sidebar": "Contents",
   "toc_cell": false,
   "toc_position": {},
   "toc_section_display": true,
   "toc_window_display": false
  }
 },
 "nbformat": 4,
 "nbformat_minor": 2
}
