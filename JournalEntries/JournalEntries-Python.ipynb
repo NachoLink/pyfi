{
 "cells": [
  {
   "cell_type": "code",
   "execution_count": 41,
   "metadata": {},
   "outputs": [],
   "source": [
    "import pandas as pd"
   ]
  },
  {
   "cell_type": "code",
   "execution_count": 42,
   "metadata": {
    "collapsed": true
   },
   "outputs": [
    {
     "data": {
      "text/plain": [
       "'\\nThis Notebook focuses on using pandas to automate portions of the reporting process. Specifically, the transformatin\\nof accounting Journal Entries (JE) into meaningful Financial Statements.\\n\\nThe data is being sourced from academic repositories (MPA level worksheets).\\n\\nTo Note: Natural Language Processing Algorithms are NOT recommended\\nwhen it comes to analyzing free-form text transaction logs. If these serve as the basis for creating JE, the accuracy\\nneeds to be perfect to avoid financial liabilities.\\n'"
      ]
     },
     "execution_count": 42,
     "metadata": {},
     "output_type": "execute_result"
    }
   ],
   "source": [
    "'''\n",
    "This Notebook focuses on using pandas to automate portions of the reporting process. Specifically, the transformation\n",
    "of accounting Journal Entries (JE) into meaningful Financial Statements.\n",
    "\n",
    "The data is being sourced from academic repositories (MPA level worksheets).\n",
    "\n",
    "To Note: Natural Language Processing Algorithms are NOT recommended\n",
    "when it comes to analyzing free-form text transaction logs. If these serve as the basis for creating JE, the accuracy\n",
    "needs to be perfect to avoid financial liabilities.\n",
    "'''"
   ]
  },
  {
   "cell_type": "code",
   "execution_count": 71,
   "metadata": {},
   "outputs": [
    {
     "data": {
      "text/html": [
       "<div>\n",
       "<style scoped>\n",
       "    .dataframe tbody tr th:only-of-type {\n",
       "        vertical-align: middle;\n",
       "    }\n",
       "\n",
       "    .dataframe tbody tr th {\n",
       "        vertical-align: top;\n",
       "    }\n",
       "\n",
       "    .dataframe thead th {\n",
       "        text-align: right;\n",
       "    }\n",
       "</style>\n",
       "<table border=\"1\" class=\"dataframe\">\n",
       "  <thead>\n",
       "    <tr style=\"text-align: right;\">\n",
       "      <th></th>\n",
       "      <th>Type</th>\n",
       "      <th>Description</th>\n",
       "      <th>Journal Entry</th>\n",
       "      <th>Debit/Credit</th>\n",
       "    </tr>\n",
       "  </thead>\n",
       "  <tbody>\n",
       "    <tr>\n",
       "      <th>0</th>\n",
       "      <td>Comprehensive Examples</td>\n",
       "      <td>Tawhoe Oil Company was interested in a large t...</td>\n",
       "      <td>G&amp;G Expense\\nCash</td>\n",
       "      <td>50000\\n50000</td>\n",
       "    </tr>\n",
       "    <tr>\n",
       "      <th>1</th>\n",
       "      <td>Comprehensive Examples</td>\n",
       "      <td>Tawhoe paid a geological firm $500,000 to cond...</td>\n",
       "      <td>G&amp;G Expense\\nCash</td>\n",
       "      <td>500000\\n500000</td>\n",
       "    </tr>\n",
       "    <tr>\n",
       "      <th>2</th>\n",
       "      <td>Comprehensive Examples</td>\n",
       "      <td>Based on the results of that study, Tawhoe acq...</td>\n",
       "      <td>G&amp;G Expense\\nCash</td>\n",
       "      <td>1500000\\n1500000</td>\n",
       "    </tr>\n",
       "    <tr>\n",
       "      <th>3</th>\n",
       "      <td>Comprehensive Examples</td>\n",
       "      <td>During the first year, Tawhoe had to pay $15,0...</td>\n",
       "      <td>Ad valorem tax expense, Legal expense - explor...</td>\n",
       "      <td>15000, 16000\\n15000, 16000</td>\n",
       "    </tr>\n",
       "    <tr>\n",
       "      <th>4</th>\n",
       "      <td>Comprehensive Examples</td>\n",
       "      <td>Land Acquisition - Unproved</td>\n",
       "      <td>Land Acquisition - Unproved\\nCash</td>\n",
       "      <td>62000\\n62000</td>\n",
       "    </tr>\n",
       "  </tbody>\n",
       "</table>\n",
       "</div>"
      ],
      "text/plain": [
       "                     Type                                        Description  \\\n",
       "0  Comprehensive Examples  Tawhoe Oil Company was interested in a large t...   \n",
       "1  Comprehensive Examples  Tawhoe paid a geological firm $500,000 to cond...   \n",
       "2  Comprehensive Examples  Based on the results of that study, Tawhoe acq...   \n",
       "3  Comprehensive Examples  During the first year, Tawhoe had to pay $15,0...   \n",
       "4  Comprehensive Examples                        Land Acquisition - Unproved   \n",
       "\n",
       "                                       Journal Entry  \\\n",
       "0                                  G&G Expense\\nCash   \n",
       "1                                  G&G Expense\\nCash   \n",
       "2                                  G&G Expense\\nCash   \n",
       "3  Ad valorem tax expense, Legal expense - explor...   \n",
       "4                  Land Acquisition - Unproved\\nCash   \n",
       "\n",
       "                 Debit/Credit  \n",
       "0                50000\\n50000  \n",
       "1              500000\\n500000  \n",
       "2            1500000\\n1500000  \n",
       "3  15000, 16000\\n15000, 16000  \n",
       "4                62000\\n62000  "
      ]
     },
     "metadata": {},
     "output_type": "display_data"
    }
   ],
   "source": [
    "# Load the data into a local dataframe\n",
    "JE = pd.read_excel('./JournalEntriesData.xlsx')\n",
    "display (JE.head())"
   ]
  },
  {
   "cell_type": "code",
   "execution_count": 44,
   "metadata": {
    "collapsed": true
   },
   "outputs": [
    {
     "data": {
      "text/plain": [
       "\"\\nIn order to translate the data into meaningful insights for use in the balance sheet, we must first parse the data in the\\njournal entry. Here, it's been divided between line items with commas, and between debit/credit by 'new lines'.\\nAdapt the parsing logic as needed. The key is consistency in the source data.\\n\""
      ]
     },
     "execution_count": 44,
     "metadata": {},
     "output_type": "execute_result"
    }
   ],
   "source": [
    "'''\n",
    "In order to translate the data into meaningful insights for use in the balance sheet, we must first parse the data in the\n",
    "journal entry. Here, it's been divided between line items with commas, and between debit/credit by 'new lines'.\n",
    "Adapt the parsing logic as needed. The key is consistency in the source data.\n",
    "'''"
   ]
  },
  {
   "cell_type": "code",
   "execution_count": 93,
   "metadata": {},
   "outputs": [
    {
     "name": "stdout",
     "output_type": "stream",
     "text": [
      "Empty DataFrame\n",
      "Columns: [Debit/Credit, Line Item, Amount]\n",
      "Index: []\n"
     ]
    }
   ],
   "source": [
    "# First, create a new dataframe containing only the needed items. Each line should be a debit or credit, one item.\n",
    "df = pd.DataFrame(columns = ['Debit/Credit','Line Item','Amount'])\n",
    "print (df)"
   ]
  },
  {
   "cell_type": "code",
   "execution_count": 94,
   "metadata": {},
   "outputs": [
    {
     "name": "stdout",
     "output_type": "stream",
     "text": [
      "Index:  0\n",
      "Type                                        Comprehensive Examples\n",
      "Description      Tawhoe Oil Company was interested in a large t...\n",
      "Journal Entry                                    G&G Expense\\nCash\n",
      "Debit/Credit                                          50000\\n50000\n",
      "Name: 0, dtype: object\n"
     ]
    }
   ],
   "source": [
    "# Do some exploration as to how the dataframe is structured\n",
    "# The 'item' below is a tuple, with the first item being the index and the second being the actual data (dictionary)\n",
    "for item in JE.iterrows():\n",
    "    index = item[0]\n",
    "    data = item[1]\n",
    "    print ('Index: ', index )\n",
    "    print (data)\n",
    "    break"
   ]
  },
  {
   "cell_type": "code",
   "execution_count": 95,
   "metadata": {},
   "outputs": [
    {
     "name": "stdout",
     "output_type": "stream",
     "text": [
      "Number of line item:  82\n"
     ]
    },
    {
     "data": {
      "text/html": [
       "<div>\n",
       "<style scoped>\n",
       "    .dataframe tbody tr th:only-of-type {\n",
       "        vertical-align: middle;\n",
       "    }\n",
       "\n",
       "    .dataframe tbody tr th {\n",
       "        vertical-align: top;\n",
       "    }\n",
       "\n",
       "    .dataframe thead th {\n",
       "        text-align: right;\n",
       "    }\n",
       "</style>\n",
       "<table border=\"1\" class=\"dataframe\">\n",
       "  <thead>\n",
       "    <tr style=\"text-align: right;\">\n",
       "      <th></th>\n",
       "      <th>Debit/Credit</th>\n",
       "      <th>Line Item</th>\n",
       "      <th>Amount</th>\n",
       "    </tr>\n",
       "  </thead>\n",
       "  <tbody>\n",
       "    <tr>\n",
       "      <th>0</th>\n",
       "      <td>Debit</td>\n",
       "      <td>G&amp;G Expense</td>\n",
       "      <td>50000</td>\n",
       "    </tr>\n",
       "    <tr>\n",
       "      <th>1</th>\n",
       "      <td>Credit</td>\n",
       "      <td>Cash</td>\n",
       "      <td>50000</td>\n",
       "    </tr>\n",
       "    <tr>\n",
       "      <th>2</th>\n",
       "      <td>Debit</td>\n",
       "      <td>G&amp;G Expense</td>\n",
       "      <td>500000</td>\n",
       "    </tr>\n",
       "    <tr>\n",
       "      <th>3</th>\n",
       "      <td>Credit</td>\n",
       "      <td>Cash</td>\n",
       "      <td>500000</td>\n",
       "    </tr>\n",
       "    <tr>\n",
       "      <th>4</th>\n",
       "      <td>Debit</td>\n",
       "      <td>G&amp;G Expense</td>\n",
       "      <td>1500000</td>\n",
       "    </tr>\n",
       "    <tr>\n",
       "      <th>5</th>\n",
       "      <td>Credit</td>\n",
       "      <td>Cash</td>\n",
       "      <td>1500000</td>\n",
       "    </tr>\n",
       "    <tr>\n",
       "      <th>6</th>\n",
       "      <td>Debit</td>\n",
       "      <td>Ad valorem tax expense</td>\n",
       "      <td>15000</td>\n",
       "    </tr>\n",
       "    <tr>\n",
       "      <th>7</th>\n",
       "      <td>Debit</td>\n",
       "      <td>Legal expense - exploration</td>\n",
       "      <td>16000</td>\n",
       "    </tr>\n",
       "    <tr>\n",
       "      <th>8</th>\n",
       "      <td>Credit</td>\n",
       "      <td>Cash</td>\n",
       "      <td>15000</td>\n",
       "    </tr>\n",
       "    <tr>\n",
       "      <th>9</th>\n",
       "      <td>Credit</td>\n",
       "      <td>Cash</td>\n",
       "      <td>16000</td>\n",
       "    </tr>\n",
       "  </tbody>\n",
       "</table>\n",
       "</div>"
      ],
      "text/plain": [
       "  Debit/Credit                     Line Item   Amount\n",
       "0        Debit                   G&G Expense    50000\n",
       "1       Credit                          Cash    50000\n",
       "2        Debit                   G&G Expense   500000\n",
       "3       Credit                          Cash   500000\n",
       "4        Debit                   G&G Expense  1500000\n",
       "5       Credit                          Cash  1500000\n",
       "6        Debit        Ad valorem tax expense    15000\n",
       "7        Debit   Legal expense - exploration    16000\n",
       "8       Credit                          Cash    15000\n",
       "9       Credit                          Cash    16000"
      ]
     },
     "metadata": {},
     "output_type": "display_data"
    }
   ],
   "source": [
    "# Iterate through the entire dataframe now.\n",
    "for item in JE.iterrows():\n",
    "    index = item[0]\n",
    "    data = item[1]\n",
    "    journalEntry = data['Journal Entry']\n",
    "    debitCredit = data['Debit/Credit']\n",
    "    # Try to split the journalEntry and debitCredit by 'new line character' to break between debit and credits\n",
    "    debitDescription = journalEntry.split('\\n')[0]\n",
    "    creditDescription = journalEntry.split('\\n')[1]\n",
    "    debitAmounts = debitCredit.split('\\n')[0]\n",
    "    creditAmounts = debitCredit.split('\\n')[1]\n",
    "    # Now that we've split debit and credits, we need to iterate through the line items, which are separated by commas\n",
    "    # First comes the debits\n",
    "    for i in range (0, len(debitDescription.split(','))):\n",
    "        debitAmountItem = debitAmounts.split(',')\n",
    "        df = df.append({'Debit/Credit': 'Debit', 'Line Item': debitDescription.split(',')[i], 'Amount': debitAmountItem[i] }, ignore_index=True)\n",
    "    # Do the same for credits\n",
    "    for i in range (0, len(creditDescription.split(','))):\n",
    "        creditAmountItem = creditAmounts.split(',')\n",
    "        df = df.append({'Debit/Credit': 'Credit', 'Line Item': creditDescription.split(',')[i], 'Amount': creditAmountItem[i] }, ignore_index=True)\n",
    "print ('Number of line item: ',len(df))\n",
    "display (df[:10])\n",
    "    "
   ]
  },
  {
   "cell_type": "code",
   "execution_count": 96,
   "metadata": {},
   "outputs": [
    {
     "name": "stdout",
     "output_type": "stream",
     "text": [
      "G&G Expense\n",
      "Cash\n",
      "Ad Valorem Tax Expense\n",
      "Legal Expense - Exploration\n",
      "Land Acquisition - Unproved\n",
      "Delay Rental Expense\n",
      "Test-Well Contribution Expense\n",
      "Unproved Property\n",
      "Wells-In-Progress(Exploratory)\n",
      "Dry-Hole Expense\n",
      "Wells And Equipment\n",
      "Proved Property\n",
      "Production Expense\n",
      "Wells-In-Progress - Idc\n",
      "Wells-In-Progress - Lease And Well Equipment (L&We)\n",
      "Wells And Equipment - Idc\n",
      "Wells And Equipment - L&We\n",
      "Dry-Hole Expense - Idc\n",
      "Dry-Hole Expense - L&We\n"
     ]
    }
   ],
   "source": [
    "# Now that we have a logical list of line item transactions, let's see all the unique categories. This will\n",
    "# help consolidate them for the balance sheet.\n",
    "# Let's also clean up the data, since it looks like there are some leading and trailing whitespaces.\n",
    "def whiteSpaceParse(x):\n",
    "    if x[0] == ' ':\n",
    "        x = x[1:]\n",
    "    if x[-1] == ' ':\n",
    "        x = x[:-1]\n",
    "    return (x.title())\n",
    "df['Line Item'] = df['Line Item'].apply(whiteSpaceParse)\n",
    "for item in (df['Line Item'].unique()):\n",
    "    print (item)"
   ]
  },
  {
   "cell_type": "code",
   "execution_count": 106,
   "metadata": {},
   "outputs": [
    {
     "name": "stdout",
     "output_type": "stream",
     "text": [
      "G&G Expense: $3040000\n",
      "Cash: $-9686200\n",
      "Ad Valorem Tax Expense: $15000\n",
      "Legal Expense - Exploration: $16000\n",
      "Land Acquisition - Unproved: $62000\n",
      "Delay Rental Expense: $16200\n",
      "Test-Well Contribution Expense: $200000\n",
      "Unproved Property: $0\n",
      "Wells-In-Progress(Exploratory): $0\n",
      "Dry-Hole Expense: $1300000\n",
      "Wells And Equipment: $2375000\n",
      "Proved Property: $82000\n",
      "Production Expense: $75000\n",
      "Wells-In-Progress - Idc: $-1705000\n",
      "Wells-In-Progress - Lease And Well Equipment (L&We): $-270000\n",
      "Wells And Equipment - Idc: $1890000\n",
      "Wells And Equipment - L&We: $595000\n",
      "Dry-Hole Expense - Idc: $1725000\n",
      "Dry-Hole Expense - L&We: $270000\n"
     ]
    }
   ],
   "source": [
    "# It's finally time to consolidate all the changes to get a single view of what items on the balance sheet are changing\n",
    "# and by how much\n",
    "Change = {}\n",
    "for item in df['Line Item'].unique():\n",
    "    filteredDF = df[df['Line Item'] == item]\n",
    "    totalChange = 0\n",
    "    for row in filteredDF.iterrows():\n",
    "        if row[1]['Debit/Credit'] == 'Debit':\n",
    "            totalChange += int(row[1]['Amount'])\n",
    "        else:\n",
    "            totalChange -= int(row[1]['Amount'])\n",
    "    Change[item] = totalChange\n",
    "for item in Change:\n",
    "    print (item+': $'+str(Change[item]))\n",
    "        "
   ]
  },
  {
   "cell_type": "code",
   "execution_count": 98,
   "metadata": {},
   "outputs": [],
   "source": [
    "'''\n",
    "The reason why so many changes result in $0 is because a lot of the exploration gets cancelled out when \n",
    "transitioning expenses into assets and vice-versa (ie: when we debit wells-in-progress and credit cash,\n",
    "the change is reverted because we later on credit wells-in-progress and debit wells and equipment). This is likely\n",
    "for reporting or tax purposes.\n",
    "'''"
   ]
  },
  {
   "cell_type": "code",
   "execution_count": 113,
   "metadata": {},
   "outputs": [],
   "source": [
    "# To finish, let's imagine we have a dictionary of mapped values that connects the line item type to either an asset or Liability\n",
    "# For the time being, just create one. \n",
    "lineItemMapping = {'G&G Expense': 'Liability',\n",
    "                  'Cash': \"Asset\",\n",
    "                  \"Ad Valorem Tax Expense\": 'Liability',\n",
    "                  \"Legal Expense - Exploration\": \"Liability\",\n",
    "                  \"Land Acquisition - Unproved\": \"Asset\",\n",
    "                  \"Delay Rental Expense\": \"Liability\",\n",
    "                  'Test-Well Contribution Expense': \"Liability\",\n",
    "                  \"Unproved Property\": \"Asset\",\n",
    "                  \"Wells-In-Progress(Exploratory)\": \"Asset\",\n",
    "                  \"Dry-Hole Expense\":\"Liability\",\n",
    "                  \"Wells And Equipment\": 'Asset',\n",
    "                  'Proved Property': 'Asset',\n",
    "                  'Production Expense': 'Liability',\n",
    "                  'Wells-In-Progress - Idc': 'Asset',\n",
    "                  'Wells-In-Progress - Lease And Well Equipment (L&We)': \"Asset\",\n",
    "                  'Wells And Equipment - Idc': 'Asset',\n",
    "                  'Wells And Equipment - L&We': 'Asset',\n",
    "                  'Dry-Hole Expense - Idc': 'Liability',\n",
    "                  'Dry-Hole Expense - L&We': \"Liability\"}"
   ]
  },
  {
   "cell_type": "code",
   "execution_count": 116,
   "metadata": {},
   "outputs": [
    {
     "name": "stdout",
     "output_type": "stream",
     "text": [
      "Total Change in Assets: -6657200\n",
      "Total Change in Liabilities: -6657200\n",
      "Total changes in assets and liabilities equal, meaning there was no miscalculation!\n"
     ]
    }
   ],
   "source": [
    "totalAsset = 0\n",
    "totalLiability = 0\n",
    "for item in Change:\n",
    "    if lineItemMapping[item] == \"Asset\":\n",
    "        totalAsset += Change[item]\n",
    "    else:\n",
    "        totalLiability -= Change[item]\n",
    "print ('Total Change in Assets:', totalAsset)\n",
    "print ('Total Change in Liabilities:', totalLiability)\n",
    "if (totalAsset == totalLiability):\n",
    "    print ('Total changes in assets and liabilities equal, meaning there was no miscalculation!')"
   ]
  },
  {
   "cell_type": "code",
   "execution_count": null,
   "metadata": {},
   "outputs": [],
   "source": []
  }
 ],
 "metadata": {
  "kernelspec": {
   "display_name": "Python 3",
   "language": "python",
   "name": "python3"
  },
  "language_info": {
   "codemirror_mode": {
    "name": "ipython",
    "version": 3
   },
   "file_extension": ".py",
   "mimetype": "text/x-python",
   "name": "python",
   "nbconvert_exporter": "python",
   "pygments_lexer": "ipython3",
   "version": "3.7.3"
  }
 },
 "nbformat": 4,
 "nbformat_minor": 2
}
