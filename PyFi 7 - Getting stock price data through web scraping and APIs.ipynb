{
 "cells": [
  {
   "cell_type": "markdown",
   "metadata": {},
   "source": [
    "# Summary - Web Scraping and APIs\n",
    "\n",
    "In Python, if you think \"There must be an easier way to do this!\" then you are probably right.\n",
    "\n",
    "Below is an example of custom code to pull finance data. it uses the Python requests library and regular expressions to parse the pages.\n",
    "\n",
    "However, there is an API for this data through the [Pandas DataReader](https://pandas-datareader.readthedocs.io/en/latest/remote_data.html) or through Quandl.\n",
    "\n",
    "I prefer Quandl to PDR. It is more stable and has additional functions. To use Quandl, you need to register for a free account at www.quandl.com.\n",
    "\n",
    "# Tutorial Overview\n",
    "This tutorial is divided into 3 part:\n",
    "1. A custom web scraping solution (Not recommended)\n",
    "2. Example with Pandas DataReader\n",
    "3. Example with Quandl\n",
    "4. You're turn!"
   ]
  },
  {
   "cell_type": "code",
   "execution_count": null,
   "metadata": {},
   "outputs": [],
   "source": [
    "# https://flinhong.com/2017/10/30/query-yahoo-finance-historical-data-via-python-requests/\n",
    "\n",
    "import re\n",
    "import sys\n",
    "import time\n",
    "import datetime\n",
    "import requests\n",
    "import pandas as pd\n",
    "\n",
    "\n",
    "def get_cookie_value(r):\n",
    "    return {'B': r.cookies['B']}\n",
    "\n",
    "def get_page_data(symbol):\n",
    "    url = \"https://finance.yahoo.com/quote/%s/?p=%s\" % (symbol, symbol)\n",
    "    r = requests.get(url)\n",
    "    cookie = get_cookie_value(r)\n",
    "    lines = r.content.decode('unicode-escape').strip(). replace('}', '\\n')\n",
    "    return cookie, lines.split('\\n')\n",
    "\n",
    "def find_crumb_store(lines):\n",
    "    for l in lines:\n",
    "        if re.findall(r'CrumbStore', l):\n",
    "            return l\n",
    "    print(\"Did not find CrumbStore\")\n",
    "\n",
    "def split_crumb_store(v):\n",
    "    return v.split(':')[2].strip('\"')\n",
    "\n",
    "def get_cookie_crumb(symbol):\n",
    "    cookie, lines = get_page_data(symbol)\n",
    "    crumb = split_crumb_store(find_crumb_store(lines))\n",
    "    return cookie, crumb\n",
    "\n",
    "def get_data(symbol, start_date, end_date, cookie, crumb):\n",
    "    filename = '%s.csv' % (symbol)\n",
    "    url = \"https://query1.finance.yahoo.com/v7/finance/download/%s?period1=%s&period2=%s&interval=1d&events=history&crumb=%s\" % (symbol, start_date, end_date, crumb)\n",
    "    response = requests.get(url, cookies=cookie)\n",
    "    return response\n",
    "\n",
    "def get_now_epoch():\n",
    "    return int(time.time())\n",
    "\n",
    "def convert_to_dataframe(data, symbol):\n",
    "    data = data.content.decode(\"utf-8\").splitlines()\n",
    "    data = [i.strip(',') for i in data]\n",
    "    data = pd.DataFrame(data)\n",
    "    data = data[0].str.split(',', expand=True)\n",
    "    cols = data.iloc[0,:].values.tolist()\n",
    "    data.columns = cols\n",
    "    data = data[1:]\n",
    "    data['symbol'] = symbol\n",
    "    data['Date'] = pd.DatetimeIndex(data['Date'])\n",
    "    data[['Open','High','Low','Close','Adj Close','Volume']] = data[['Open','High','Low','Close','Adj Close','Volume']].astype(float)\n",
    "    return data\n",
    "\n",
    "def download_quotes(symbols):\n",
    "\n",
    "    if type(symbols)!=list:\n",
    "        symbols = [symbols]\n",
    "        \n",
    "    start_date = 0\n",
    "    end_date = get_now_epoch()\n",
    "    \n",
    "    stocks = []\n",
    "    for symbol in symbols:\n",
    "        cookie, crumb = get_cookie_crumb(symbol)\n",
    "        data = get_data(symbol, start_date, end_date, cookie, crumb)\n",
    "        stocks.append(convert_to_dataframe(data, symbol))\n",
    "        \n",
    "    return pd.concat(stocks, axis=0)\n"
   ]
  },
  {
   "cell_type": "code",
   "execution_count": null,
   "metadata": {},
   "outputs": [],
   "source": [
    "df = download_quotes(['AMZN'])\n",
    "df.head()"
   ]
  },
  {
   "cell_type": "markdown",
   "metadata": {},
   "source": [
    "# Example with Pandas DataReader"
   ]
  },
  {
   "cell_type": "code",
   "execution_count": null,
   "metadata": {},
   "outputs": [],
   "source": [
    "import pandas_datareader.data as web\n",
    "from config.quandl_config import QUANDL_API_KEY as api_key # file with my API key\n",
    "\n",
    "symbol = 'WIKI/AMZN'\n",
    "\n",
    "df = web.DataReader(symbol, 'quandl', api_key = api_key)\n",
    "df.tail()"
   ]
  },
  {
   "cell_type": "markdown",
   "metadata": {},
   "source": [
    "# Example with Quandl"
   ]
  },
  {
   "cell_type": "code",
   "execution_count": null,
   "metadata": {},
   "outputs": [],
   "source": [
    "import quandl\n",
    "from config.quandl_config import QUANDL_API_KEY as api_key # file with my API key\n",
    "\n",
    "df = quandl.get(\"WIKI/AMZN\", trim_start=\"1975-01-01\", authtoken=api_key)\n",
    "df.tail()"
   ]
  },
  {
   "cell_type": "code",
   "execution_count": null,
   "metadata": {},
   "outputs": [],
   "source": [
    "df.loc['2012-02-15']['Close']"
   ]
  },
  {
   "cell_type": "markdown",
   "metadata": {},
   "source": [
    "# Your Turn!\n"
   ]
  },
  {
   "cell_type": "markdown",
   "metadata": {},
   "source": [
    "1\\. What was the \"Open\" price of Amazon stock (AMZN) on February 15, 2012?"
   ]
  },
  {
   "cell_type": "code",
   "execution_count": null,
   "metadata": {},
   "outputs": [],
   "source": []
  },
  {
   "cell_type": "markdown",
   "metadata": {},
   "source": [
    "2\\. What was the highest volume of Amazon stock traded in one day?\n"
   ]
  },
  {
   "cell_type": "code",
   "execution_count": null,
   "metadata": {},
   "outputs": [],
   "source": []
  },
  {
   "cell_type": "markdown",
   "metadata": {},
   "source": [
    "3\\. On what day day did this occur?"
   ]
  },
  {
   "cell_type": "code",
   "execution_count": null,
   "metadata": {},
   "outputs": [],
   "source": []
  },
  {
   "cell_type": "markdown",
   "metadata": {},
   "source": [
    "4\\. What was Amazon's biggest one day stock growth in dollar terms? in percentage terms?"
   ]
  },
  {
   "cell_type": "code",
   "execution_count": null,
   "metadata": {},
   "outputs": [],
   "source": []
  },
  {
   "cell_type": "markdown",
   "metadata": {},
   "source": [
    "5\\. Create line chart showing Amazon stock price over time"
   ]
  },
  {
   "cell_type": "code",
   "execution_count": null,
   "metadata": {},
   "outputs": [],
   "source": []
  },
  {
   "cell_type": "markdown",
   "metadata": {},
   "source": [
    "6\\. Create line chart showing average monthly stock price of Amazon (AMZN) vs S&P 500 (^GSPC) since January 2000 using Adj Close\n",
    "\n",
    "hint: df['column'].dt.to_period(\"M\") can convert a date to a month"
   ]
  },
  {
   "cell_type": "code",
   "execution_count": null,
   "metadata": {},
   "outputs": [],
   "source": []
  },
  {
   "cell_type": "markdown",
   "metadata": {},
   "source": [
    "7\\. Create same chart in 2) but normalize it so that both stocks are set to 1.0 in January 2000"
   ]
  },
  {
   "cell_type": "code",
   "execution_count": null,
   "metadata": {},
   "outputs": [],
   "source": []
  },
  {
   "cell_type": "markdown",
   "metadata": {},
   "source": [
    "# Extensions\n",
    "\n",
    "This section lists some ideas for extending the tutorial that you may wish to explore.\n",
    "* Describe three examples when using APIs for data would be better than downloading data as spreadsheets.\n",
    "\n",
    "# Further Reading\n",
    "This section provides more resources on the topic if you are looking to go deeper.\n",
    "\n",
    "## Books\n",
    "* Python for Finance, by Yves Hilpisch. http://shop.oreilly.com/product/0636920032441.do\n",
    " * [Git Repo](https://github.com/yhilpisch/py4fi2nd)\n",
    "* Mastering Python for Finance,  James Ma Weiming. https://www.amazon.com/dp/1789346460/\n",
    " * [Git Repo](https://github.com/PacktPublishing/Mastering-Python-for-Finance-Second-Edition)\n",
    "* Python Finance Cookbook, Eryk Lewinson. https://www.packtpub.com/data/python-for-finance-cookbook\n",
    " * [Git Repo](https://github.com/erykml/Python-for-Finance-Cookbook)\n",
    "\n",
    "## APIs\n",
    "* Pandas DataReader. https://pandas-datareader.readthedocs.io/en/latest/ \n",
    "* Quandl. https://www.quandl.com/tools/python\n",
    "    \n",
    "# Summary\n",
    "\n",
    "In this tutorial, you were introduced to pulling data using web scraping, Pandas DataReader, and Quandl. Specifically, you learned:\n",
    "* How to use Pandas DataReader and Quandl to access stock data as a Pandas DataFrame.\n",
    "\n",
    "# Next\n",
    "\n",
    "Use the easiest option to get data and then take the data and do amazing analysis."
   ]
  },
  {
   "cell_type": "code",
   "execution_count": null,
   "metadata": {},
   "outputs": [],
   "source": []
  }
 ],
 "metadata": {
  "kernelspec": {
   "display_name": "Python 3",
   "language": "python",
   "name": "python3"
  },
  "language_info": {
   "codemirror_mode": {
    "name": "ipython",
    "version": 3
   },
   "file_extension": ".py",
   "mimetype": "text/x-python",
   "name": "python",
   "nbconvert_exporter": "python",
   "pygments_lexer": "ipython3",
   "version": "3.7.4"
  },
  "toc": {
   "base_numbering": 1,
   "nav_menu": {},
   "number_sections": true,
   "sideBar": true,
   "skip_h1_title": false,
   "title_cell": "Table of Contents",
   "title_sidebar": "Contents",
   "toc_cell": false,
   "toc_position": {},
   "toc_section_display": true,
   "toc_window_display": false
  }
 },
 "nbformat": 4,
 "nbformat_minor": 2
}
